{
  "cells": [
    {
      "cell_type": "markdown",
      "metadata": {
        "id": "R3Xf5UH8T5C8"
      },
      "source": [
        "# Mount Drive"
      ]
    },
    {
      "cell_type": "code",
      "source": [
        "# Mount Google Drive\n",
        "from google.colab import drive\n",
        "drive.mount('/content/drive')"
      ],
      "metadata": {
        "id": "5Yczhqi41FmV",
        "colab": {
          "base_uri": "https://localhost:8080/",
          "height": 329
        },
        "collapsed": true,
        "outputId": "cfece205-994c-4364-88e1-4b5f58a301cc"
      },
      "execution_count": 1,
      "outputs": [
        {
          "output_type": "error",
          "ename": "MessageError",
          "evalue": "Error: credential propagation was unsuccessful",
          "traceback": [
            "\u001b[0;31m---------------------------------------------------------------------------\u001b[0m",
            "\u001b[0;31mMessageError\u001b[0m                              Traceback (most recent call last)",
            "\u001b[0;32m<ipython-input-1-0f6d3514c078>\u001b[0m in \u001b[0;36m<cell line: 3>\u001b[0;34m()\u001b[0m\n\u001b[1;32m      1\u001b[0m \u001b[0;31m# Mount Google Drive\u001b[0m\u001b[0;34m\u001b[0m\u001b[0;34m\u001b[0m\u001b[0m\n\u001b[1;32m      2\u001b[0m \u001b[0;32mfrom\u001b[0m \u001b[0mgoogle\u001b[0m\u001b[0;34m.\u001b[0m\u001b[0mcolab\u001b[0m \u001b[0;32mimport\u001b[0m \u001b[0mdrive\u001b[0m\u001b[0;34m\u001b[0m\u001b[0;34m\u001b[0m\u001b[0m\n\u001b[0;32m----> 3\u001b[0;31m \u001b[0mdrive\u001b[0m\u001b[0;34m.\u001b[0m\u001b[0mmount\u001b[0m\u001b[0;34m(\u001b[0m\u001b[0;34m'/content/drive'\u001b[0m\u001b[0;34m)\u001b[0m\u001b[0;34m\u001b[0m\u001b[0;34m\u001b[0m\u001b[0m\n\u001b[0m",
            "\u001b[0;32m/usr/local/lib/python3.10/dist-packages/google/colab/drive.py\u001b[0m in \u001b[0;36mmount\u001b[0;34m(mountpoint, force_remount, timeout_ms, readonly)\u001b[0m\n\u001b[1;32m     98\u001b[0m \u001b[0;32mdef\u001b[0m \u001b[0mmount\u001b[0m\u001b[0;34m(\u001b[0m\u001b[0mmountpoint\u001b[0m\u001b[0;34m,\u001b[0m \u001b[0mforce_remount\u001b[0m\u001b[0;34m=\u001b[0m\u001b[0;32mFalse\u001b[0m\u001b[0;34m,\u001b[0m \u001b[0mtimeout_ms\u001b[0m\u001b[0;34m=\u001b[0m\u001b[0;36m120000\u001b[0m\u001b[0;34m,\u001b[0m \u001b[0mreadonly\u001b[0m\u001b[0;34m=\u001b[0m\u001b[0;32mFalse\u001b[0m\u001b[0;34m)\u001b[0m\u001b[0;34m:\u001b[0m\u001b[0;34m\u001b[0m\u001b[0;34m\u001b[0m\u001b[0m\n\u001b[1;32m     99\u001b[0m   \u001b[0;34m\"\"\"Mount your Google Drive at the specified mountpoint path.\"\"\"\u001b[0m\u001b[0;34m\u001b[0m\u001b[0;34m\u001b[0m\u001b[0m\n\u001b[0;32m--> 100\u001b[0;31m   return _mount(\n\u001b[0m\u001b[1;32m    101\u001b[0m       \u001b[0mmountpoint\u001b[0m\u001b[0;34m,\u001b[0m\u001b[0;34m\u001b[0m\u001b[0;34m\u001b[0m\u001b[0m\n\u001b[1;32m    102\u001b[0m       \u001b[0mforce_remount\u001b[0m\u001b[0;34m=\u001b[0m\u001b[0mforce_remount\u001b[0m\u001b[0;34m,\u001b[0m\u001b[0;34m\u001b[0m\u001b[0;34m\u001b[0m\u001b[0m\n",
            "\u001b[0;32m/usr/local/lib/python3.10/dist-packages/google/colab/drive.py\u001b[0m in \u001b[0;36m_mount\u001b[0;34m(mountpoint, force_remount, timeout_ms, ephemeral, readonly)\u001b[0m\n\u001b[1;32m    131\u001b[0m   )\n\u001b[1;32m    132\u001b[0m   \u001b[0;32mif\u001b[0m \u001b[0mephemeral\u001b[0m\u001b[0;34m:\u001b[0m\u001b[0;34m\u001b[0m\u001b[0;34m\u001b[0m\u001b[0m\n\u001b[0;32m--> 133\u001b[0;31m     _message.blocking_request(\n\u001b[0m\u001b[1;32m    134\u001b[0m         \u001b[0;34m'request_auth'\u001b[0m\u001b[0;34m,\u001b[0m\u001b[0;34m\u001b[0m\u001b[0;34m\u001b[0m\u001b[0m\n\u001b[1;32m    135\u001b[0m         \u001b[0mrequest\u001b[0m\u001b[0;34m=\u001b[0m\u001b[0;34m{\u001b[0m\u001b[0;34m'authType'\u001b[0m\u001b[0;34m:\u001b[0m \u001b[0;34m'dfs_ephemeral'\u001b[0m\u001b[0;34m}\u001b[0m\u001b[0;34m,\u001b[0m\u001b[0;34m\u001b[0m\u001b[0;34m\u001b[0m\u001b[0m\n",
            "\u001b[0;32m/usr/local/lib/python3.10/dist-packages/google/colab/_message.py\u001b[0m in \u001b[0;36mblocking_request\u001b[0;34m(request_type, request, timeout_sec, parent)\u001b[0m\n\u001b[1;32m    174\u001b[0m       \u001b[0mrequest_type\u001b[0m\u001b[0;34m,\u001b[0m \u001b[0mrequest\u001b[0m\u001b[0;34m,\u001b[0m \u001b[0mparent\u001b[0m\u001b[0;34m=\u001b[0m\u001b[0mparent\u001b[0m\u001b[0;34m,\u001b[0m \u001b[0mexpect_reply\u001b[0m\u001b[0;34m=\u001b[0m\u001b[0;32mTrue\u001b[0m\u001b[0;34m\u001b[0m\u001b[0;34m\u001b[0m\u001b[0m\n\u001b[1;32m    175\u001b[0m   )\n\u001b[0;32m--> 176\u001b[0;31m   \u001b[0;32mreturn\u001b[0m \u001b[0mread_reply_from_input\u001b[0m\u001b[0;34m(\u001b[0m\u001b[0mrequest_id\u001b[0m\u001b[0;34m,\u001b[0m \u001b[0mtimeout_sec\u001b[0m\u001b[0;34m)\u001b[0m\u001b[0;34m\u001b[0m\u001b[0;34m\u001b[0m\u001b[0m\n\u001b[0m",
            "\u001b[0;32m/usr/local/lib/python3.10/dist-packages/google/colab/_message.py\u001b[0m in \u001b[0;36mread_reply_from_input\u001b[0;34m(message_id, timeout_sec)\u001b[0m\n\u001b[1;32m    101\u001b[0m     ):\n\u001b[1;32m    102\u001b[0m       \u001b[0;32mif\u001b[0m \u001b[0;34m'error'\u001b[0m \u001b[0;32min\u001b[0m \u001b[0mreply\u001b[0m\u001b[0;34m:\u001b[0m\u001b[0;34m\u001b[0m\u001b[0;34m\u001b[0m\u001b[0m\n\u001b[0;32m--> 103\u001b[0;31m         \u001b[0;32mraise\u001b[0m \u001b[0mMessageError\u001b[0m\u001b[0;34m(\u001b[0m\u001b[0mreply\u001b[0m\u001b[0;34m[\u001b[0m\u001b[0;34m'error'\u001b[0m\u001b[0;34m]\u001b[0m\u001b[0;34m)\u001b[0m\u001b[0;34m\u001b[0m\u001b[0;34m\u001b[0m\u001b[0m\n\u001b[0m\u001b[1;32m    104\u001b[0m       \u001b[0;32mreturn\u001b[0m \u001b[0mreply\u001b[0m\u001b[0;34m.\u001b[0m\u001b[0mget\u001b[0m\u001b[0;34m(\u001b[0m\u001b[0;34m'data'\u001b[0m\u001b[0;34m,\u001b[0m \u001b[0;32mNone\u001b[0m\u001b[0;34m)\u001b[0m\u001b[0;34m\u001b[0m\u001b[0;34m\u001b[0m\u001b[0m\n\u001b[1;32m    105\u001b[0m \u001b[0;34m\u001b[0m\u001b[0m\n",
            "\u001b[0;31mMessageError\u001b[0m: Error: credential propagation was unsuccessful"
          ]
        }
      ]
    },
    {
      "cell_type": "markdown",
      "source": [],
      "metadata": {
        "id": "W3FtYqYoYEj9"
      }
    },
    {
      "cell_type": "markdown",
      "metadata": {
        "id": "wsWpJFthsGYZ"
      },
      "source": [
        "# Ignore Warning"
      ]
    },
    {
      "cell_type": "code",
      "execution_count": null,
      "metadata": {
        "id": "3js21ldgsH9j"
      },
      "outputs": [],
      "source": [
        "import warnings\n",
        "\n",
        "# Ignore all warnings\n",
        "warnings.filterwarnings(\"ignore\")"
      ]
    },
    {
      "cell_type": "markdown",
      "metadata": {
        "id": "fnA0X7PCAubW"
      },
      "source": [
        "# Install packages"
      ]
    },
    {
      "cell_type": "code",
      "execution_count": null,
      "metadata": {
        "colab": {
          "base_uri": "https://localhost:8080/"
        },
        "collapsed": true,
        "id": "3H6xXKCkAwL1",
        "outputId": "a2a040e7-47d4-4cd0-846c-796094db9da7"
      },
      "outputs": [
        {
          "name": "stdout",
          "output_type": "stream",
          "text": [
            "Requirement already satisfied: mne in /usr/local/lib/python3.10/dist-packages (1.7.1)\n",
            "Requirement already satisfied: decorator in /usr/local/lib/python3.10/dist-packages (from mne) (4.4.2)\n",
            "Requirement already satisfied: jinja2 in /usr/local/lib/python3.10/dist-packages (from mne) (3.1.4)\n",
            "Requirement already satisfied: lazy-loader>=0.3 in /usr/local/lib/python3.10/dist-packages (from mne) (0.4)\n",
            "Requirement already satisfied: matplotlib>=3.5.0 in /usr/local/lib/python3.10/dist-packages (from mne) (3.7.1)\n",
            "Requirement already satisfied: numpy>=1.21.2 in /usr/local/lib/python3.10/dist-packages (from mne) (1.25.2)\n",
            "Requirement already satisfied: packaging in /usr/local/lib/python3.10/dist-packages (from mne) (24.1)\n",
            "Requirement already satisfied: pooch>=1.5 in /usr/local/lib/python3.10/dist-packages (from mne) (1.8.2)\n",
            "Requirement already satisfied: scipy>=1.7.1 in /usr/local/lib/python3.10/dist-packages (from mne) (1.11.4)\n",
            "Requirement already satisfied: tqdm in /usr/local/lib/python3.10/dist-packages (from mne) (4.66.4)\n",
            "Requirement already satisfied: contourpy>=1.0.1 in /usr/local/lib/python3.10/dist-packages (from matplotlib>=3.5.0->mne) (1.2.1)\n",
            "Requirement already satisfied: cycler>=0.10 in /usr/local/lib/python3.10/dist-packages (from matplotlib>=3.5.0->mne) (0.12.1)\n",
            "Requirement already satisfied: fonttools>=4.22.0 in /usr/local/lib/python3.10/dist-packages (from matplotlib>=3.5.0->mne) (4.53.0)\n",
            "Requirement already satisfied: kiwisolver>=1.0.1 in /usr/local/lib/python3.10/dist-packages (from matplotlib>=3.5.0->mne) (1.4.5)\n",
            "Requirement already satisfied: pillow>=6.2.0 in /usr/local/lib/python3.10/dist-packages (from matplotlib>=3.5.0->mne) (9.4.0)\n",
            "Requirement already satisfied: pyparsing>=2.3.1 in /usr/local/lib/python3.10/dist-packages (from matplotlib>=3.5.0->mne) (3.1.2)\n",
            "Requirement already satisfied: python-dateutil>=2.7 in /usr/local/lib/python3.10/dist-packages (from matplotlib>=3.5.0->mne) (2.8.2)\n",
            "Requirement already satisfied: platformdirs>=2.5.0 in /usr/local/lib/python3.10/dist-packages (from pooch>=1.5->mne) (4.2.2)\n",
            "Requirement already satisfied: requests>=2.19.0 in /usr/local/lib/python3.10/dist-packages (from pooch>=1.5->mne) (2.31.0)\n",
            "Requirement already satisfied: MarkupSafe>=2.0 in /usr/local/lib/python3.10/dist-packages (from jinja2->mne) (2.1.5)\n",
            "Requirement already satisfied: six>=1.5 in /usr/local/lib/python3.10/dist-packages (from python-dateutil>=2.7->matplotlib>=3.5.0->mne) (1.16.0)\n",
            "Requirement already satisfied: charset-normalizer<4,>=2 in /usr/local/lib/python3.10/dist-packages (from requests>=2.19.0->pooch>=1.5->mne) (3.3.2)\n",
            "Requirement already satisfied: idna<4,>=2.5 in /usr/local/lib/python3.10/dist-packages (from requests>=2.19.0->pooch>=1.5->mne) (3.7)\n",
            "Requirement already satisfied: urllib3<3,>=1.21.1 in /usr/local/lib/python3.10/dist-packages (from requests>=2.19.0->pooch>=1.5->mne) (2.0.7)\n",
            "Requirement already satisfied: certifi>=2017.4.17 in /usr/local/lib/python3.10/dist-packages (from requests>=2.19.0->pooch>=1.5->mne) (2024.6.2)\n"
          ]
        }
      ],
      "source": [
        "!pip install mne"
      ]
    },
    {
      "cell_type": "markdown",
      "metadata": {
        "id": "3LQdQepn815q"
      },
      "source": [
        "# Create a Specific Folder in Google Drive"
      ]
    },
    {
      "cell_type": "code",
      "execution_count": 1,
      "metadata": {
        "id": "uFECHC-Q83Vm"
      },
      "outputs": [],
      "source": [
        "import os\n",
        "\n",
        "# Define the folder path\n",
        "folder_path = '/content/drive/MyDrive/MyOutput'\n",
        "\n",
        "# Create the folder if it doesn't exist\n",
        "if not os.path.exists(folder_path):\n",
        "    os.makedirs(folder_path)\n"
      ]
    },
    {
      "cell_type": "markdown",
      "metadata": {
        "id": "4mz5kvQu7WA_"
      },
      "source": [
        "# Model Training"
      ]
    },
    {
      "cell_type": "markdown",
      "source": [
        "## Load and Inspect the numpy File"
      ],
      "metadata": {
        "id": "Uzg73qRQFgqv"
      }
    },
    {
      "cell_type": "code",
      "execution_count": 21,
      "metadata": {
        "colab": {
          "base_uri": "https://localhost:8080/"
        },
        "collapsed": true,
        "id": "LXBGU4lKD7zs",
        "outputId": "6d6658fc-b5a6-4961-d930-6a3f35ec5a7e"
      },
      "outputs": [
        {
          "output_type": "stream",
          "name": "stdout",
          "text": [
            "['features', 'labels']\n",
            "features\n",
            "[[-1.90870635 -0.29377429 -0.40836448 ... -0.86416276 -0.67967745\n",
            "  -0.87754483]\n",
            " [ 0.19074051 -0.48813012  0.07289046 ...  0.14512032 -0.30840483\n",
            "  -0.93400415]\n",
            " [-1.54598618 -0.758312   -0.63416532 ... -0.41448695 -0.45770711\n",
            "  -0.81797092]\n",
            " ...\n",
            " [-1.24999741 -1.43994603 -0.81837836 ... -1.48299788 -1.37180942\n",
            "  -1.13992731]\n",
            " [-1.25960391 -1.37920593 -1.45633972 ... -1.50528596 -1.46905574\n",
            "  -1.02324979]\n",
            " [-1.31036863 -0.94014314 -0.756988   ... -1.08614067 -0.74169381\n",
            "  -1.04778939]]\n",
            "labels\n",
            "[[351788      1      1      1]\n",
            " [358546      1      1      1]\n",
            " [365390      3      1      1]\n",
            " ...\n",
            " [945512      2      1      3]\n",
            " [952253      2      1      3]\n",
            " [959079      1      1      3]]\n"
          ]
        }
      ],
      "source": [
        "import pandas as pd\n",
        "import numpy as np\n",
        "\n",
        "\n",
        "# Load the .npz file\n",
        "data = np.load('/content/CombinedFile_6Subjects_50_testing_CSP_Features.npz')\n",
        "\n",
        "# List all arrays in the .npz file\n",
        "print(data.files)\n",
        "\n",
        "# Access and print each array\n",
        "\n",
        "for array_name in data.files:\n",
        "    print(array_name)\n",
        "    print(data[array_name])\n",
        "\n",
        "\n",
        "\n",
        "\n"
      ]
    },
    {
      "cell_type": "code",
      "source": [
        "data['labels'].shape"
      ],
      "metadata": {
        "colab": {
          "base_uri": "https://localhost:8080/"
        },
        "id": "6SarxxSdxXIh",
        "outputId": "0ee7a906-402b-4ea7-b9fa-e3bac765eafe"
      },
      "execution_count": 22,
      "outputs": [
        {
          "output_type": "execute_result",
          "data": {
            "text/plain": [
              "(1316, 4)"
            ]
          },
          "metadata": {},
          "execution_count": 22
        }
      ]
    },
    {
      "cell_type": "code",
      "source": [
        "labels= data['labels']\n",
        "labels= labels[:, 1]\n",
        "labels.shape\n"
      ],
      "metadata": {
        "colab": {
          "base_uri": "https://localhost:8080/"
        },
        "id": "lmHbl4wT2Pkk",
        "outputId": "d89cd9dd-5e09-4525-cf63-8320b7ac37d7"
      },
      "execution_count": 23,
      "outputs": [
        {
          "output_type": "execute_result",
          "data": {
            "text/plain": [
              "(1316,)"
            ]
          },
          "metadata": {},
          "execution_count": 23
        }
      ]
    },
    {
      "cell_type": "code",
      "source": [
        "\n",
        "\n",
        "unique, frequency = np.unique(labels,\n",
        "                              return_counts = True)\n",
        "\n",
        "# convert both into one numpy array\n",
        "count = np.asarray((unique, frequency ))\n",
        "\n",
        "print(\"The values and their frequency are:\\n\",\n",
        "     count)"
      ],
      "metadata": {
        "colab": {
          "base_uri": "https://localhost:8080/"
        },
        "id": "btqxzOiAwm4F",
        "outputId": "cb003857-7c41-47a3-d3ed-4aa2f70fc8c4"
      },
      "execution_count": 24,
      "outputs": [
        {
          "output_type": "stream",
          "name": "stdout",
          "text": [
            "The values and their frequency are:\n",
            " [[  0   1   2   3]\n",
            " [329 329 329 329]]\n"
          ]
        }
      ]
    },
    {
      "cell_type": "markdown",
      "source": [
        "\n",
        "**Data Cleaning and preparation for numpy files**"
      ],
      "metadata": {
        "id": "Zffe_bbxFYML"
      }
    },
    {
      "cell_type": "code",
      "source": [
        "import numpy as np\n",
        "import pandas as pd\n",
        "from sklearn.preprocessing import StandardScaler\n",
        "from sklearn.model_selection import train_test_split\n",
        "import tensorflow as tf\n",
        "import joblib\n",
        "\n",
        "\n",
        "# Assuming 'Feature' and 'Label' are keys in the npz file\n",
        "features = data['features']\n",
        "\n",
        "# Function to clean feature strings\n",
        "def clean_feature_string(feature_str):\n",
        "    if isinstance(feature_str, str):\n",
        "        cleaned = feature_str.strip('[]').replace(' ', ',').replace('\\n', '')\n",
        "        return cleaned.split(',') if cleaned else []\n",
        "    return feature_str  # If it's already a list or array, return as is\n",
        "\n",
        "# Convert the feature strings to lists of floats\n",
        "cleaned_features = []\n",
        "for feature in features:\n",
        "    cleaned_feature = clean_feature_string(feature)\n",
        "    if len(cleaned_feature) == 0:\n",
        "        cleaned_feature = [0.0] * 10  # Handle empty features by filling with placeholder\n",
        "    cleaned_features.append([float(i) for i in cleaned_feature])\n",
        "\n",
        "# Convert cleaned_features to a numpy array\n",
        "X = np.array(cleaned_features)\n",
        "y=labels\n",
        "# Optional: Split the data into training and testing sets\n",
        "\n",
        "'''\n",
        "X_train, X_test, y_train, y_test = train_test_split(X, y, test_size=0.2, random_state=42)\n",
        "\n",
        "# Convert labels to categorical (if using TensorFlow/Keras)\n",
        "num_classes = len(np.unique(y))\n",
        "y_train = tf.keras.utils.to_categorical(y_train, num_classes=num_classes)\n",
        "y_test = tf.keras.utils.to_categorical(y_test, num_classes=num_classes)\n",
        "\n",
        "print(\"First few rows of scaled features:\")\n",
        "print(X_train[:5])\n",
        "print(\"First few labels (one-hot encoded):\")\n",
        "print(y_train[:5])\n",
        "\n",
        "print(\"Data cleaning and preparation complete.\")\n",
        "'''\n"
      ],
      "metadata": {
        "colab": {
          "base_uri": "https://localhost:8080/",
          "height": 89
        },
        "id": "Ec7WbHs7YzR0",
        "outputId": "9bcd5899-30b5-4acd-a4cb-fdea4991eb6d"
      },
      "execution_count": 25,
      "outputs": [
        {
          "output_type": "execute_result",
          "data": {
            "text/plain": [
              "'\\nX_train, X_test, y_train, y_test = train_test_split(X, y, test_size=0.2, random_state=42)\\n\\n# Convert labels to categorical (if using TensorFlow/Keras)\\nnum_classes = len(np.unique(y))\\ny_train = tf.keras.utils.to_categorical(y_train, num_classes=num_classes)\\ny_test = tf.keras.utils.to_categorical(y_test, num_classes=num_classes)\\n\\nprint(\"First few rows of scaled features:\")\\nprint(X_train[:5])\\nprint(\"First few labels (one-hot encoded):\")\\nprint(y_train[:5])\\n\\nprint(\"Data cleaning and preparation complete.\")\\n'"
            ],
            "application/vnd.google.colaboratory.intrinsic+json": {
              "type": "string"
            }
          },
          "metadata": {},
          "execution_count": 25
        }
      ]
    },
    {
      "cell_type": "code",
      "source": [
        "\n",
        "X.shape"
      ],
      "metadata": {
        "colab": {
          "base_uri": "https://localhost:8080/"
        },
        "id": "B3DpjxkMQXSc",
        "outputId": "4dafbf88-6640-46f9-c4a8-ed52cb5d8570"
      },
      "execution_count": 26,
      "outputs": [
        {
          "output_type": "execute_result",
          "data": {
            "text/plain": [
              "(1316, 50)"
            ]
          },
          "metadata": {},
          "execution_count": 26
        }
      ]
    },
    {
      "cell_type": "code",
      "source": [
        "\n",
        "\n",
        "X_train, X_test, y_train, y_test = train_test_split(X,y, test_size=0.2, random_state=42)"
      ],
      "metadata": {
        "id": "nC4CaRz-llMs"
      },
      "execution_count": 27,
      "outputs": []
    },
    {
      "cell_type": "code",
      "source": [
        "from sklearn.preprocessing import RobustScaler\n",
        "scaler=RobustScaler()\n",
        "features_resampled_scaled = scaler.fit_transform(X_train)\n",
        "features_test_scaled = scaler.transform(X_test)  # Use the same scaler to transform test data\n",
        "\n",
        "\n"
      ],
      "metadata": {
        "id": "evNOlXz3NLXh"
      },
      "execution_count": 28,
      "outputs": []
    },
    {
      "cell_type": "code",
      "source": [
        "features_resampled_scaled.shape"
      ],
      "metadata": {
        "colab": {
          "base_uri": "https://localhost:8080/"
        },
        "id": "3YSRGbyB8evr",
        "outputId": "64d613a2-7881-40a1-ee63-f1b8d80d9741"
      },
      "execution_count": 29,
      "outputs": [
        {
          "output_type": "execute_result",
          "data": {
            "text/plain": [
              "(1052, 50)"
            ]
          },
          "metadata": {},
          "execution_count": 29
        }
      ]
    },
    {
      "cell_type": "code",
      "source": [
        "\n",
        "num_classes = len(np.unique(y_train))\n",
        "labels_resampled = tf.keras.utils.to_categorical(y_train, num_classes=num_classes)\n",
        "labels_resampled"
      ],
      "metadata": {
        "colab": {
          "base_uri": "https://localhost:8080/"
        },
        "id": "d-wQoDakJuEP",
        "outputId": "d26cedd8-66d2-445f-c8f1-8d8ef3cb4ea4"
      },
      "execution_count": 30,
      "outputs": [
        {
          "output_type": "execute_result",
          "data": {
            "text/plain": [
              "array([[0., 0., 1., 0.],\n",
              "       [0., 1., 0., 0.],\n",
              "       [0., 0., 0., 1.],\n",
              "       ...,\n",
              "       [1., 0., 0., 0.],\n",
              "       [0., 1., 0., 0.],\n",
              "       [0., 0., 1., 0.]], dtype=float32)"
            ]
          },
          "metadata": {},
          "execution_count": 30
        }
      ]
    },
    {
      "cell_type": "code",
      "source": [
        "num_classes = len(np.unique(y_test))\n",
        "y_test = tf.keras.utils.to_categorical(y_test, num_classes=num_classes)\n",
        "y_test"
      ],
      "metadata": {
        "colab": {
          "base_uri": "https://localhost:8080/"
        },
        "id": "dFJTfxNGw9HQ",
        "outputId": "feaf6434-f25c-417c-8f60-3832df72c68c"
      },
      "execution_count": 31,
      "outputs": [
        {
          "output_type": "execute_result",
          "data": {
            "text/plain": [
              "array([[0., 0., 1., 0.],\n",
              "       [0., 0., 0., 1.],\n",
              "       [0., 0., 1., 0.],\n",
              "       ...,\n",
              "       [1., 0., 0., 0.],\n",
              "       [1., 0., 0., 0.],\n",
              "       [1., 0., 0., 0.]], dtype=float32)"
            ]
          },
          "metadata": {},
          "execution_count": 31
        }
      ]
    },
    {
      "cell_type": "markdown",
      "source": [
        "**CNN** **MODEL**"
      ],
      "metadata": {
        "id": "Fr41ZIDqcmVI"
      }
    },
    {
      "cell_type": "code",
      "source": [
        "\n",
        "import os\n",
        "import tensorflow as tf\n",
        "from tensorflow.keras.callbacks import EarlyStopping\n",
        "from tensorflow.keras.models import Sequential\n",
        "from tensorflow.keras.layers import Conv1D, MaxPooling1D, Flatten, Dense, Dropout, BatchNormalization,GlobalAveragePooling1D\n",
        "from tensorflow.keras.regularizers import l2\n",
        "import random\n",
        "\n",
        "\n",
        "\n",
        "np.random.seed(2017)\n",
        "\n",
        "\n",
        "# Reshape the features for CNN input\n",
        "X_train_reshaped = features_resampled_scaled.reshape(features_resampled_scaled.shape[0], features_resampled_scaled.shape[1], 1)\n",
        "X_test_reshaped = features_test_scaled.reshape(features_test_scaled.shape[0], features_test_scaled.shape[1], 1)\n",
        "\n",
        "\n",
        "\n",
        "model =  Sequential([\n",
        "    Conv1D(128, 3, activation='relu', input_shape=(X_train_reshaped.shape[1], 1),kernel_regularizer=l2(0.01)),\n",
        "    BatchNormalization(),\n",
        "    MaxPooling1D(pool_size=2),\n",
        "    Dropout(0.7),\n",
        "\n",
        "\n",
        "    Flatten(),\n",
        "    Dense(128, activation='relu'),\n",
        "    Dropout(0.7),\n",
        "    Dense(num_classes, activation='softmax')  # Adjust the output layer based on the number of classes\n",
        "])\n",
        "\n",
        "\n",
        "# Compile the model\n",
        "model.compile(optimizer='adam', loss='categorical_crossentropy', metrics=['accuracy'])\n",
        "\n",
        "from sklearn.utils.class_weight import compute_class_weight\n",
        "\n",
        "# Convert one-hot encoded labels back to original class labels\n",
        "y_train_classes = np.argmax(labels_resampled, axis=1)\n",
        "\n",
        "# Compute class weights\n",
        "\n",
        "class_weights = compute_class_weight('balanced', classes=np.unique(y_train_classes), y=y_train_classes)\n",
        "class_weights_dict = dict(enumerate(class_weights))\n",
        "\n",
        "# Adjust class weights moderately\n",
        "for key in class_weights_dict:\n",
        "    class_weights_dict[key] = class_weights_dict[key] * 1.25  # Increase weights moderately\n",
        "\n",
        "\n",
        "# Evaluate the model\n",
        "\n",
        "# Model summary\n",
        "model.summary()\n",
        "\n",
        "# Early stopping to prevent overfitting\n",
        "early_stopping = EarlyStopping(monitor='val_loss', patience=10, restore_best_weights=True)\n",
        "\n",
        "# Train the model\n",
        "history = model.fit(X_train_reshaped, labels_resampled, validation_data=(X_test_reshaped, y_test),\n",
        "                    epochs=200, batch_size=32, callbacks=[early_stopping],shuffle=False, verbose=2)#class_weight=class_weights_dict)\n",
        "\n",
        "# Define the file path where the model will be saved\n",
        "model_file_path = os.path.join(folder_path, 'tested_3_cnn_model')\n",
        "\n",
        "\n",
        "\n",
        "# Evaluate the model\n",
        "loss, accuracy = model.evaluate(X_test_reshaped, y_test, verbose=0)\n",
        "print(f'CNN Model Accuracy: {accuracy:.2%}')\n",
        "\n",
        "# Make predictions and evaluate\n",
        "y_pred = model.predict(X_test_reshaped)\n",
        "y_pred_classes = np.argmax(y_pred, axis=1)\n",
        "y_test_classes = np.argmax(y_test, axis=1)\n",
        "\n",
        "# Generate a classification report\n",
        "from sklearn.metrics import classification_report\n",
        "report = classification_report(y_test_classes, y_pred_classes)\n",
        "print('CNN Model Classification Report:')\n",
        "print(report)\n"
      ],
      "metadata": {
        "colab": {
          "base_uri": "https://localhost:8080/"
        },
        "id": "hSYh-DG8XtOZ",
        "outputId": "092bbb36-e563-4bac-ea3d-26f3dabb5611"
      },
      "execution_count": 32,
      "outputs": [
        {
          "output_type": "stream",
          "name": "stdout",
          "text": [
            "Model: \"sequential_2\"\n",
            "_________________________________________________________________\n",
            " Layer (type)                Output Shape              Param #   \n",
            "=================================================================\n",
            " conv1d_2 (Conv1D)           (None, 48, 128)           512       \n",
            "                                                                 \n",
            " batch_normalization_2 (Bat  (None, 48, 128)           512       \n",
            " chNormalization)                                                \n",
            "                                                                 \n",
            " max_pooling1d_2 (MaxPoolin  (None, 24, 128)           0         \n",
            " g1D)                                                            \n",
            "                                                                 \n",
            " dropout_4 (Dropout)         (None, 24, 128)           0         \n",
            "                                                                 \n",
            " flatten_2 (Flatten)         (None, 3072)              0         \n",
            "                                                                 \n",
            " dense_18 (Dense)            (None, 128)               393344    \n",
            "                                                                 \n",
            " dropout_5 (Dropout)         (None, 128)               0         \n",
            "                                                                 \n",
            " dense_19 (Dense)            (None, 4)                 516       \n",
            "                                                                 \n",
            "=================================================================\n",
            "Total params: 394884 (1.51 MB)\n",
            "Trainable params: 394628 (1.51 MB)\n",
            "Non-trainable params: 256 (1.00 KB)\n",
            "_________________________________________________________________\n",
            "Epoch 1/200\n",
            "33/33 - 2s - loss: 3.8786 - accuracy: 0.3004 - val_loss: 1.3688 - val_accuracy: 0.4091 - 2s/epoch - 54ms/step\n",
            "Epoch 2/200\n",
            "33/33 - 0s - loss: 2.0394 - accuracy: 0.4183 - val_loss: 1.3832 - val_accuracy: 0.4394 - 451ms/epoch - 14ms/step\n",
            "Epoch 3/200\n",
            "33/33 - 1s - loss: 1.4869 - accuracy: 0.4344 - val_loss: 1.3893 - val_accuracy: 0.4432 - 708ms/epoch - 21ms/step\n",
            "Epoch 4/200\n",
            "33/33 - 1s - loss: 1.2716 - accuracy: 0.4829 - val_loss: 1.3855 - val_accuracy: 0.4394 - 704ms/epoch - 21ms/step\n",
            "Epoch 5/200\n",
            "33/33 - 1s - loss: 1.1849 - accuracy: 0.5114 - val_loss: 1.3665 - val_accuracy: 0.5189 - 674ms/epoch - 20ms/step\n",
            "Epoch 6/200\n",
            "33/33 - 1s - loss: 1.1286 - accuracy: 0.5247 - val_loss: 1.3428 - val_accuracy: 0.5379 - 707ms/epoch - 21ms/step\n",
            "Epoch 7/200\n",
            "33/33 - 1s - loss: 1.1125 - accuracy: 0.5380 - val_loss: 1.3094 - val_accuracy: 0.6023 - 733ms/epoch - 22ms/step\n",
            "Epoch 8/200\n",
            "33/33 - 1s - loss: 1.0485 - accuracy: 0.5447 - val_loss: 1.2763 - val_accuracy: 0.6212 - 520ms/epoch - 16ms/step\n",
            "Epoch 9/200\n",
            "33/33 - 0s - loss: 1.0328 - accuracy: 0.5675 - val_loss: 1.2351 - val_accuracy: 0.6136 - 466ms/epoch - 14ms/step\n",
            "Epoch 10/200\n",
            "33/33 - 0s - loss: 1.0353 - accuracy: 0.5713 - val_loss: 1.1825 - val_accuracy: 0.6667 - 419ms/epoch - 13ms/step\n",
            "Epoch 11/200\n",
            "33/33 - 0s - loss: 0.9923 - accuracy: 0.5798 - val_loss: 1.1200 - val_accuracy: 0.6667 - 392ms/epoch - 12ms/step\n",
            "Epoch 12/200\n",
            "33/33 - 0s - loss: 0.9300 - accuracy: 0.6084 - val_loss: 1.0707 - val_accuracy: 0.6515 - 442ms/epoch - 13ms/step\n",
            "Epoch 13/200\n",
            "33/33 - 0s - loss: 0.9120 - accuracy: 0.6207 - val_loss: 0.9859 - val_accuracy: 0.6629 - 445ms/epoch - 13ms/step\n",
            "Epoch 14/200\n",
            "33/33 - 0s - loss: 0.9627 - accuracy: 0.5979 - val_loss: 0.9559 - val_accuracy: 0.6818 - 429ms/epoch - 13ms/step\n",
            "Epoch 15/200\n",
            "33/33 - 0s - loss: 0.8846 - accuracy: 0.6141 - val_loss: 0.9019 - val_accuracy: 0.6970 - 441ms/epoch - 13ms/step\n",
            "Epoch 16/200\n",
            "33/33 - 0s - loss: 0.8833 - accuracy: 0.6179 - val_loss: 0.8607 - val_accuracy: 0.7121 - 461ms/epoch - 14ms/step\n",
            "Epoch 17/200\n",
            "33/33 - 0s - loss: 0.8627 - accuracy: 0.6473 - val_loss: 0.8293 - val_accuracy: 0.6591 - 409ms/epoch - 12ms/step\n",
            "Epoch 18/200\n",
            "33/33 - 0s - loss: 0.8542 - accuracy: 0.6388 - val_loss: 0.8305 - val_accuracy: 0.6553 - 414ms/epoch - 13ms/step\n",
            "Epoch 19/200\n",
            "33/33 - 0s - loss: 0.8064 - accuracy: 0.6511 - val_loss: 0.8190 - val_accuracy: 0.6629 - 462ms/epoch - 14ms/step\n",
            "Epoch 20/200\n",
            "33/33 - 0s - loss: 0.7995 - accuracy: 0.6616 - val_loss: 0.7699 - val_accuracy: 0.6818 - 399ms/epoch - 12ms/step\n",
            "Epoch 21/200\n",
            "33/33 - 0s - loss: 0.7888 - accuracy: 0.6587 - val_loss: 0.7559 - val_accuracy: 0.6932 - 476ms/epoch - 14ms/step\n",
            "Epoch 22/200\n",
            "33/33 - 0s - loss: 0.8076 - accuracy: 0.6540 - val_loss: 0.7426 - val_accuracy: 0.7159 - 457ms/epoch - 14ms/step\n",
            "Epoch 23/200\n",
            "33/33 - 0s - loss: 0.8499 - accuracy: 0.6502 - val_loss: 0.7527 - val_accuracy: 0.7273 - 429ms/epoch - 13ms/step\n",
            "Epoch 24/200\n",
            "33/33 - 0s - loss: 0.7777 - accuracy: 0.6616 - val_loss: 0.7414 - val_accuracy: 0.6932 - 422ms/epoch - 13ms/step\n",
            "Epoch 25/200\n",
            "33/33 - 0s - loss: 0.7227 - accuracy: 0.6939 - val_loss: 0.7242 - val_accuracy: 0.7159 - 414ms/epoch - 13ms/step\n",
            "Epoch 26/200\n",
            "33/33 - 0s - loss: 0.8168 - accuracy: 0.6473 - val_loss: 0.7474 - val_accuracy: 0.7159 - 449ms/epoch - 14ms/step\n",
            "Epoch 27/200\n",
            "33/33 - 0s - loss: 0.7400 - accuracy: 0.6806 - val_loss: 0.7132 - val_accuracy: 0.7159 - 400ms/epoch - 12ms/step\n",
            "Epoch 28/200\n",
            "33/33 - 0s - loss: 0.7442 - accuracy: 0.6806 - val_loss: 0.7156 - val_accuracy: 0.7121 - 432ms/epoch - 13ms/step\n",
            "Epoch 29/200\n",
            "33/33 - 0s - loss: 0.7360 - accuracy: 0.6987 - val_loss: 0.7193 - val_accuracy: 0.7273 - 456ms/epoch - 14ms/step\n",
            "Epoch 30/200\n",
            "33/33 - 0s - loss: 0.6866 - accuracy: 0.7082 - val_loss: 0.7066 - val_accuracy: 0.7045 - 454ms/epoch - 14ms/step\n",
            "Epoch 31/200\n",
            "33/33 - 1s - loss: 0.6922 - accuracy: 0.6930 - val_loss: 0.7204 - val_accuracy: 0.7273 - 641ms/epoch - 19ms/step\n",
            "Epoch 32/200\n",
            "33/33 - 1s - loss: 0.7427 - accuracy: 0.6911 - val_loss: 0.7255 - val_accuracy: 0.7197 - 721ms/epoch - 22ms/step\n",
            "Epoch 33/200\n",
            "33/33 - 1s - loss: 0.6791 - accuracy: 0.7053 - val_loss: 0.7067 - val_accuracy: 0.7348 - 689ms/epoch - 21ms/step\n",
            "Epoch 34/200\n",
            "33/33 - 1s - loss: 0.7149 - accuracy: 0.6882 - val_loss: 0.7039 - val_accuracy: 0.7197 - 707ms/epoch - 21ms/step\n",
            "Epoch 35/200\n",
            "33/33 - 1s - loss: 0.6915 - accuracy: 0.6977 - val_loss: 0.6963 - val_accuracy: 0.7159 - 706ms/epoch - 21ms/step\n",
            "Epoch 36/200\n",
            "33/33 - 1s - loss: 0.6553 - accuracy: 0.7300 - val_loss: 0.6720 - val_accuracy: 0.7311 - 629ms/epoch - 19ms/step\n",
            "Epoch 37/200\n",
            "33/33 - 1s - loss: 0.6723 - accuracy: 0.7091 - val_loss: 0.6645 - val_accuracy: 0.7614 - 863ms/epoch - 26ms/step\n",
            "Epoch 38/200\n",
            "33/33 - 1s - loss: 0.6253 - accuracy: 0.7224 - val_loss: 0.6646 - val_accuracy: 0.7424 - 547ms/epoch - 17ms/step\n",
            "Epoch 39/200\n",
            "33/33 - 0s - loss: 0.6592 - accuracy: 0.7215 - val_loss: 0.6818 - val_accuracy: 0.7159 - 440ms/epoch - 13ms/step\n",
            "Epoch 40/200\n",
            "33/33 - 0s - loss: 0.6224 - accuracy: 0.7310 - val_loss: 0.6936 - val_accuracy: 0.7348 - 408ms/epoch - 12ms/step\n",
            "Epoch 41/200\n",
            "33/33 - 0s - loss: 0.6240 - accuracy: 0.7367 - val_loss: 0.6994 - val_accuracy: 0.7311 - 453ms/epoch - 14ms/step\n",
            "Epoch 42/200\n",
            "33/33 - 0s - loss: 0.6301 - accuracy: 0.7329 - val_loss: 0.7016 - val_accuracy: 0.7348 - 460ms/epoch - 14ms/step\n",
            "Epoch 43/200\n",
            "33/33 - 0s - loss: 0.6663 - accuracy: 0.7205 - val_loss: 0.6870 - val_accuracy: 0.7197 - 436ms/epoch - 13ms/step\n",
            "Epoch 44/200\n",
            "33/33 - 0s - loss: 0.6440 - accuracy: 0.7120 - val_loss: 0.6752 - val_accuracy: 0.7386 - 393ms/epoch - 12ms/step\n",
            "Epoch 45/200\n",
            "33/33 - 0s - loss: 0.6281 - accuracy: 0.7215 - val_loss: 0.6799 - val_accuracy: 0.7386 - 413ms/epoch - 13ms/step\n",
            "Epoch 46/200\n",
            "33/33 - 0s - loss: 0.6450 - accuracy: 0.7262 - val_loss: 0.6797 - val_accuracy: 0.7386 - 445ms/epoch - 13ms/step\n",
            "Epoch 47/200\n",
            "33/33 - 0s - loss: 0.6827 - accuracy: 0.7186 - val_loss: 0.6891 - val_accuracy: 0.7386 - 430ms/epoch - 13ms/step\n",
            "CNN Model Accuracy: 76.14%\n",
            "9/9 [==============================] - 0s 5ms/step\n",
            "CNN Model Classification Report:\n",
            "              precision    recall  f1-score   support\n",
            "\n",
            "           0       0.88      0.75      0.81        71\n",
            "           1       0.77      0.79      0.78        70\n",
            "           2       0.77      0.72      0.75        61\n",
            "           3       0.64      0.79      0.71        62\n",
            "\n",
            "    accuracy                           0.76       264\n",
            "   macro avg       0.77      0.76      0.76       264\n",
            "weighted avg       0.77      0.76      0.76       264\n",
            "\n"
          ]
        }
      ]
    },
    {
      "cell_type": "code",
      "source": [
        "import matplotlib.pyplot as plt\n",
        "plt.plot(history.history['loss'],label='train')\n",
        "plt.plot(history.history['val_loss'],label='test')\n",
        "plt.legend()\n",
        "plt.show()\n"
      ],
      "metadata": {
        "colab": {
          "base_uri": "https://localhost:8080/",
          "height": 430
        },
        "id": "PaEWarM-5PU0",
        "outputId": "df609949-5a18-411a-a758-56815eb57e01"
      },
      "execution_count": 39,
      "outputs": [
        {
          "output_type": "display_data",
          "data": {
            "text/plain": [
              "<Figure size 640x480 with 1 Axes>"
            ],
            "image/png": "[encoded data removed]"
          },
          "metadata": {}
        }
      ]
    },
    {
      "cell_type": "markdown",
      "metadata": {
        "id": "51EeF9mFWPEq"
      },
      "source": [
        "# Updated model"
      ]
    },
    {
      "cell_type": "markdown",
      "metadata": {
        "id": "nFWYKwnOuzK_"
      },
      "source": [
        "## Save the model"
      ]
    },
    {
      "cell_type": "code",
      "execution_count": 33,
      "metadata": {
        "id": "UMHb_x6Duy7E"
      },
      "outputs": [],
      "source": [
        "# Save the model\n",
        "model.save(model_file_path)\n"
      ]
    },
    {
      "cell_type": "markdown",
      "metadata": {
        "id": "u88reoKtvSkI"
      },
      "source": [
        "## K-fold |Model 1"
      ]
    },
    {
      "cell_type": "code",
      "source": [
        "import numpy as np\n",
        "import os\n",
        "from sklearn.model_selection import KFold\n",
        "from sklearn.metrics import classification_report\n",
        "import tensorflow as tf\n",
        "from tensorflow.keras.callbacks import EarlyStopping\n",
        "from tensorflow.keras.models import Sequential\n",
        "from tensorflow.keras.layers import Conv1D, MaxPooling1D, Flatten, Dense, Dropout, BatchNormalization\n",
        "from tensorflow.keras.regularizers import l2\n",
        "from sklearn.utils.class_weight import compute_class_weight\n",
        "\n",
        "# Ensure your data is already loaded and prepared\n",
        "\n",
        "# K-Fold Cross Validation\n",
        "num_folds = 5\n",
        "kf = KFold(n_splits=num_folds, shuffle=True, random_state=42)\n",
        "\n",
        "# Define arrays to store results\n",
        "fold_no = 1\n",
        "losses = []\n",
        "accuracies = []\n",
        "\n",
        "X = features_resampled_scaled\n",
        "y = labels_resampled\n",
        "\n",
        "for train_index, val_index in kf.split(X):\n",
        "    X_train_fold, X_val_fold = X[train_index], X[val_index]\n",
        "    y_train_fold, y_val_fold = y[train_index], y[val_index]\n",
        "\n",
        "    # Reshape for CNN input\n",
        "    X_train_fold = X_train_fold.reshape(X_train_fold.shape[0], X_train_fold.shape[1], 1)\n",
        "    X_val_fold = X_val_fold.reshape(X_val_fold.shape[0], X_val_fold.shape[1], 1)\n",
        "\n",
        "    # Convert one-hot encoded labels back to original class labels for class weight calculation\n",
        "    y_train_classes = np.argmax(y_train_fold, axis=1)\n",
        "\n",
        "    # Compute class weights\n",
        "    class_weights = compute_class_weight('balanced', classes=np.unique(y_train_classes), y=y_train_classes)\n",
        "    class_weights_dict = dict(enumerate(class_weights))\n",
        "\n",
        "    # Adjust class weights moderately\n",
        "    for key in class_weights_dict:\n",
        "        class_weights_dict[key] = class_weights_dict[key] * 1.25\n",
        "\n",
        "    # Define the CNN model\n",
        "    model = Sequential([\n",
        "        Conv1D(128, 3, activation='relu', input_shape=(X_train_fold.shape[1], 1), kernel_regularizer=l2(0.01)),\n",
        "        BatchNormalization(),\n",
        "        MaxPooling1D(pool_size=2),\n",
        "        Dropout(0.7),\n",
        "        Flatten(),\n",
        "        Dense(128, activation='relu'),\n",
        "        Dropout(0.7),\n",
        "        Dense(y_train_fold.shape[1], activation='softmax')  # Adjust the output layer based on the number of classes\n",
        "    ])\n",
        "\n",
        "    # Compile the model\n",
        "    model.compile(optimizer='adam', loss='categorical_crossentropy', metrics=['accuracy'])\n",
        "\n",
        "    # Early stopping to prevent overfitting\n",
        "    early_stopping = EarlyStopping(monitor='val_loss', patience=10, restore_best_weights=True)\n",
        "\n",
        "    # Train the model\n",
        "    history = model.fit(X_train_fold, y_train_fold, validation_data=(X_val_fold, y_val_fold),\n",
        "                        epochs=100, batch_size=32, callbacks=[early_stopping], verbose=2, class_weight=class_weights_dict)\n",
        "\n",
        "    # Evaluate the model\n",
        "    loss, accuracy = model.evaluate(X_val_fold, y_val_fold, verbose=0)\n",
        "    print(f'Fold {fold_no} - Loss: {loss:.4f}, Accuracy: {accuracy:.2%}')\n",
        "\n",
        "    losses.append(loss)\n",
        "    accuracies.append(accuracy)\n",
        "\n",
        "    fold_no += 1\n",
        "\n",
        "# Print average scores\n",
        "print(f'Average Loss across all folds: {np.mean(losses):.4f}')\n",
        "print(f'Average Accuracy across all folds: {np.mean(accuracies):.2%}')\n"
      ],
      "metadata": {
        "colab": {
          "base_uri": "https://localhost:8080/"
        },
        "id": "863UGOxxWxed",
        "outputId": "02753066-9749-4f94-fc9a-f3f311af7f6c"
      },
      "execution_count": 118,
      "outputs": [
        {
          "output_type": "stream",
          "name": "stdout",
          "text": [
            "Epoch 1/100\n",
            "27/27 - 2s - loss: 5.1692 - accuracy: 0.2723 - val_loss: 1.3780 - val_accuracy: 0.4550 - 2s/epoch - 87ms/step\n",
            "Epoch 2/100\n",
            "27/27 - 0s - loss: 2.7787 - accuracy: 0.4067 - val_loss: 1.3855 - val_accuracy: 0.4502 - 182ms/epoch - 7ms/step\n",
            "Epoch 3/100\n",
            "27/27 - 0s - loss: 2.0041 - accuracy: 0.4185 - val_loss: 1.3900 - val_accuracy: 0.4171 - 216ms/epoch - 8ms/step\n",
            "Epoch 4/100\n",
            "27/27 - 0s - loss: 1.7847 - accuracy: 0.4685 - val_loss: 1.3900 - val_accuracy: 0.4171 - 195ms/epoch - 7ms/step\n",
            "Epoch 5/100\n",
            "27/27 - 0s - loss: 1.5345 - accuracy: 0.4863 - val_loss: 1.3831 - val_accuracy: 0.4360 - 134ms/epoch - 5ms/step\n",
            "Epoch 6/100\n",
            "27/27 - 0s - loss: 1.4260 - accuracy: 0.5125 - val_loss: 1.3692 - val_accuracy: 0.4597 - 141ms/epoch - 5ms/step\n",
            "Epoch 7/100\n",
            "27/27 - 0s - loss: 1.3823 - accuracy: 0.5279 - val_loss: 1.3454 - val_accuracy: 0.4929 - 146ms/epoch - 5ms/step\n",
            "Epoch 8/100\n",
            "27/27 - 0s - loss: 1.3163 - accuracy: 0.5541 - val_loss: 1.3216 - val_accuracy: 0.5166 - 137ms/epoch - 5ms/step\n",
            "Epoch 9/100\n",
            "27/27 - 0s - loss: 1.2490 - accuracy: 0.5565 - val_loss: 1.2785 - val_accuracy: 0.5450 - 142ms/epoch - 5ms/step\n",
            "Epoch 10/100\n",
            "27/27 - 0s - loss: 1.2176 - accuracy: 0.6052 - val_loss: 1.2537 - val_accuracy: 0.5640 - 154ms/epoch - 6ms/step\n",
            "Epoch 11/100\n",
            "27/27 - 0s - loss: 1.1978 - accuracy: 0.5731 - val_loss: 1.2261 - val_accuracy: 0.5545 - 140ms/epoch - 5ms/step\n",
            "Epoch 12/100\n",
            "27/27 - 0s - loss: 1.1852 - accuracy: 0.5957 - val_loss: 1.1930 - val_accuracy: 0.5735 - 134ms/epoch - 5ms/step\n",
            "Epoch 13/100\n",
            "27/27 - 0s - loss: 1.1812 - accuracy: 0.5826 - val_loss: 1.1314 - val_accuracy: 0.5640 - 147ms/epoch - 5ms/step\n",
            "Epoch 14/100\n",
            "27/27 - 0s - loss: 1.1076 - accuracy: 0.6171 - val_loss: 1.1068 - val_accuracy: 0.5592 - 148ms/epoch - 5ms/step\n",
            "Epoch 15/100\n",
            "27/27 - 0s - loss: 1.1602 - accuracy: 0.5922 - val_loss: 1.0845 - val_accuracy: 0.5972 - 135ms/epoch - 5ms/step\n",
            "Epoch 16/100\n",
            "27/27 - 0s - loss: 1.0781 - accuracy: 0.6468 - val_loss: 1.0361 - val_accuracy: 0.6019 - 141ms/epoch - 5ms/step\n",
            "Epoch 17/100\n",
            "27/27 - 0s - loss: 1.1215 - accuracy: 0.6136 - val_loss: 0.9939 - val_accuracy: 0.6351 - 144ms/epoch - 5ms/step\n",
            "Epoch 18/100\n",
            "27/27 - 0s - loss: 1.0972 - accuracy: 0.6040 - val_loss: 0.9575 - val_accuracy: 0.6351 - 139ms/epoch - 5ms/step\n",
            "Epoch 19/100\n",
            "27/27 - 0s - loss: 1.0587 - accuracy: 0.6302 - val_loss: 0.9350 - val_accuracy: 0.6303 - 138ms/epoch - 5ms/step\n",
            "Epoch 20/100\n",
            "27/27 - 0s - loss: 0.9843 - accuracy: 0.6801 - val_loss: 0.9221 - val_accuracy: 0.6398 - 150ms/epoch - 6ms/step\n",
            "Epoch 21/100\n",
            "27/27 - 0s - loss: 1.0642 - accuracy: 0.6373 - val_loss: 0.9092 - val_accuracy: 0.6445 - 154ms/epoch - 6ms/step\n",
            "Epoch 22/100\n",
            "27/27 - 0s - loss: 1.0419 - accuracy: 0.6492 - val_loss: 0.8821 - val_accuracy: 0.6445 - 136ms/epoch - 5ms/step\n",
            "Epoch 23/100\n",
            "27/27 - 0s - loss: 0.9542 - accuracy: 0.6766 - val_loss: 0.8502 - val_accuracy: 0.6682 - 144ms/epoch - 5ms/step\n",
            "Epoch 24/100\n",
            "27/27 - 0s - loss: 1.0014 - accuracy: 0.6647 - val_loss: 0.8357 - val_accuracy: 0.6872 - 144ms/epoch - 5ms/step\n",
            "Epoch 25/100\n",
            "27/27 - 0s - loss: 0.9839 - accuracy: 0.6671 - val_loss: 0.8396 - val_accuracy: 0.6540 - 131ms/epoch - 5ms/step\n",
            "Epoch 26/100\n",
            "27/27 - 0s - loss: 0.9665 - accuracy: 0.6635 - val_loss: 0.8204 - val_accuracy: 0.6588 - 139ms/epoch - 5ms/step\n",
            "Epoch 27/100\n",
            "27/27 - 0s - loss: 0.9422 - accuracy: 0.6671 - val_loss: 0.8133 - val_accuracy: 0.6445 - 157ms/epoch - 6ms/step\n",
            "Epoch 28/100\n",
            "27/27 - 0s - loss: 0.9554 - accuracy: 0.6813 - val_loss: 0.7995 - val_accuracy: 0.6777 - 149ms/epoch - 6ms/step\n",
            "Epoch 29/100\n",
            "27/27 - 0s - loss: 0.9886 - accuracy: 0.6564 - val_loss: 0.8139 - val_accuracy: 0.6730 - 137ms/epoch - 5ms/step\n",
            "Epoch 30/100\n",
            "27/27 - 0s - loss: 0.9510 - accuracy: 0.6754 - val_loss: 0.8042 - val_accuracy: 0.6588 - 134ms/epoch - 5ms/step\n",
            "Epoch 31/100\n",
            "27/27 - 0s - loss: 0.8868 - accuracy: 0.6908 - val_loss: 0.7805 - val_accuracy: 0.6493 - 136ms/epoch - 5ms/step\n",
            "Epoch 32/100\n",
            "27/27 - 0s - loss: 0.9195 - accuracy: 0.6968 - val_loss: 0.7625 - val_accuracy: 0.6540 - 140ms/epoch - 5ms/step\n",
            "Epoch 33/100\n",
            "27/27 - 0s - loss: 0.7990 - accuracy: 0.7301 - val_loss: 0.7558 - val_accuracy: 0.6777 - 137ms/epoch - 5ms/step\n",
            "Epoch 34/100\n",
            "27/27 - 0s - loss: 0.8546 - accuracy: 0.6885 - val_loss: 0.7343 - val_accuracy: 0.6872 - 157ms/epoch - 6ms/step\n",
            "Epoch 35/100\n",
            "27/27 - 0s - loss: 0.8953 - accuracy: 0.6885 - val_loss: 0.7527 - val_accuracy: 0.6777 - 147ms/epoch - 5ms/step\n",
            "Epoch 36/100\n",
            "27/27 - 0s - loss: 0.8705 - accuracy: 0.7122 - val_loss: 0.7373 - val_accuracy: 0.6919 - 133ms/epoch - 5ms/step\n",
            "Epoch 37/100\n",
            "27/27 - 0s - loss: 0.8832 - accuracy: 0.6861 - val_loss: 0.7178 - val_accuracy: 0.6825 - 149ms/epoch - 6ms/step\n",
            "Epoch 38/100\n",
            "27/27 - 0s - loss: 0.8846 - accuracy: 0.6944 - val_loss: 0.7381 - val_accuracy: 0.6919 - 138ms/epoch - 5ms/step\n",
            "Epoch 39/100\n",
            "27/27 - 0s - loss: 0.8310 - accuracy: 0.7099 - val_loss: 0.7287 - val_accuracy: 0.7014 - 137ms/epoch - 5ms/step\n",
            "Epoch 40/100\n",
            "27/27 - 0s - loss: 0.8289 - accuracy: 0.7182 - val_loss: 0.7201 - val_accuracy: 0.7014 - 139ms/epoch - 5ms/step\n",
            "Epoch 41/100\n",
            "27/27 - 0s - loss: 0.8300 - accuracy: 0.7134 - val_loss: 0.7205 - val_accuracy: 0.7204 - 150ms/epoch - 6ms/step\n",
            "Epoch 42/100\n",
            "27/27 - 0s - loss: 0.8285 - accuracy: 0.7027 - val_loss: 0.7335 - val_accuracy: 0.6872 - 139ms/epoch - 5ms/step\n",
            "Epoch 43/100\n",
            "27/27 - 0s - loss: 0.8188 - accuracy: 0.7241 - val_loss: 0.7240 - val_accuracy: 0.6919 - 137ms/epoch - 5ms/step\n",
            "Epoch 44/100\n",
            "27/27 - 0s - loss: 0.8028 - accuracy: 0.7348 - val_loss: 0.6969 - val_accuracy: 0.7062 - 142ms/epoch - 5ms/step\n",
            "Epoch 45/100\n",
            "27/27 - 0s - loss: 0.8080 - accuracy: 0.7182 - val_loss: 0.6987 - val_accuracy: 0.7062 - 143ms/epoch - 5ms/step\n",
            "Epoch 46/100\n",
            "27/27 - 0s - loss: 0.7958 - accuracy: 0.7277 - val_loss: 0.6832 - val_accuracy: 0.7062 - 135ms/epoch - 5ms/step\n",
            "Epoch 47/100\n",
            "27/27 - 0s - loss: 0.7427 - accuracy: 0.7337 - val_loss: 0.6846 - val_accuracy: 0.7014 - 139ms/epoch - 5ms/step\n",
            "Epoch 48/100\n",
            "27/27 - 0s - loss: 0.7126 - accuracy: 0.7598 - val_loss: 0.6836 - val_accuracy: 0.7014 - 142ms/epoch - 5ms/step\n",
            "Epoch 49/100\n",
            "27/27 - 0s - loss: 0.7670 - accuracy: 0.7372 - val_loss: 0.6659 - val_accuracy: 0.6872 - 149ms/epoch - 6ms/step\n",
            "Epoch 50/100\n",
            "27/27 - 0s - loss: 0.7648 - accuracy: 0.7408 - val_loss: 0.6649 - val_accuracy: 0.7156 - 137ms/epoch - 5ms/step\n",
            "Epoch 51/100\n",
            "27/27 - 0s - loss: 0.7958 - accuracy: 0.7348 - val_loss: 0.6848 - val_accuracy: 0.7014 - 142ms/epoch - 5ms/step\n",
            "Epoch 52/100\n",
            "27/27 - 0s - loss: 0.7271 - accuracy: 0.7598 - val_loss: 0.7000 - val_accuracy: 0.6967 - 134ms/epoch - 5ms/step\n",
            "Epoch 53/100\n",
            "27/27 - 0s - loss: 0.7733 - accuracy: 0.7360 - val_loss: 0.6887 - val_accuracy: 0.6872 - 136ms/epoch - 5ms/step\n",
            "Epoch 54/100\n",
            "27/27 - 0s - loss: 0.7579 - accuracy: 0.7444 - val_loss: 0.7069 - val_accuracy: 0.6825 - 141ms/epoch - 5ms/step\n",
            "Epoch 55/100\n",
            "27/27 - 0s - loss: 0.7818 - accuracy: 0.7396 - val_loss: 0.6777 - val_accuracy: 0.7014 - 136ms/epoch - 5ms/step\n",
            "Epoch 56/100\n",
            "27/27 - 0s - loss: 0.7770 - accuracy: 0.7384 - val_loss: 0.6954 - val_accuracy: 0.7062 - 139ms/epoch - 5ms/step\n",
            "Epoch 57/100\n",
            "27/27 - 0s - loss: 0.7367 - accuracy: 0.7467 - val_loss: 0.6818 - val_accuracy: 0.7014 - 139ms/epoch - 5ms/step\n",
            "Epoch 58/100\n",
            "27/27 - 0s - loss: 0.7120 - accuracy: 0.7562 - val_loss: 0.6745 - val_accuracy: 0.7062 - 138ms/epoch - 5ms/step\n",
            "Epoch 59/100\n",
            "27/27 - 0s - loss: 0.7843 - accuracy: 0.7360 - val_loss: 0.6935 - val_accuracy: 0.7062 - 136ms/epoch - 5ms/step\n",
            "Epoch 60/100\n",
            "27/27 - 0s - loss: 0.7425 - accuracy: 0.7610 - val_loss: 0.6820 - val_accuracy: 0.7062 - 142ms/epoch - 5ms/step\n",
            "Fold 1 - Loss: 0.6649, Accuracy: 71.56%\n",
            "Epoch 1/100\n",
            "27/27 - 2s - loss: 5.0155 - accuracy: 0.3210 - val_loss: 1.3526 - val_accuracy: 0.4123 - 2s/epoch - 66ms/step\n",
            "Epoch 2/100\n",
            "27/27 - 0s - loss: 3.2818 - accuracy: 0.4067 - val_loss: 1.3666 - val_accuracy: 0.5071 - 210ms/epoch - 8ms/step\n",
            "Epoch 3/100\n",
            "27/27 - 0s - loss: 2.3479 - accuracy: 0.4293 - val_loss: 1.3707 - val_accuracy: 0.4313 - 226ms/epoch - 8ms/step\n",
            "Epoch 4/100\n",
            "27/27 - 0s - loss: 1.8359 - accuracy: 0.4602 - val_loss: 1.3727 - val_accuracy: 0.5877 - 233ms/epoch - 9ms/step\n",
            "Epoch 5/100\n",
            "27/27 - 0s - loss: 1.5883 - accuracy: 0.4780 - val_loss: 1.3700 - val_accuracy: 0.5545 - 217ms/epoch - 8ms/step\n",
            "Epoch 6/100\n",
            "27/27 - 0s - loss: 1.4896 - accuracy: 0.5030 - val_loss: 1.3565 - val_accuracy: 0.5829 - 232ms/epoch - 9ms/step\n",
            "Epoch 7/100\n",
            "27/27 - 0s - loss: 1.4742 - accuracy: 0.4899 - val_loss: 1.3436 - val_accuracy: 0.5829 - 250ms/epoch - 9ms/step\n",
            "Epoch 8/100\n",
            "27/27 - 0s - loss: 1.3584 - accuracy: 0.5351 - val_loss: 1.3117 - val_accuracy: 0.6540 - 256ms/epoch - 9ms/step\n",
            "Epoch 9/100\n",
            "27/27 - 0s - loss: 1.3642 - accuracy: 0.5446 - val_loss: 1.2793 - val_accuracy: 0.6256 - 269ms/epoch - 10ms/step\n",
            "Epoch 10/100\n",
            "27/27 - 0s - loss: 1.3265 - accuracy: 0.5696 - val_loss: 1.2240 - val_accuracy: 0.6635 - 177ms/epoch - 7ms/step\n",
            "Epoch 11/100\n",
            "27/27 - 0s - loss: 1.2380 - accuracy: 0.5553 - val_loss: 1.1928 - val_accuracy: 0.6209 - 153ms/epoch - 6ms/step\n",
            "Epoch 12/100\n",
            "27/27 - 0s - loss: 1.3108 - accuracy: 0.5660 - val_loss: 1.1509 - val_accuracy: 0.6777 - 132ms/epoch - 5ms/step\n",
            "Epoch 13/100\n",
            "27/27 - 0s - loss: 1.2724 - accuracy: 0.5743 - val_loss: 1.0929 - val_accuracy: 0.7109 - 146ms/epoch - 5ms/step\n",
            "Epoch 14/100\n",
            "27/27 - 0s - loss: 1.2038 - accuracy: 0.5993 - val_loss: 1.0301 - val_accuracy: 0.7156 - 137ms/epoch - 5ms/step\n",
            "Epoch 15/100\n",
            "27/27 - 0s - loss: 1.1947 - accuracy: 0.5815 - val_loss: 1.0007 - val_accuracy: 0.7204 - 135ms/epoch - 5ms/step\n",
            "Epoch 16/100\n",
            "27/27 - 0s - loss: 1.1541 - accuracy: 0.5981 - val_loss: 0.9112 - val_accuracy: 0.7346 - 146ms/epoch - 5ms/step\n",
            "Epoch 17/100\n",
            "27/27 - 0s - loss: 1.1592 - accuracy: 0.5850 - val_loss: 0.8940 - val_accuracy: 0.7014 - 158ms/epoch - 6ms/step\n",
            "Epoch 18/100\n",
            "27/27 - 0s - loss: 1.1835 - accuracy: 0.5933 - val_loss: 0.8709 - val_accuracy: 0.7156 - 148ms/epoch - 5ms/step\n",
            "Epoch 19/100\n",
            "27/27 - 0s - loss: 1.1307 - accuracy: 0.6136 - val_loss: 0.8294 - val_accuracy: 0.7346 - 147ms/epoch - 5ms/step\n",
            "Epoch 20/100\n",
            "27/27 - 0s - loss: 1.0597 - accuracy: 0.6326 - val_loss: 0.8037 - val_accuracy: 0.7299 - 159ms/epoch - 6ms/step\n",
            "Epoch 21/100\n",
            "27/27 - 0s - loss: 1.0807 - accuracy: 0.6338 - val_loss: 0.7920 - val_accuracy: 0.7536 - 148ms/epoch - 5ms/step\n",
            "Epoch 22/100\n",
            "27/27 - 0s - loss: 1.0451 - accuracy: 0.6326 - val_loss: 0.7505 - val_accuracy: 0.7346 - 143ms/epoch - 5ms/step\n",
            "Epoch 23/100\n",
            "27/27 - 0s - loss: 1.0338 - accuracy: 0.6504 - val_loss: 0.7275 - val_accuracy: 0.7441 - 138ms/epoch - 5ms/step\n",
            "Epoch 24/100\n",
            "27/27 - 0s - loss: 1.0407 - accuracy: 0.6480 - val_loss: 0.7004 - val_accuracy: 0.7536 - 149ms/epoch - 6ms/step\n",
            "Epoch 25/100\n",
            "27/27 - 0s - loss: 1.0517 - accuracy: 0.6350 - val_loss: 0.7185 - val_accuracy: 0.7393 - 136ms/epoch - 5ms/step\n",
            "Epoch 26/100\n",
            "27/27 - 0s - loss: 0.9810 - accuracy: 0.6790 - val_loss: 0.6892 - val_accuracy: 0.7488 - 140ms/epoch - 5ms/step\n",
            "Epoch 27/100\n",
            "27/27 - 0s - loss: 1.0318 - accuracy: 0.6528 - val_loss: 0.6702 - val_accuracy: 0.7393 - 149ms/epoch - 6ms/step\n",
            "Epoch 28/100\n",
            "27/27 - 0s - loss: 0.9940 - accuracy: 0.6587 - val_loss: 0.6732 - val_accuracy: 0.7251 - 136ms/epoch - 5ms/step\n",
            "Epoch 29/100\n",
            "27/27 - 0s - loss: 0.9478 - accuracy: 0.6742 - val_loss: 0.6472 - val_accuracy: 0.7441 - 140ms/epoch - 5ms/step\n",
            "Epoch 30/100\n",
            "27/27 - 0s - loss: 0.9427 - accuracy: 0.6647 - val_loss: 0.6596 - val_accuracy: 0.7299 - 135ms/epoch - 5ms/step\n",
            "Epoch 31/100\n",
            "27/27 - 0s - loss: 0.9377 - accuracy: 0.6623 - val_loss: 0.6510 - val_accuracy: 0.7441 - 147ms/epoch - 5ms/step\n",
            "Epoch 32/100\n",
            "27/27 - 0s - loss: 0.9080 - accuracy: 0.6849 - val_loss: 0.6715 - val_accuracy: 0.7251 - 140ms/epoch - 5ms/step\n",
            "Epoch 33/100\n",
            "27/27 - 0s - loss: 0.9092 - accuracy: 0.6837 - val_loss: 0.6552 - val_accuracy: 0.7536 - 135ms/epoch - 5ms/step\n",
            "Epoch 34/100\n",
            "27/27 - 0s - loss: 0.9022 - accuracy: 0.7015 - val_loss: 0.6436 - val_accuracy: 0.7393 - 146ms/epoch - 5ms/step\n",
            "Epoch 35/100\n",
            "27/27 - 0s - loss: 0.8765 - accuracy: 0.6885 - val_loss: 0.6546 - val_accuracy: 0.7393 - 136ms/epoch - 5ms/step\n",
            "Epoch 36/100\n",
            "27/27 - 0s - loss: 0.8987 - accuracy: 0.6813 - val_loss: 0.6385 - val_accuracy: 0.7488 - 144ms/epoch - 5ms/step\n",
            "Epoch 37/100\n",
            "27/27 - 0s - loss: 0.9043 - accuracy: 0.7146 - val_loss: 0.6390 - val_accuracy: 0.7156 - 138ms/epoch - 5ms/step\n",
            "Epoch 38/100\n",
            "27/27 - 0s - loss: 0.8490 - accuracy: 0.7122 - val_loss: 0.6333 - val_accuracy: 0.7346 - 148ms/epoch - 5ms/step\n",
            "Epoch 39/100\n",
            "27/27 - 0s - loss: 0.8634 - accuracy: 0.7051 - val_loss: 0.6346 - val_accuracy: 0.7441 - 136ms/epoch - 5ms/step\n",
            "Epoch 40/100\n",
            "27/27 - 0s - loss: 0.8854 - accuracy: 0.7063 - val_loss: 0.6455 - val_accuracy: 0.7583 - 134ms/epoch - 5ms/step\n",
            "Epoch 41/100\n",
            "27/27 - 0s - loss: 0.8305 - accuracy: 0.7027 - val_loss: 0.6349 - val_accuracy: 0.7725 - 143ms/epoch - 5ms/step\n",
            "Epoch 42/100\n",
            "27/27 - 0s - loss: 0.8696 - accuracy: 0.7218 - val_loss: 0.6436 - val_accuracy: 0.7441 - 139ms/epoch - 5ms/step\n",
            "Epoch 43/100\n",
            "27/27 - 0s - loss: 0.8970 - accuracy: 0.7039 - val_loss: 0.6008 - val_accuracy: 0.7393 - 141ms/epoch - 5ms/step\n",
            "Epoch 44/100\n",
            "27/27 - 0s - loss: 0.8420 - accuracy: 0.7146 - val_loss: 0.6107 - val_accuracy: 0.7536 - 134ms/epoch - 5ms/step\n",
            "Epoch 45/100\n",
            "27/27 - 0s - loss: 0.8621 - accuracy: 0.7039 - val_loss: 0.5948 - val_accuracy: 0.7488 - 157ms/epoch - 6ms/step\n",
            "Epoch 46/100\n",
            "27/27 - 0s - loss: 0.8171 - accuracy: 0.7229 - val_loss: 0.5846 - val_accuracy: 0.7488 - 144ms/epoch - 5ms/step\n",
            "Epoch 47/100\n",
            "27/27 - 0s - loss: 0.8377 - accuracy: 0.7075 - val_loss: 0.5772 - val_accuracy: 0.7630 - 142ms/epoch - 5ms/step\n",
            "Epoch 48/100\n",
            "27/27 - 0s - loss: 0.7688 - accuracy: 0.7301 - val_loss: 0.5818 - val_accuracy: 0.7678 - 146ms/epoch - 5ms/step\n",
            "Epoch 49/100\n",
            "27/27 - 0s - loss: 0.7664 - accuracy: 0.7598 - val_loss: 0.5905 - val_accuracy: 0.7773 - 136ms/epoch - 5ms/step\n",
            "Epoch 50/100\n",
            "27/27 - 0s - loss: 0.8339 - accuracy: 0.7039 - val_loss: 0.5908 - val_accuracy: 0.7630 - 138ms/epoch - 5ms/step\n",
            "Epoch 51/100\n",
            "27/27 - 0s - loss: 0.8112 - accuracy: 0.7337 - val_loss: 0.5990 - val_accuracy: 0.7441 - 149ms/epoch - 6ms/step\n",
            "Epoch 52/100\n",
            "27/27 - 0s - loss: 0.8622 - accuracy: 0.6992 - val_loss: 0.5925 - val_accuracy: 0.7441 - 143ms/epoch - 5ms/step\n",
            "Epoch 53/100\n",
            "27/27 - 0s - loss: 0.8157 - accuracy: 0.7265 - val_loss: 0.5947 - val_accuracy: 0.7630 - 136ms/epoch - 5ms/step\n",
            "Epoch 54/100\n",
            "27/27 - 0s - loss: 0.7477 - accuracy: 0.7503 - val_loss: 0.5860 - val_accuracy: 0.7583 - 136ms/epoch - 5ms/step\n",
            "Epoch 55/100\n",
            "27/27 - 0s - loss: 0.7686 - accuracy: 0.7420 - val_loss: 0.5834 - val_accuracy: 0.7630 - 146ms/epoch - 5ms/step\n",
            "Epoch 56/100\n",
            "27/27 - 0s - loss: 0.7575 - accuracy: 0.7360 - val_loss: 0.5976 - val_accuracy: 0.7488 - 138ms/epoch - 5ms/step\n",
            "Epoch 57/100\n",
            "27/27 - 0s - loss: 0.7797 - accuracy: 0.7277 - val_loss: 0.5794 - val_accuracy: 0.7725 - 152ms/epoch - 6ms/step\n",
            "Fold 2 - Loss: 0.5772, Accuracy: 76.30%\n",
            "Epoch 1/100\n",
            "27/27 - 2s - loss: 4.9796 - accuracy: 0.3029 - val_loss: 1.3477 - val_accuracy: 0.5000 - 2s/epoch - 65ms/step\n",
            "Epoch 2/100\n",
            "27/27 - 0s - loss: 3.2612 - accuracy: 0.4038 - val_loss: 1.3544 - val_accuracy: 0.5286 - 139ms/epoch - 5ms/step\n",
            "Epoch 3/100\n",
            "27/27 - 0s - loss: 2.2774 - accuracy: 0.4454 - val_loss: 1.3753 - val_accuracy: 0.4095 - 137ms/epoch - 5ms/step\n",
            "Epoch 4/100\n",
            "27/27 - 0s - loss: 1.8426 - accuracy: 0.4834 - val_loss: 1.3725 - val_accuracy: 0.4381 - 139ms/epoch - 5ms/step\n",
            "Epoch 5/100\n",
            "27/27 - 0s - loss: 1.6078 - accuracy: 0.4596 - val_loss: 1.3710 - val_accuracy: 0.4381 - 145ms/epoch - 5ms/step\n",
            "Epoch 6/100\n",
            "27/27 - 0s - loss: 1.4947 - accuracy: 0.4964 - val_loss: 1.3639 - val_accuracy: 0.4667 - 138ms/epoch - 5ms/step\n",
            "Epoch 7/100\n",
            "27/27 - 0s - loss: 1.3807 - accuracy: 0.5273 - val_loss: 1.3340 - val_accuracy: 0.5714 - 268ms/epoch - 10ms/step\n",
            "Epoch 8/100\n",
            "27/27 - 0s - loss: 1.4714 - accuracy: 0.5356 - val_loss: 1.3122 - val_accuracy: 0.6000 - 207ms/epoch - 8ms/step\n",
            "Epoch 9/100\n",
            "27/27 - 0s - loss: 1.2949 - accuracy: 0.5487 - val_loss: 1.2871 - val_accuracy: 0.5857 - 229ms/epoch - 8ms/step\n",
            "Epoch 10/100\n",
            "27/27 - 0s - loss: 1.3111 - accuracy: 0.5534 - val_loss: 1.2500 - val_accuracy: 0.6286 - 235ms/epoch - 9ms/step\n",
            "Epoch 11/100\n",
            "27/27 - 0s - loss: 1.2192 - accuracy: 0.5879 - val_loss: 1.1853 - val_accuracy: 0.6286 - 239ms/epoch - 9ms/step\n",
            "Epoch 12/100\n",
            "27/27 - 0s - loss: 1.2733 - accuracy: 0.5665 - val_loss: 1.1493 - val_accuracy: 0.6524 - 204ms/epoch - 8ms/step\n",
            "Epoch 13/100\n",
            "27/27 - 0s - loss: 1.2325 - accuracy: 0.5879 - val_loss: 1.1279 - val_accuracy: 0.6571 - 246ms/epoch - 9ms/step\n",
            "Epoch 14/100\n",
            "27/27 - 0s - loss: 1.1906 - accuracy: 0.5819 - val_loss: 1.0805 - val_accuracy: 0.6619 - 250ms/epoch - 9ms/step\n",
            "Epoch 15/100\n",
            "27/27 - 0s - loss: 1.1320 - accuracy: 0.6057 - val_loss: 1.0220 - val_accuracy: 0.6667 - 199ms/epoch - 7ms/step\n",
            "Epoch 16/100\n",
            "27/27 - 0s - loss: 1.1117 - accuracy: 0.6200 - val_loss: 0.9739 - val_accuracy: 0.6810 - 261ms/epoch - 10ms/step\n",
            "Epoch 17/100\n",
            "27/27 - 0s - loss: 1.1491 - accuracy: 0.6247 - val_loss: 0.9400 - val_accuracy: 0.6714 - 157ms/epoch - 6ms/step\n",
            "Epoch 18/100\n",
            "27/27 - 0s - loss: 1.1123 - accuracy: 0.6081 - val_loss: 0.9091 - val_accuracy: 0.6667 - 141ms/epoch - 5ms/step\n",
            "Epoch 19/100\n",
            "27/27 - 0s - loss: 1.1045 - accuracy: 0.6283 - val_loss: 0.8979 - val_accuracy: 0.6286 - 135ms/epoch - 5ms/step\n",
            "Epoch 20/100\n",
            "27/27 - 0s - loss: 0.9764 - accuracy: 0.6841 - val_loss: 0.8447 - val_accuracy: 0.6952 - 143ms/epoch - 5ms/step\n",
            "Epoch 21/100\n",
            "27/27 - 0s - loss: 1.1145 - accuracy: 0.6485 - val_loss: 0.8398 - val_accuracy: 0.6714 - 187ms/epoch - 7ms/step\n",
            "Epoch 22/100\n",
            "27/27 - 0s - loss: 0.9979 - accuracy: 0.6603 - val_loss: 0.8002 - val_accuracy: 0.6905 - 135ms/epoch - 5ms/step\n",
            "Epoch 23/100\n",
            "27/27 - 0s - loss: 1.0102 - accuracy: 0.6508 - val_loss: 0.7597 - val_accuracy: 0.7000 - 138ms/epoch - 5ms/step\n",
            "Epoch 24/100\n",
            "27/27 - 0s - loss: 0.9755 - accuracy: 0.6698 - val_loss: 0.7650 - val_accuracy: 0.7095 - 142ms/epoch - 5ms/step\n",
            "Epoch 25/100\n",
            "27/27 - 0s - loss: 1.0093 - accuracy: 0.6639 - val_loss: 0.7515 - val_accuracy: 0.6905 - 139ms/epoch - 5ms/step\n",
            "Epoch 26/100\n",
            "27/27 - 0s - loss: 0.9428 - accuracy: 0.6781 - val_loss: 0.7491 - val_accuracy: 0.6810 - 141ms/epoch - 5ms/step\n",
            "Epoch 27/100\n",
            "27/27 - 0s - loss: 0.9425 - accuracy: 0.6686 - val_loss: 0.7477 - val_accuracy: 0.7048 - 147ms/epoch - 5ms/step\n",
            "Epoch 28/100\n",
            "27/27 - 0s - loss: 0.9643 - accuracy: 0.6734 - val_loss: 0.7314 - val_accuracy: 0.7000 - 149ms/epoch - 6ms/step\n",
            "Epoch 29/100\n",
            "27/27 - 0s - loss: 0.9866 - accuracy: 0.6675 - val_loss: 0.7108 - val_accuracy: 0.7238 - 138ms/epoch - 5ms/step\n",
            "Epoch 30/100\n",
            "27/27 - 0s - loss: 0.9118 - accuracy: 0.7043 - val_loss: 0.6924 - val_accuracy: 0.7333 - 138ms/epoch - 5ms/step\n",
            "Epoch 31/100\n",
            "27/27 - 0s - loss: 0.9286 - accuracy: 0.6971 - val_loss: 0.7102 - val_accuracy: 0.7000 - 132ms/epoch - 5ms/step\n",
            "Epoch 32/100\n",
            "27/27 - 0s - loss: 0.8600 - accuracy: 0.7078 - val_loss: 0.6918 - val_accuracy: 0.6905 - 142ms/epoch - 5ms/step\n",
            "Epoch 33/100\n",
            "27/27 - 0s - loss: 0.8975 - accuracy: 0.7055 - val_loss: 0.6717 - val_accuracy: 0.6857 - 182ms/epoch - 7ms/step\n",
            "Epoch 34/100\n",
            "27/27 - 0s - loss: 0.8797 - accuracy: 0.7019 - val_loss: 0.6822 - val_accuracy: 0.6905 - 133ms/epoch - 5ms/step\n",
            "Epoch 35/100\n",
            "27/27 - 0s - loss: 0.8747 - accuracy: 0.7173 - val_loss: 0.7013 - val_accuracy: 0.6571 - 151ms/epoch - 6ms/step\n",
            "Epoch 36/100\n",
            "27/27 - 0s - loss: 0.8517 - accuracy: 0.7114 - val_loss: 0.6608 - val_accuracy: 0.6952 - 134ms/epoch - 5ms/step\n",
            "Epoch 37/100\n",
            "27/27 - 0s - loss: 0.8835 - accuracy: 0.6983 - val_loss: 0.6680 - val_accuracy: 0.6905 - 135ms/epoch - 5ms/step\n",
            "Epoch 38/100\n",
            "27/27 - 0s - loss: 0.8838 - accuracy: 0.7007 - val_loss: 0.6872 - val_accuracy: 0.7190 - 139ms/epoch - 5ms/step\n",
            "Epoch 39/100\n",
            "27/27 - 0s - loss: 0.8295 - accuracy: 0.7138 - val_loss: 0.6928 - val_accuracy: 0.7095 - 139ms/epoch - 5ms/step\n",
            "Epoch 40/100\n",
            "27/27 - 0s - loss: 0.8467 - accuracy: 0.7185 - val_loss: 0.6749 - val_accuracy: 0.7333 - 143ms/epoch - 5ms/step\n",
            "Epoch 41/100\n",
            "27/27 - 0s - loss: 0.8154 - accuracy: 0.7185 - val_loss: 0.6924 - val_accuracy: 0.7000 - 136ms/epoch - 5ms/step\n",
            "Epoch 42/100\n",
            "27/27 - 0s - loss: 0.8548 - accuracy: 0.7162 - val_loss: 0.6798 - val_accuracy: 0.7190 - 160ms/epoch - 6ms/step\n",
            "Epoch 43/100\n",
            "27/27 - 0s - loss: 0.7754 - accuracy: 0.7173 - val_loss: 0.6542 - val_accuracy: 0.7476 - 149ms/epoch - 6ms/step\n",
            "Epoch 44/100\n",
            "27/27 - 0s - loss: 0.7659 - accuracy: 0.7399 - val_loss: 0.6695 - val_accuracy: 0.7095 - 139ms/epoch - 5ms/step\n",
            "Epoch 45/100\n",
            "27/27 - 0s - loss: 0.7842 - accuracy: 0.7162 - val_loss: 0.6809 - val_accuracy: 0.7238 - 146ms/epoch - 5ms/step\n",
            "Epoch 46/100\n",
            "27/27 - 0s - loss: 0.7796 - accuracy: 0.7268 - val_loss: 0.6681 - val_accuracy: 0.7143 - 144ms/epoch - 5ms/step\n",
            "Epoch 47/100\n",
            "27/27 - 0s - loss: 0.7880 - accuracy: 0.7340 - val_loss: 0.6544 - val_accuracy: 0.7333 - 158ms/epoch - 6ms/step\n",
            "Epoch 48/100\n",
            "27/27 - 0s - loss: 0.7913 - accuracy: 0.7280 - val_loss: 0.6660 - val_accuracy: 0.7238 - 150ms/epoch - 6ms/step\n",
            "Epoch 49/100\n",
            "27/27 - 0s - loss: 0.7322 - accuracy: 0.7494 - val_loss: 0.6424 - val_accuracy: 0.7143 - 140ms/epoch - 5ms/step\n",
            "Epoch 50/100\n",
            "27/27 - 0s - loss: 0.7691 - accuracy: 0.7233 - val_loss: 0.6359 - val_accuracy: 0.7524 - 146ms/epoch - 5ms/step\n",
            "Epoch 51/100\n",
            "27/27 - 0s - loss: 0.7947 - accuracy: 0.7411 - val_loss: 0.6368 - val_accuracy: 0.7429 - 136ms/epoch - 5ms/step\n",
            "Epoch 52/100\n",
            "27/27 - 0s - loss: 0.7599 - accuracy: 0.7150 - val_loss: 0.6515 - val_accuracy: 0.7095 - 135ms/epoch - 5ms/step\n",
            "Epoch 53/100\n",
            "27/27 - 0s - loss: 0.7004 - accuracy: 0.7743 - val_loss: 0.6375 - val_accuracy: 0.7286 - 140ms/epoch - 5ms/step\n",
            "Epoch 54/100\n",
            "27/27 - 0s - loss: 0.7330 - accuracy: 0.7506 - val_loss: 0.6430 - val_accuracy: 0.7381 - 147ms/epoch - 5ms/step\n",
            "Epoch 55/100\n",
            "27/27 - 0s - loss: 0.7161 - accuracy: 0.7553 - val_loss: 0.6344 - val_accuracy: 0.7429 - 158ms/epoch - 6ms/step\n",
            "Epoch 56/100\n",
            "27/27 - 0s - loss: 0.7652 - accuracy: 0.7447 - val_loss: 0.6389 - val_accuracy: 0.7143 - 147ms/epoch - 5ms/step\n",
            "Epoch 57/100\n",
            "27/27 - 0s - loss: 0.6941 - accuracy: 0.7589 - val_loss: 0.6417 - val_accuracy: 0.7381 - 138ms/epoch - 5ms/step\n",
            "Epoch 58/100\n",
            "27/27 - 0s - loss: 0.7117 - accuracy: 0.7542 - val_loss: 0.6467 - val_accuracy: 0.7524 - 136ms/epoch - 5ms/step\n",
            "Epoch 59/100\n",
            "27/27 - 0s - loss: 0.7032 - accuracy: 0.7613 - val_loss: 0.6212 - val_accuracy: 0.7429 - 146ms/epoch - 5ms/step\n",
            "Epoch 60/100\n",
            "27/27 - 0s - loss: 0.7113 - accuracy: 0.7625 - val_loss: 0.6358 - val_accuracy: 0.7476 - 137ms/epoch - 5ms/step\n",
            "Epoch 61/100\n",
            "27/27 - 0s - loss: 0.7410 - accuracy: 0.7518 - val_loss: 0.6244 - val_accuracy: 0.7429 - 149ms/epoch - 6ms/step\n",
            "Epoch 62/100\n",
            "27/27 - 0s - loss: 0.7396 - accuracy: 0.7518 - val_loss: 0.6066 - val_accuracy: 0.7714 - 158ms/epoch - 6ms/step\n",
            "Epoch 63/100\n",
            "27/27 - 0s - loss: 0.7171 - accuracy: 0.7637 - val_loss: 0.6175 - val_accuracy: 0.7571 - 137ms/epoch - 5ms/step\n",
            "Epoch 64/100\n",
            "27/27 - 0s - loss: 0.6594 - accuracy: 0.7684 - val_loss: 0.6114 - val_accuracy: 0.7190 - 146ms/epoch - 5ms/step\n",
            "Epoch 65/100\n",
            "27/27 - 0s - loss: 0.6989 - accuracy: 0.7613 - val_loss: 0.6371 - val_accuracy: 0.7429 - 140ms/epoch - 5ms/step\n",
            "Epoch 66/100\n",
            "27/27 - 0s - loss: 0.7079 - accuracy: 0.7506 - val_loss: 0.6372 - val_accuracy: 0.7524 - 139ms/epoch - 5ms/step\n",
            "Epoch 67/100\n",
            "27/27 - 0s - loss: 0.7316 - accuracy: 0.7577 - val_loss: 0.6439 - val_accuracy: 0.7476 - 144ms/epoch - 5ms/step\n",
            "Epoch 68/100\n",
            "27/27 - 0s - loss: 0.7122 - accuracy: 0.7791 - val_loss: 0.6488 - val_accuracy: 0.7857 - 169ms/epoch - 6ms/step\n",
            "Epoch 69/100\n",
            "27/27 - 0s - loss: 0.6222 - accuracy: 0.7862 - val_loss: 0.6250 - val_accuracy: 0.7857 - 135ms/epoch - 5ms/step\n",
            "Epoch 70/100\n",
            "27/27 - 0s - loss: 0.7324 - accuracy: 0.7518 - val_loss: 0.6384 - val_accuracy: 0.7714 - 147ms/epoch - 5ms/step\n",
            "Epoch 71/100\n",
            "27/27 - 0s - loss: 0.6550 - accuracy: 0.7672 - val_loss: 0.6384 - val_accuracy: 0.7381 - 146ms/epoch - 5ms/step\n",
            "Epoch 72/100\n",
            "27/27 - 0s - loss: 0.6717 - accuracy: 0.7660 - val_loss: 0.6362 - val_accuracy: 0.7619 - 170ms/epoch - 6ms/step\n",
            "Fold 3 - Loss: 0.6066, Accuracy: 77.14%\n",
            "Epoch 1/100\n",
            "27/27 - 2s - loss: 5.3049 - accuracy: 0.2886 - val_loss: 1.3574 - val_accuracy: 0.4714 - 2s/epoch - 60ms/step\n",
            "Epoch 2/100\n",
            "27/27 - 0s - loss: 3.1286 - accuracy: 0.4026 - val_loss: 1.3687 - val_accuracy: 0.4810 - 136ms/epoch - 5ms/step\n",
            "Epoch 3/100\n",
            "27/27 - 0s - loss: 2.1641 - accuracy: 0.4667 - val_loss: 1.3734 - val_accuracy: 0.4857 - 141ms/epoch - 5ms/step\n",
            "Epoch 4/100\n",
            "27/27 - 0s - loss: 1.7481 - accuracy: 0.4786 - val_loss: 1.3799 - val_accuracy: 0.4952 - 137ms/epoch - 5ms/step\n",
            "Epoch 5/100\n",
            "27/27 - 0s - loss: 1.6643 - accuracy: 0.4822 - val_loss: 1.3786 - val_accuracy: 0.4762 - 174ms/epoch - 6ms/step\n",
            "Epoch 6/100\n",
            "27/27 - 0s - loss: 1.5103 - accuracy: 0.4976 - val_loss: 1.3678 - val_accuracy: 0.4857 - 145ms/epoch - 5ms/step\n",
            "Epoch 7/100\n",
            "27/27 - 0s - loss: 1.4378 - accuracy: 0.5202 - val_loss: 1.3537 - val_accuracy: 0.5143 - 146ms/epoch - 5ms/step\n",
            "Epoch 8/100\n",
            "27/27 - 0s - loss: 1.4217 - accuracy: 0.5143 - val_loss: 1.3355 - val_accuracy: 0.5571 - 148ms/epoch - 5ms/step\n",
            "Epoch 9/100\n",
            "27/27 - 0s - loss: 1.4131 - accuracy: 0.5451 - val_loss: 1.3157 - val_accuracy: 0.5429 - 137ms/epoch - 5ms/step\n",
            "Epoch 10/100\n",
            "27/27 - 0s - loss: 1.2903 - accuracy: 0.5558 - val_loss: 1.2894 - val_accuracy: 0.5810 - 135ms/epoch - 5ms/step\n",
            "Epoch 11/100\n",
            "27/27 - 0s - loss: 1.2967 - accuracy: 0.5641 - val_loss: 1.2499 - val_accuracy: 0.6143 - 162ms/epoch - 6ms/step\n",
            "Epoch 12/100\n",
            "27/27 - 0s - loss: 1.1880 - accuracy: 0.5701 - val_loss: 1.1858 - val_accuracy: 0.6095 - 157ms/epoch - 6ms/step\n",
            "Epoch 13/100\n",
            "27/27 - 0s - loss: 1.1774 - accuracy: 0.5819 - val_loss: 1.1332 - val_accuracy: 0.6381 - 149ms/epoch - 6ms/step\n",
            "Epoch 14/100\n",
            "27/27 - 0s - loss: 1.2055 - accuracy: 0.5760 - val_loss: 1.1036 - val_accuracy: 0.6286 - 139ms/epoch - 5ms/step\n",
            "Epoch 15/100\n",
            "27/27 - 0s - loss: 1.1688 - accuracy: 0.6188 - val_loss: 1.0701 - val_accuracy: 0.6333 - 136ms/epoch - 5ms/step\n",
            "Epoch 16/100\n",
            "27/27 - 0s - loss: 1.0832 - accuracy: 0.6152 - val_loss: 0.9926 - val_accuracy: 0.6810 - 141ms/epoch - 5ms/step\n",
            "Epoch 17/100\n",
            "27/27 - 0s - loss: 1.1220 - accuracy: 0.6223 - val_loss: 0.9467 - val_accuracy: 0.6667 - 154ms/epoch - 6ms/step\n",
            "Epoch 18/100\n",
            "27/27 - 0s - loss: 1.1654 - accuracy: 0.6033 - val_loss: 0.9184 - val_accuracy: 0.6667 - 156ms/epoch - 6ms/step\n",
            "Epoch 19/100\n",
            "27/27 - 0s - loss: 1.1222 - accuracy: 0.6081 - val_loss: 0.9111 - val_accuracy: 0.6571 - 152ms/epoch - 6ms/step\n",
            "Epoch 20/100\n",
            "27/27 - 0s - loss: 0.9898 - accuracy: 0.6639 - val_loss: 0.8598 - val_accuracy: 0.6619 - 145ms/epoch - 5ms/step\n",
            "Epoch 21/100\n",
            "27/27 - 0s - loss: 1.0209 - accuracy: 0.6425 - val_loss: 0.8351 - val_accuracy: 0.6619 - 142ms/epoch - 5ms/step\n",
            "Epoch 22/100\n",
            "27/27 - 0s - loss: 0.9655 - accuracy: 0.6627 - val_loss: 0.8130 - val_accuracy: 0.6762 - 138ms/epoch - 5ms/step\n",
            "Epoch 23/100\n",
            "27/27 - 0s - loss: 0.9889 - accuracy: 0.6734 - val_loss: 0.8115 - val_accuracy: 0.6571 - 246ms/epoch - 9ms/step\n",
            "Epoch 24/100\n",
            "27/27 - 0s - loss: 1.0351 - accuracy: 0.6520 - val_loss: 0.8057 - val_accuracy: 0.7048 - 262ms/epoch - 10ms/step\n",
            "Epoch 25/100\n",
            "27/27 - 0s - loss: 0.9631 - accuracy: 0.6758 - val_loss: 0.7884 - val_accuracy: 0.6952 - 195ms/epoch - 7ms/step\n",
            "Epoch 26/100\n",
            "27/27 - 0s - loss: 0.9945 - accuracy: 0.6746 - val_loss: 0.7940 - val_accuracy: 0.6857 - 191ms/epoch - 7ms/step\n",
            "Epoch 27/100\n",
            "27/27 - 0s - loss: 0.9724 - accuracy: 0.6663 - val_loss: 0.7936 - val_accuracy: 0.6952 - 239ms/epoch - 9ms/step\n",
            "Epoch 28/100\n",
            "27/27 - 0s - loss: 0.9610 - accuracy: 0.6496 - val_loss: 0.7733 - val_accuracy: 0.6762 - 251ms/epoch - 9ms/step\n",
            "Epoch 29/100\n",
            "27/27 - 0s - loss: 0.9333 - accuracy: 0.6793 - val_loss: 0.7628 - val_accuracy: 0.6952 - 274ms/epoch - 10ms/step\n",
            "Epoch 30/100\n",
            "27/27 - 0s - loss: 0.8835 - accuracy: 0.6948 - val_loss: 0.7540 - val_accuracy: 0.6952 - 255ms/epoch - 9ms/step\n",
            "Epoch 31/100\n",
            "27/27 - 0s - loss: 0.8752 - accuracy: 0.7043 - val_loss: 0.7434 - val_accuracy: 0.7238 - 207ms/epoch - 8ms/step\n",
            "Epoch 32/100\n",
            "27/27 - 0s - loss: 0.8730 - accuracy: 0.6924 - val_loss: 0.7369 - val_accuracy: 0.7048 - 238ms/epoch - 9ms/step\n",
            "Epoch 33/100\n",
            "27/27 - 0s - loss: 0.8682 - accuracy: 0.6971 - val_loss: 0.7355 - val_accuracy: 0.7143 - 176ms/epoch - 7ms/step\n",
            "Epoch 34/100\n",
            "27/27 - 0s - loss: 0.9126 - accuracy: 0.7114 - val_loss: 0.7212 - val_accuracy: 0.7190 - 140ms/epoch - 5ms/step\n",
            "Epoch 35/100\n",
            "27/27 - 0s - loss: 0.8979 - accuracy: 0.6924 - val_loss: 0.7212 - val_accuracy: 0.7143 - 139ms/epoch - 5ms/step\n",
            "Epoch 36/100\n",
            "27/27 - 0s - loss: 0.9050 - accuracy: 0.6936 - val_loss: 0.7116 - val_accuracy: 0.7333 - 138ms/epoch - 5ms/step\n",
            "Epoch 37/100\n",
            "27/27 - 0s - loss: 0.8748 - accuracy: 0.6912 - val_loss: 0.7027 - val_accuracy: 0.7143 - 155ms/epoch - 6ms/step\n",
            "Epoch 38/100\n",
            "27/27 - 0s - loss: 0.7987 - accuracy: 0.7352 - val_loss: 0.7033 - val_accuracy: 0.7048 - 151ms/epoch - 6ms/step\n",
            "Epoch 39/100\n",
            "27/27 - 0s - loss: 0.8169 - accuracy: 0.7162 - val_loss: 0.6852 - val_accuracy: 0.7429 - 136ms/epoch - 5ms/step\n",
            "Epoch 40/100\n",
            "27/27 - 0s - loss: 0.8790 - accuracy: 0.6983 - val_loss: 0.6898 - val_accuracy: 0.7381 - 149ms/epoch - 6ms/step\n",
            "Epoch 41/100\n",
            "27/27 - 0s - loss: 0.8544 - accuracy: 0.7114 - val_loss: 0.7054 - val_accuracy: 0.7286 - 141ms/epoch - 5ms/step\n",
            "Epoch 42/100\n",
            "27/27 - 0s - loss: 0.8453 - accuracy: 0.7233 - val_loss: 0.7027 - val_accuracy: 0.7286 - 140ms/epoch - 5ms/step\n",
            "Epoch 43/100\n",
            "27/27 - 0s - loss: 0.8274 - accuracy: 0.7090 - val_loss: 0.6886 - val_accuracy: 0.7429 - 132ms/epoch - 5ms/step\n",
            "Epoch 44/100\n",
            "27/27 - 0s - loss: 0.8003 - accuracy: 0.7209 - val_loss: 0.6851 - val_accuracy: 0.7333 - 135ms/epoch - 5ms/step\n",
            "Epoch 45/100\n",
            "27/27 - 0s - loss: 0.7662 - accuracy: 0.7411 - val_loss: 0.6961 - val_accuracy: 0.7381 - 155ms/epoch - 6ms/step\n",
            "Epoch 46/100\n",
            "27/27 - 0s - loss: 0.8131 - accuracy: 0.7363 - val_loss: 0.6973 - val_accuracy: 0.7476 - 131ms/epoch - 5ms/step\n",
            "Epoch 47/100\n",
            "27/27 - 0s - loss: 0.7498 - accuracy: 0.7601 - val_loss: 0.6830 - val_accuracy: 0.7381 - 155ms/epoch - 6ms/step\n",
            "Epoch 48/100\n",
            "27/27 - 0s - loss: 0.7400 - accuracy: 0.7435 - val_loss: 0.6661 - val_accuracy: 0.7524 - 140ms/epoch - 5ms/step\n",
            "Epoch 49/100\n",
            "27/27 - 0s - loss: 0.8210 - accuracy: 0.7162 - val_loss: 0.6729 - val_accuracy: 0.7333 - 183ms/epoch - 7ms/step\n",
            "Epoch 50/100\n",
            "27/27 - 0s - loss: 0.8365 - accuracy: 0.7126 - val_loss: 0.6949 - val_accuracy: 0.7143 - 134ms/epoch - 5ms/step\n",
            "Epoch 51/100\n",
            "27/27 - 0s - loss: 0.7634 - accuracy: 0.7257 - val_loss: 0.6891 - val_accuracy: 0.7095 - 184ms/epoch - 7ms/step\n",
            "Epoch 52/100\n",
            "27/27 - 0s - loss: 0.7873 - accuracy: 0.7304 - val_loss: 0.6810 - val_accuracy: 0.7571 - 144ms/epoch - 5ms/step\n",
            "Epoch 53/100\n",
            "27/27 - 0s - loss: 0.7586 - accuracy: 0.7423 - val_loss: 0.6579 - val_accuracy: 0.7571 - 189ms/epoch - 7ms/step\n",
            "Epoch 54/100\n",
            "27/27 - 0s - loss: 0.7823 - accuracy: 0.7387 - val_loss: 0.6777 - val_accuracy: 0.7238 - 140ms/epoch - 5ms/step\n",
            "Epoch 55/100\n",
            "27/27 - 0s - loss: 0.7697 - accuracy: 0.7423 - val_loss: 0.6766 - val_accuracy: 0.7476 - 133ms/epoch - 5ms/step\n",
            "Epoch 56/100\n",
            "27/27 - 0s - loss: 0.7567 - accuracy: 0.7482 - val_loss: 0.6943 - val_accuracy: 0.7190 - 137ms/epoch - 5ms/step\n",
            "Epoch 57/100\n",
            "27/27 - 0s - loss: 0.7556 - accuracy: 0.7637 - val_loss: 0.6867 - val_accuracy: 0.7381 - 134ms/epoch - 5ms/step\n",
            "Epoch 58/100\n",
            "27/27 - 0s - loss: 0.7510 - accuracy: 0.7506 - val_loss: 0.6967 - val_accuracy: 0.7190 - 154ms/epoch - 6ms/step\n",
            "Epoch 59/100\n",
            "27/27 - 0s - loss: 0.7316 - accuracy: 0.7458 - val_loss: 0.6996 - val_accuracy: 0.7143 - 133ms/epoch - 5ms/step\n",
            "Epoch 60/100\n",
            "27/27 - 0s - loss: 0.6853 - accuracy: 0.7684 - val_loss: 0.6911 - val_accuracy: 0.7095 - 152ms/epoch - 6ms/step\n",
            "Epoch 61/100\n",
            "27/27 - 0s - loss: 0.7105 - accuracy: 0.7553 - val_loss: 0.6770 - val_accuracy: 0.7333 - 149ms/epoch - 6ms/step\n",
            "Epoch 62/100\n",
            "27/27 - 0s - loss: 0.6797 - accuracy: 0.7613 - val_loss: 0.6750 - val_accuracy: 0.7476 - 138ms/epoch - 5ms/step\n",
            "Epoch 63/100\n",
            "27/27 - 0s - loss: 0.6882 - accuracy: 0.7672 - val_loss: 0.6703 - val_accuracy: 0.7381 - 139ms/epoch - 5ms/step\n",
            "Fold 4 - Loss: 0.6579, Accuracy: 75.71%\n",
            "Epoch 1/100\n",
            "27/27 - 2s - loss: 4.8042 - accuracy: 0.3195 - val_loss: 1.3810 - val_accuracy: 0.4048 - 2s/epoch - 60ms/step\n",
            "Epoch 2/100\n",
            "27/27 - 0s - loss: 2.9196 - accuracy: 0.4074 - val_loss: 1.3569 - val_accuracy: 0.4952 - 144ms/epoch - 5ms/step\n",
            "Epoch 3/100\n",
            "27/27 - 0s - loss: 2.2899 - accuracy: 0.4133 - val_loss: 1.3690 - val_accuracy: 0.4905 - 139ms/epoch - 5ms/step\n",
            "Epoch 4/100\n",
            "27/27 - 0s - loss: 1.8314 - accuracy: 0.4727 - val_loss: 1.3738 - val_accuracy: 0.5286 - 140ms/epoch - 5ms/step\n",
            "Epoch 5/100\n",
            "27/27 - 0s - loss: 1.5945 - accuracy: 0.4786 - val_loss: 1.3701 - val_accuracy: 0.4857 - 140ms/epoch - 5ms/step\n",
            "Epoch 6/100\n",
            "27/27 - 0s - loss: 1.5540 - accuracy: 0.4822 - val_loss: 1.3604 - val_accuracy: 0.5143 - 155ms/epoch - 6ms/step\n",
            "Epoch 7/100\n",
            "27/27 - 0s - loss: 1.5067 - accuracy: 0.4893 - val_loss: 1.3497 - val_accuracy: 0.5619 - 149ms/epoch - 6ms/step\n",
            "Epoch 8/100\n",
            "27/27 - 0s - loss: 1.3844 - accuracy: 0.5523 - val_loss: 1.3175 - val_accuracy: 0.6048 - 142ms/epoch - 5ms/step\n",
            "Epoch 9/100\n",
            "27/27 - 0s - loss: 1.3068 - accuracy: 0.5641 - val_loss: 1.2619 - val_accuracy: 0.6476 - 145ms/epoch - 5ms/step\n",
            "Epoch 10/100\n",
            "27/27 - 0s - loss: 1.2969 - accuracy: 0.5701 - val_loss: 1.2165 - val_accuracy: 0.6476 - 157ms/epoch - 6ms/step\n",
            "Epoch 11/100\n",
            "27/27 - 0s - loss: 1.2451 - accuracy: 0.5701 - val_loss: 1.1899 - val_accuracy: 0.6476 - 142ms/epoch - 5ms/step\n",
            "Epoch 12/100\n",
            "27/27 - 0s - loss: 1.2286 - accuracy: 0.5938 - val_loss: 1.1482 - val_accuracy: 0.6429 - 139ms/epoch - 5ms/step\n",
            "Epoch 13/100\n",
            "27/27 - 0s - loss: 1.2175 - accuracy: 0.5772 - val_loss: 1.0730 - val_accuracy: 0.6381 - 152ms/epoch - 6ms/step\n",
            "Epoch 14/100\n",
            "27/27 - 0s - loss: 1.1900 - accuracy: 0.6128 - val_loss: 1.0341 - val_accuracy: 0.6714 - 143ms/epoch - 5ms/step\n",
            "Epoch 15/100\n",
            "27/27 - 0s - loss: 1.0784 - accuracy: 0.6449 - val_loss: 0.9789 - val_accuracy: 0.6714 - 143ms/epoch - 5ms/step\n",
            "Epoch 16/100\n",
            "27/27 - 0s - loss: 1.2126 - accuracy: 0.5998 - val_loss: 0.9408 - val_accuracy: 0.6810 - 147ms/epoch - 5ms/step\n",
            "Epoch 17/100\n",
            "27/27 - 0s - loss: 1.0690 - accuracy: 0.6283 - val_loss: 0.9213 - val_accuracy: 0.6810 - 147ms/epoch - 5ms/step\n",
            "Epoch 18/100\n",
            "27/27 - 0s - loss: 1.1162 - accuracy: 0.6283 - val_loss: 0.8841 - val_accuracy: 0.7000 - 135ms/epoch - 5ms/step\n",
            "Epoch 19/100\n",
            "27/27 - 0s - loss: 1.0842 - accuracy: 0.6247 - val_loss: 0.8522 - val_accuracy: 0.7000 - 141ms/epoch - 5ms/step\n",
            "Epoch 20/100\n",
            "27/27 - 0s - loss: 1.0667 - accuracy: 0.6176 - val_loss: 0.8207 - val_accuracy: 0.6762 - 156ms/epoch - 6ms/step\n",
            "Epoch 21/100\n",
            "27/27 - 0s - loss: 1.0231 - accuracy: 0.6627 - val_loss: 0.7944 - val_accuracy: 0.6857 - 140ms/epoch - 5ms/step\n",
            "Epoch 22/100\n",
            "27/27 - 0s - loss: 1.1097 - accuracy: 0.6532 - val_loss: 0.7575 - val_accuracy: 0.7238 - 143ms/epoch - 5ms/step\n",
            "Epoch 23/100\n",
            "27/27 - 0s - loss: 1.0187 - accuracy: 0.6603 - val_loss: 0.7583 - val_accuracy: 0.7048 - 153ms/epoch - 6ms/step\n",
            "Epoch 24/100\n",
            "27/27 - 0s - loss: 0.9702 - accuracy: 0.6912 - val_loss: 0.7420 - val_accuracy: 0.6714 - 150ms/epoch - 6ms/step\n",
            "Epoch 25/100\n",
            "27/27 - 0s - loss: 0.9970 - accuracy: 0.6627 - val_loss: 0.7265 - val_accuracy: 0.6667 - 231ms/epoch - 9ms/step\n",
            "Epoch 26/100\n",
            "27/27 - 0s - loss: 1.0037 - accuracy: 0.6793 - val_loss: 0.7336 - val_accuracy: 0.6905 - 244ms/epoch - 9ms/step\n",
            "Epoch 27/100\n",
            "27/27 - 0s - loss: 0.9681 - accuracy: 0.6900 - val_loss: 0.7198 - val_accuracy: 0.6857 - 192ms/epoch - 7ms/step\n",
            "Epoch 28/100\n",
            "27/27 - 0s - loss: 0.9617 - accuracy: 0.6758 - val_loss: 0.7167 - val_accuracy: 0.6905 - 233ms/epoch - 9ms/step\n",
            "Epoch 29/100\n",
            "27/27 - 0s - loss: 0.9159 - accuracy: 0.6841 - val_loss: 0.6950 - val_accuracy: 0.7286 - 224ms/epoch - 8ms/step\n",
            "Epoch 30/100\n",
            "27/27 - 0s - loss: 0.8711 - accuracy: 0.7185 - val_loss: 0.6917 - val_accuracy: 0.7238 - 224ms/epoch - 8ms/step\n",
            "Epoch 31/100\n",
            "27/27 - 0s - loss: 0.9355 - accuracy: 0.7019 - val_loss: 0.6969 - val_accuracy: 0.7381 - 200ms/epoch - 7ms/step\n",
            "Epoch 32/100\n",
            "27/27 - 0s - loss: 0.8571 - accuracy: 0.7162 - val_loss: 0.6981 - val_accuracy: 0.7190 - 224ms/epoch - 8ms/step\n",
            "Epoch 33/100\n",
            "27/27 - 0s - loss: 0.9385 - accuracy: 0.6805 - val_loss: 0.6812 - val_accuracy: 0.7381 - 255ms/epoch - 9ms/step\n",
            "Epoch 34/100\n",
            "27/27 - 0s - loss: 0.9646 - accuracy: 0.6948 - val_loss: 0.6915 - val_accuracy: 0.7286 - 243ms/epoch - 9ms/step\n",
            "Epoch 35/100\n",
            "27/27 - 0s - loss: 0.8930 - accuracy: 0.6960 - val_loss: 0.6698 - val_accuracy: 0.7333 - 147ms/epoch - 5ms/step\n",
            "Epoch 36/100\n",
            "27/27 - 0s - loss: 0.8777 - accuracy: 0.7114 - val_loss: 0.6876 - val_accuracy: 0.7286 - 131ms/epoch - 5ms/step\n",
            "Epoch 37/100\n",
            "27/27 - 0s - loss: 0.8354 - accuracy: 0.7150 - val_loss: 0.6841 - val_accuracy: 0.7143 - 135ms/epoch - 5ms/step\n",
            "Epoch 38/100\n",
            "27/27 - 0s - loss: 0.8782 - accuracy: 0.6912 - val_loss: 0.6660 - val_accuracy: 0.7524 - 157ms/epoch - 6ms/step\n",
            "Epoch 39/100\n",
            "27/27 - 0s - loss: 0.8057 - accuracy: 0.7292 - val_loss: 0.6563 - val_accuracy: 0.7381 - 145ms/epoch - 5ms/step\n",
            "Epoch 40/100\n",
            "27/27 - 0s - loss: 0.8529 - accuracy: 0.7221 - val_loss: 0.6522 - val_accuracy: 0.7381 - 144ms/epoch - 5ms/step\n",
            "Epoch 41/100\n",
            "27/27 - 0s - loss: 0.8373 - accuracy: 0.7233 - val_loss: 0.6566 - val_accuracy: 0.7286 - 138ms/epoch - 5ms/step\n",
            "Epoch 42/100\n",
            "27/27 - 0s - loss: 0.9015 - accuracy: 0.6995 - val_loss: 0.6841 - val_accuracy: 0.7381 - 146ms/epoch - 5ms/step\n",
            "Epoch 43/100\n",
            "27/27 - 0s - loss: 0.7881 - accuracy: 0.7304 - val_loss: 0.6725 - val_accuracy: 0.7381 - 135ms/epoch - 5ms/step\n",
            "Epoch 44/100\n",
            "27/27 - 0s - loss: 0.8386 - accuracy: 0.7185 - val_loss: 0.6605 - val_accuracy: 0.7429 - 136ms/epoch - 5ms/step\n",
            "Epoch 45/100\n",
            "27/27 - 0s - loss: 0.8043 - accuracy: 0.7292 - val_loss: 0.6512 - val_accuracy: 0.7286 - 151ms/epoch - 6ms/step\n",
            "Epoch 46/100\n",
            "27/27 - 0s - loss: 0.7787 - accuracy: 0.7411 - val_loss: 0.6426 - val_accuracy: 0.7000 - 137ms/epoch - 5ms/step\n",
            "Epoch 47/100\n",
            "27/27 - 0s - loss: 0.7938 - accuracy: 0.7506 - val_loss: 0.6512 - val_accuracy: 0.7381 - 133ms/epoch - 5ms/step\n",
            "Epoch 48/100\n",
            "27/27 - 0s - loss: 0.7944 - accuracy: 0.7375 - val_loss: 0.6372 - val_accuracy: 0.7762 - 146ms/epoch - 5ms/step\n",
            "Epoch 49/100\n",
            "27/27 - 0s - loss: 0.7440 - accuracy: 0.7411 - val_loss: 0.6545 - val_accuracy: 0.7524 - 142ms/epoch - 5ms/step\n",
            "Epoch 50/100\n",
            "27/27 - 0s - loss: 0.7212 - accuracy: 0.7375 - val_loss: 0.6411 - val_accuracy: 0.7476 - 134ms/epoch - 5ms/step\n",
            "Epoch 51/100\n",
            "27/27 - 0s - loss: 0.7370 - accuracy: 0.7743 - val_loss: 0.6209 - val_accuracy: 0.7857 - 146ms/epoch - 5ms/step\n",
            "Epoch 52/100\n",
            "27/27 - 0s - loss: 0.7616 - accuracy: 0.7292 - val_loss: 0.6078 - val_accuracy: 0.7810 - 144ms/epoch - 5ms/step\n",
            "Epoch 53/100\n",
            "27/27 - 0s - loss: 0.7636 - accuracy: 0.7470 - val_loss: 0.6129 - val_accuracy: 0.7667 - 133ms/epoch - 5ms/step\n",
            "Epoch 54/100\n",
            "27/27 - 0s - loss: 0.7622 - accuracy: 0.7363 - val_loss: 0.6053 - val_accuracy: 0.7762 - 143ms/epoch - 5ms/step\n",
            "Epoch 55/100\n",
            "27/27 - 0s - loss: 0.8021 - accuracy: 0.7328 - val_loss: 0.6197 - val_accuracy: 0.7476 - 134ms/epoch - 5ms/step\n",
            "Epoch 56/100\n",
            "27/27 - 0s - loss: 0.7241 - accuracy: 0.7601 - val_loss: 0.6176 - val_accuracy: 0.7714 - 141ms/epoch - 5ms/step\n",
            "Epoch 57/100\n",
            "27/27 - 0s - loss: 0.7468 - accuracy: 0.7565 - val_loss: 0.6258 - val_accuracy: 0.7571 - 135ms/epoch - 5ms/step\n",
            "Epoch 58/100\n",
            "27/27 - 0s - loss: 0.7775 - accuracy: 0.7352 - val_loss: 0.6175 - val_accuracy: 0.7619 - 149ms/epoch - 6ms/step\n",
            "Epoch 59/100\n",
            "27/27 - 0s - loss: 0.7016 - accuracy: 0.7684 - val_loss: 0.6150 - val_accuracy: 0.7619 - 146ms/epoch - 5ms/step\n",
            "Epoch 60/100\n",
            "27/27 - 0s - loss: 0.6616 - accuracy: 0.7838 - val_loss: 0.6034 - val_accuracy: 0.7810 - 145ms/epoch - 5ms/step\n",
            "Epoch 61/100\n",
            "27/27 - 0s - loss: 0.7124 - accuracy: 0.7601 - val_loss: 0.6284 - val_accuracy: 0.7476 - 158ms/epoch - 6ms/step\n",
            "Epoch 62/100\n",
            "27/27 - 0s - loss: 0.7086 - accuracy: 0.7625 - val_loss: 0.6094 - val_accuracy: 0.7714 - 147ms/epoch - 5ms/step\n",
            "Epoch 63/100\n",
            "27/27 - 0s - loss: 0.6842 - accuracy: 0.7720 - val_loss: 0.6226 - val_accuracy: 0.7667 - 164ms/epoch - 6ms/step\n",
            "Epoch 64/100\n",
            "27/27 - 0s - loss: 0.7574 - accuracy: 0.7577 - val_loss: 0.6166 - val_accuracy: 0.7429 - 138ms/epoch - 5ms/step\n",
            "Epoch 65/100\n",
            "27/27 - 0s - loss: 0.8051 - accuracy: 0.7470 - val_loss: 0.6126 - val_accuracy: 0.7619 - 153ms/epoch - 6ms/step\n",
            "Epoch 66/100\n",
            "27/27 - 0s - loss: 0.6973 - accuracy: 0.7672 - val_loss: 0.6014 - val_accuracy: 0.7762 - 140ms/epoch - 5ms/step\n",
            "Epoch 67/100\n",
            "27/27 - 0s - loss: 0.6962 - accuracy: 0.7696 - val_loss: 0.6085 - val_accuracy: 0.7524 - 141ms/epoch - 5ms/step\n",
            "Epoch 68/100\n",
            "27/27 - 0s - loss: 0.7029 - accuracy: 0.7708 - val_loss: 0.6215 - val_accuracy: 0.7619 - 136ms/epoch - 5ms/step\n",
            "Epoch 69/100\n",
            "27/27 - 0s - loss: 0.7056 - accuracy: 0.7743 - val_loss: 0.6104 - val_accuracy: 0.7619 - 150ms/epoch - 6ms/step\n",
            "Epoch 70/100\n",
            "27/27 - 0s - loss: 0.7108 - accuracy: 0.7577 - val_loss: 0.6435 - val_accuracy: 0.7524 - 144ms/epoch - 5ms/step\n",
            "Epoch 71/100\n",
            "27/27 - 0s - loss: 0.6917 - accuracy: 0.7684 - val_loss: 0.6281 - val_accuracy: 0.7524 - 145ms/epoch - 5ms/step\n",
            "Epoch 72/100\n",
            "27/27 - 0s - loss: 0.7108 - accuracy: 0.7708 - val_loss: 0.6211 - val_accuracy: 0.7571 - 145ms/epoch - 5ms/step\n",
            "Epoch 73/100\n",
            "27/27 - 0s - loss: 0.7394 - accuracy: 0.7577 - val_loss: 0.6271 - val_accuracy: 0.7524 - 139ms/epoch - 5ms/step\n",
            "Epoch 74/100\n",
            "27/27 - 0s - loss: 0.6851 - accuracy: 0.7708 - val_loss: 0.6074 - val_accuracy: 0.7714 - 140ms/epoch - 5ms/step\n",
            "Epoch 75/100\n",
            "27/27 - 0s - loss: 0.6558 - accuracy: 0.7945 - val_loss: 0.6211 - val_accuracy: 0.7429 - 136ms/epoch - 5ms/step\n",
            "Epoch 76/100\n",
            "27/27 - 0s - loss: 0.6329 - accuracy: 0.8112 - val_loss: 0.6079 - val_accuracy: 0.7476 - 156ms/epoch - 6ms/step\n",
            "Fold 5 - Loss: 0.6014, Accuracy: 77.62%\n",
            "Average Loss across all folds: 0.6216\n",
            "Average Accuracy across all folds: 75.67%\n"
          ]
        }
      ]
    },
    {
      "cell_type": "markdown",
      "metadata": {
        "id": "s00FcKEG1ZMx"
      },
      "source": [
        "## Save K fold model"
      ]
    },
    {
      "cell_type": "code",
      "execution_count": null,
      "metadata": {
        "colab": {
          "base_uri": "https://localhost:8080/"
        },
        "id": "vZeDY-UQ1eVR",
        "outputId": "efe6ba03-d33b-49d5-e44d-cd189e2a8dfd"
      },
      "outputs": [
        {
          "output_type": "stream",
          "name": "stdout",
          "text": [
            "Saved model for fold 6 at /content/drive/MyDrive/ModelOutputs/cnn_model_fold_6.h5\n"
          ]
        },
        {
          "output_type": "stream",
          "name": "stderr",
          "text": [
            "/usr/local/lib/python3.10/dist-packages/keras/src/engine/training.py:3103: UserWarning: You are saving your model as an HDF5 file via `model.save()`. This file format is considered legacy. We recommend using instead the native Keras format, e.g. `model.save('my_model.keras')`.\n",
            "  saving_api.save_model(\n"
          ]
        }
      ],
      "source": [
        "# Inside your loop after training the model\n",
        "model_path = f'/content/drive/MyDrive/ModelOutputs/cnn_model_fold_{fold_no}.h5'\n",
        "model.save(model_path)\n",
        "print(f'Saved model for fold {fold_no} at {model_path}')\n"
      ]
    },
    {
      "cell_type": "markdown",
      "metadata": {
        "id": "GhzJpZQ-zC5G"
      },
      "source": [
        "# Testing"
      ]
    },
    {
      "cell_type": "markdown",
      "source": [
        "**Read test numpy file**"
      ],
      "metadata": {
        "id": "WIENdFNcIl5V"
      }
    },
    {
      "cell_type": "code",
      "source": [
        "!unzip /content/blocks-testing.zip -d /content/"
      ],
      "metadata": {
        "id": "3FV8YtbF8_P3",
        "colab": {
          "base_uri": "https://localhost:8080/"
        },
        "outputId": "fcdac90a-a63b-48b4-e109-14550dcd1aed"
      },
      "execution_count": 18,
      "outputs": [
        {
          "output_type": "stream",
          "name": "stdout",
          "text": [
            "Archive:  /content/blocks-testing.zip\n",
            "  inflating: /content/blocks/subject_2_block_2_testing_50_CSP_Features.npz  \n",
            "  inflating: /content/blocks/subject_8_block_1_testing_50_CSP_Features.npz  \n",
            "  inflating: /content/blocks/subject_9_block_1_testing_50_CSP_Features.npz  \n",
            "  inflating: /content/blocks/subject_7_block_2_testing_50_CSP_Features.npz  \n",
            "  inflating: /content/blocks/subject_8_block_3_testing_50_CSP_Features.npz  \n",
            "  inflating: /content/blocks/subject_7_block_1_testing_50_CSP_Features.npz  \n",
            "  inflating: /content/blocks/subject_2_block_1_testing_50_CSP_Features.npz  \n",
            "  inflating: /content/blocks/subject_2_block_3_testing_50_CSP_Features.npz  \n",
            "  inflating: /content/blocks/subject_7_block_3_testing_50_CSP_Features.npz  \n",
            "  inflating: /content/blocks/subject_9_block_3_testing_50_CSP_Features.npz  \n",
            "  inflating: /content/blocks/subject_8_block_2_testing_50_CSP_Features.npz  \n",
            "  inflating: /content/blocks/subject_9_block_2_testing_50_CSP_Features.npz  \n"
          ]
        }
      ]
    },
    {
      "cell_type": "code",
      "source": [
        "import pandas as pd\n",
        "import numpy as np\n",
        "\n",
        "\n",
        "# Load the .npz file\n",
        "new_data = np.load('/content/blocks/subject_9_block_2_testing_50_CSP_Features.npz')\n",
        "# List all arrays in the .npz file\n",
        "print(new_data.files)\n",
        "\n",
        "# Access and print each array\n",
        "\n",
        "for array_name in new_data.files:\n",
        "    print(array_name)\n",
        "    print(new_data[array_name])\n",
        "\n",
        "new_data['features'].shape\n",
        "\n",
        "\n"
      ],
      "metadata": {
        "colab": {
          "base_uri": "https://localhost:8080/"
        },
        "id": "2FHPDvVVIqJm",
        "outputId": "437a3b51-e87c-4c93-c659-30922a9610dd"
      },
      "execution_count": 33,
      "outputs": [
        {
          "output_type": "stream",
          "name": "stdout",
          "text": [
            "['features', 'labels']\n",
            "features\n",
            "[[ 0.48875392 -0.89840649 -0.48407872 ... -0.16432919 -0.17102698\n",
            "   0.11350036]\n",
            " [ 1.13073145 -1.44320754 -0.21878282 ... -0.23054738 -0.40618273\n",
            "  -0.37264044]\n",
            " [ 0.26438056 -0.41610298 -0.79332694 ... -0.31707106 -0.22925015\n",
            "  -0.56608851]\n",
            " ...\n",
            " [-0.31972822 -0.48843425 -0.40839506 ...  0.02057862 -0.52276422\n",
            "  -0.585623  ]\n",
            " [-1.05596389 -1.27911481 -1.25993033 ...  0.34087616 -0.60916793\n",
            "  -0.91123695]\n",
            " [-1.00416009 -1.18843323  2.34372977 ...  0.34415601 -0.69779873\n",
            "  -0.61550921]]\n",
            "labels\n",
            "[[356714      1      1      1]\n",
            " [363523      1      1      1]\n",
            " [369991      0      1      1]\n",
            " ...\n",
            " [934739      1      1      2]\n",
            " [948238      1      1      2]\n",
            " [954877      2      1      2]]\n"
          ]
        },
        {
          "output_type": "execute_result",
          "data": {
            "text/plain": [
              "(840, 50)"
            ]
          },
          "metadata": {},
          "execution_count": 33
        }
      ]
    },
    {
      "cell_type": "code",
      "source": [
        "import seaborn as sns"
      ],
      "metadata": {
        "id": "vK02uH4YtXa4"
      },
      "execution_count": 34,
      "outputs": []
    },
    {
      "cell_type": "code",
      "source": [
        "sns.distplot(new_data['features'])\n"
      ],
      "metadata": {
        "colab": {
          "base_uri": "https://localhost:8080/",
          "height": 645
        },
        "id": "LsyTVASuta_t",
        "outputId": "bd85c6d7-b1ae-48da-ebee-3a82d5f2e6a5"
      },
      "execution_count": 35,
      "outputs": [
        {
          "output_type": "stream",
          "name": "stderr",
          "text": [
            "<ipython-input-35-3a0bd1c95662>:1: UserWarning: \n",
            "\n",
            "`distplot` is a deprecated function and will be removed in seaborn v0.14.0.\n",
            "\n",
            "Please adapt your code to use either `displot` (a figure-level function with\n",
            "similar flexibility) or `histplot` (an axes-level function for histograms).\n",
            "\n",
            "For a guide to updating your code to use the new functions, please see\n",
            "https://gist.github.com/mwaskom/de44147ed2974457ad6372750bbe5751\n",
            "\n",
            "  sns.distplot(new_data['features'])\n"
          ]
        },
        {
          "output_type": "execute_result",
          "data": {
            "text/plain": [
              "<Axes: ylabel='Density'>"
            ]
          },
          "metadata": {},
          "execution_count": 35
        },
        {
          "output_type": "display_data",
          "data": {
            "text/plain": [
              "<Figure size 640x480 with 1 Axes>"
            ],
            "image/png": "[encoded data removed]"
          },
          "metadata": {}
        }
      ]
    },
    {
      "cell_type": "markdown",
      "source": [
        "**Preprocess and clean numpy file**"
      ],
      "metadata": {
        "id": "0TLn4ahPJHHn"
      }
    },
    {
      "cell_type": "code",
      "source": [
        "\n",
        "\n",
        "\n",
        "labels= new_data['labels']\n",
        "labels= labels[:, 1]\n",
        "labels.shape\n"
      ],
      "metadata": {
        "colab": {
          "base_uri": "https://localhost:8080/"
        },
        "id": "tlW3MyArJOT_",
        "outputId": "3b24049b-61ea-4824-eca2-8e4dbe3eef5c"
      },
      "execution_count": 36,
      "outputs": [
        {
          "output_type": "execute_result",
          "data": {
            "text/plain": [
              "(840,)"
            ]
          },
          "metadata": {},
          "execution_count": 36
        }
      ]
    },
    {
      "cell_type": "code",
      "source": [
        "\n",
        "\n",
        "unique, frequency = np.unique(labels,\n",
        "                              return_counts = True)\n",
        "\n",
        "# convert both into one numpy array\n",
        "count = np.asarray((unique, frequency ))\n",
        "\n",
        "print(\"The values and their frequency are:\\n\",\n",
        "     count)\n"
      ],
      "metadata": {
        "colab": {
          "base_uri": "https://localhost:8080/"
        },
        "id": "UuH9PevizAOe",
        "outputId": "02b6a916-6712-4007-f96e-c7cec9caac79"
      },
      "execution_count": 37,
      "outputs": [
        {
          "output_type": "stream",
          "name": "stdout",
          "text": [
            "The values and their frequency are:\n",
            " [[  0   1   2   3]\n",
            " [210 210 210 210]]\n"
          ]
        }
      ]
    },
    {
      "cell_type": "code",
      "source": [
        "\n",
        "\n",
        "\n",
        "\n",
        "\n",
        "import numpy as np\n",
        "import pandas as pd\n",
        "from sklearn.preprocessing import StandardScaler\n",
        "import tensorflow as tf\n",
        "import joblib\n",
        "\n",
        "\n",
        "\n",
        "# Load the .npz file\n",
        "\n",
        "# Assuming 'Feature' and 'Label' are keys in the npz file\n",
        "features = new_data['features']\n",
        "\n",
        "# Function to clean feature strings\n",
        "def clean_feature_string(feature_str):\n",
        "    if isinstance(feature_str, str):\n",
        "        cleaned = feature_str.strip('[]').replace(' ', ',').replace('\\n', '')\n",
        "        return cleaned.split(',') if cleaned else []\n",
        "    return feature_str  # If it's already a list or array, return as is\n",
        "\n",
        "# Convert the feature strings to lists of floats\n",
        "cleaned_features = []\n",
        "for feature in features:\n",
        "    cleaned_feature = clean_feature_string(feature)\n",
        "    if len(cleaned_feature) == 0:\n",
        "        cleaned_feature = [0.0] * 10  # Handle empty features by filling with placeholder\n",
        "    cleaned_features.append([float(i) for i in cleaned_feature])\n",
        "\n",
        "# Convert cleaned_features to a numpy array\n",
        "X_new = np.array(cleaned_features)\n",
        "y_new= labels\n",
        "\n"
      ],
      "metadata": {
        "collapsed": true,
        "id": "QPZbwcgUJLNk"
      },
      "execution_count": 38,
      "outputs": []
    },
    {
      "cell_type": "code",
      "source": [
        "'''\n",
        "import numpy as np\n",
        "import matplotlib.pyplot as plt\n",
        "from scipy.stats import yeojohnson\n",
        "\n",
        "\n",
        "transformed_data = {}\n",
        "\n",
        "\n",
        "    # Apply Yeo-Johnson transformation\n",
        "transformed_array, lambda_value = yeojohnson(X_new.flatten())\n",
        "\n",
        "    # Reshape transformed array to original shape\n",
        "transformed_array = transformed_array.reshape(X_new.shape)\n",
        "\n",
        "    # Standardize the transformed data\n",
        "mean = np.mean(transformed_array)\n",
        "std = np.std(transformed_array)\n",
        "standardized_array = (transformed_array - mean) / std\n",
        "\n",
        "    # Store the standardized data\n",
        "transformed_data_new = standardized_array\n",
        "\n",
        "    # Plot histogram of standardized data\n",
        "plt.figure(figsize=(8, 6))\n",
        "plt.hist(standardized_array.flatten(), bins=50, alpha=0.6, density=True)\n",
        "plt.title(f'Histogram of Standardized Yeo-Johnson Transformed Data for X')\n",
        "plt.xlabel('Value')\n",
        "plt.ylabel('Density')\n",
        "plt.grid(True)\n",
        "plt.show()\n",
        "\n",
        "# Optionally, save the transformed data back to a new npz file\n",
        "'''\n",
        "scaled_X_new= scaler.transform(X_new)\n"
      ],
      "metadata": {
        "id": "wZ3fBdW9Uf_G"
      },
      "execution_count": 39,
      "outputs": []
    },
    {
      "cell_type": "code",
      "source": [
        "import seaborn as sns\n",
        "\n",
        "\n",
        "sns.distplot(scaled_X_new)\n"
      ],
      "metadata": {
        "colab": {
          "base_uri": "https://localhost:8080/",
          "height": 645
        },
        "id": "xTpHp-62uQGF",
        "outputId": "75962d65-762a-400a-aaa7-c41f5f493d0d"
      },
      "execution_count": 40,
      "outputs": [
        {
          "output_type": "stream",
          "name": "stderr",
          "text": [
            "<ipython-input-40-f8d1aec07339>:4: UserWarning: \n",
            "\n",
            "`distplot` is a deprecated function and will be removed in seaborn v0.14.0.\n",
            "\n",
            "Please adapt your code to use either `displot` (a figure-level function with\n",
            "similar flexibility) or `histplot` (an axes-level function for histograms).\n",
            "\n",
            "For a guide to updating your code to use the new functions, please see\n",
            "https://gist.github.com/mwaskom/de44147ed2974457ad6372750bbe5751\n",
            "\n",
            "  sns.distplot(scaled_X_new)\n"
          ]
        },
        {
          "output_type": "execute_result",
          "data": {
            "text/plain": [
              "<Axes: ylabel='Density'>"
            ]
          },
          "metadata": {},
          "execution_count": 40
        },
        {
          "output_type": "display_data",
          "data": {
            "text/plain": [
              "<Figure size 640x480 with 1 Axes>"
            ],
            "image/png": "[encoded data removed]"
          },
          "metadata": {}
        }
      ]
    },
    {
      "cell_type": "code",
      "source": [
        "\n",
        "y_new.shape"
      ],
      "metadata": {
        "colab": {
          "base_uri": "https://localhost:8080/"
        },
        "id": "oXXioGLWwlGh",
        "outputId": "f5ca884e-b260-4a38-b10e-8fd26e8f9f8a"
      },
      "execution_count": 41,
      "outputs": [
        {
          "output_type": "execute_result",
          "data": {
            "text/plain": [
              "(840,)"
            ]
          },
          "metadata": {},
          "execution_count": 41
        }
      ]
    },
    {
      "cell_type": "code",
      "execution_count": 42,
      "metadata": {
        "id": "r1nbiHhfCqjh"
      },
      "outputs": [],
      "source": [
        "\n",
        "# Reshape the data for the model if necessary (e.g., CNN input)\n",
        "X_new_transformed = scaled_X_new.reshape(scaled_X_new.shape[0], scaled_X_new.shape[1], 1)"
      ]
    },
    {
      "cell_type": "code",
      "source": [
        "\n",
        "X_new_transformed.shape\n"
      ],
      "metadata": {
        "colab": {
          "base_uri": "https://localhost:8080/"
        },
        "id": "6zXO4TonGLSh",
        "outputId": "93820167-250c-445b-8320-e42f5318331a"
      },
      "execution_count": 43,
      "outputs": [
        {
          "output_type": "execute_result",
          "data": {
            "text/plain": [
              "(840, 50, 1)"
            ]
          },
          "metadata": {},
          "execution_count": 43
        }
      ]
    },
    {
      "cell_type": "code",
      "execution_count": 44,
      "metadata": {
        "colab": {
          "base_uri": "https://localhost:8080/"
        },
        "id": "a9_cpcRpAEb-",
        "outputId": "87426767-8f09-4a6d-8dcd-7b3365d40365"
      },
      "outputs": [
        {
          "output_type": "stream",
          "name": "stdout",
          "text": [
            "Model loaded from /content/drive/MyDrive/MyOutput/tested_3_cnn_model\n"
          ]
        }
      ],
      "source": [
        "\n",
        "\n",
        "model_path ='/content/drive/MyDrive/MyOutput/tested_3_cnn_model'\n",
        "from keras import models\n",
        "model = models.load_model(model_path)\n",
        "print(f\"Model loaded from {model_path}\")\n"
      ]
    },
    {
      "cell_type": "code",
      "source": [
        "\n",
        "# Assuming model and data are already loaded and prepared\n",
        "from sklearn.metrics import accuracy_score\n",
        "predictions = model.predict(X_new_transformed)\n",
        "predicted_classes = np.argmax(predictions, axis=1)\n",
        "accuracy = accuracy_score(y_new, predicted_classes)\n",
        "print(\"Overall accuracy on test data: {:.2%}\".format(accuracy))\n",
        "\n",
        "from sklearn.metrics import classification_report\n",
        "report = classification_report(y_new, predicted_classes)\n",
        "print('CNN Model Classification Report:')\n",
        "print(report)\n",
        "\n"
      ],
      "metadata": {
        "colab": {
          "base_uri": "https://localhost:8080/"
        },
        "id": "ZFgt03TJLLgb",
        "outputId": "a66c3b09-ee66-4435-b4b3-86efb67be4b3"
      },
      "execution_count": 45,
      "outputs": [
        {
          "output_type": "stream",
          "name": "stdout",
          "text": [
            "27/27 [==============================] - 0s 2ms/step\n",
            "Overall accuracy on test data: 27.86%\n",
            "CNN Model Classification Report:\n",
            "              precision    recall  f1-score   support\n",
            "\n",
            "           0       0.25      0.20      0.22       210\n",
            "           1       0.23      0.33      0.28       210\n",
            "           2       0.26      0.21      0.23       210\n",
            "           3       0.37      0.38      0.38       210\n",
            "\n",
            "    accuracy                           0.28       840\n",
            "   macro avg       0.28      0.28      0.28       840\n",
            "weighted avg       0.28      0.28      0.28       840\n",
            "\n"
          ]
        }
      ]
    },
    {
      "cell_type": "code",
      "source": [],
      "metadata": {
        "id": "qIY_fSkWaGut"
      },
      "execution_count": 56,
      "outputs": []
    },
    {
      "cell_type": "markdown",
      "metadata": {
        "id": "0mhyEUawQwrC"
      },
      "source": [
        "## Normalize the shape"
      ]
    },
    {
      "cell_type": "code",
      "execution_count": null,
      "metadata": {
        "colab": {
          "base_uri": "https://localhost:8080/"
        },
        "id": "aqui1dZqQye4",
        "outputId": "ba6f7be0-3d67-4fd1-f8be-a9800a40591a"
      },
      "outputs": [
        {
          "name": "stdout",
          "output_type": "stream",
          "text": [
            "CNN Model Accuracy--> Testing: 23.00%\n",
            "7/7 [==============================] - 0s 4ms/step\n",
            "CNN Model Classification Report on Extracted Features:\n",
            "              precision    recall  f1-score   support\n",
            "\n",
            "           0       0.38      0.32      0.35        50\n",
            "           1       0.27      0.30      0.29        50\n",
            "           2       0.18      0.20      0.19        50\n",
            "           3       0.11      0.10      0.10        50\n",
            "\n",
            "    accuracy                           0.23       200\n",
            "   macro avg       0.23      0.23      0.23       200\n",
            "weighted avg       0.23      0.23      0.23       200\n",
            "\n"
          ]
        }
      ],
      "source": [
        "from sklearn.metrics import classification_report\n",
        "\n",
        "# Evaluate the model on the extracted features\n",
        "try:\n",
        "    loss, accuracy = model.evaluate(csp_features_reshaped, labels_categorical, verbose=0)\n",
        "    print(f'CNN Model Accuracy--> Testing: {accuracy:.2%}')\n",
        "except ValueError as e:\n",
        "    print(f\"Error during model evaluation: {e}\")\n",
        "\n",
        "# Make predictions\n",
        "try:\n",
        "    y_pred = model.predict(csp_features_reshaped)\n",
        "    y_pred_classes = np.argmax(y_pred, axis=1)\n",
        "    labels_classes = np.argmax(labels_categorical, axis=1)\n",
        "\n",
        "    # Generate a classification report\n",
        "    report = classification_report(labels_classes, y_pred_classes)\n",
        "    print('CNN Model Classification Report on Extracted Features:')\n",
        "    print(report)\n",
        "except ValueError as e:\n",
        "    print(f\"Error during model prediction: {e}\")\n"
      ]
    },
    {
      "cell_type": "code",
      "execution_count": null,
      "metadata": {
        "colab": {
          "base_uri": "https://localhost:8080/"
        },
        "id": "ANGx4lxW79Ii",
        "outputId": "a467c929-5016-440e-a06a-f29dd3b9dd3a"
      },
      "outputs": [
        {
          "name": "stdout",
          "output_type": "stream",
          "text": [
            "Reading /content/drive/MyDrive/FYPD_Dataset/derivatives/sub-02/ses-02/sub-02_ses-02_eeg-epo.fif ...\n",
            "Isotrak not found\n",
            "    Found the data of interest:\n",
            "        t =    -500.00 ...    4000.00 ms\n",
            "        0 CTF compensation matrices available\n",
            "Not setting metadata\n",
            "200 matching events found\n",
            "No baseline correction applied\n",
            "0 projection items activated\n",
            "Shape of new data (X_new): (200, 147584, 1)\n",
            "Shape of new labels (y_new): (200, 4)\n",
            "Expected input shape by the model: (None, 50, 1)\n"
          ]
        }
      ],
      "source": [
        "import mne\n",
        "import numpy as np\n",
        "from sklearn.preprocessing import StandardScaler\n",
        "\n",
        "def extract_features_from_file(file_path):\n",
        "    # Load the EEG data from the FIF file\n",
        "    epochs = mne.read_epochs(file_path, preload=True)\n",
        "    X = epochs.get_data()  # Get the data in (n_epochs, n_channels, n_times) format\n",
        "    y = epochs.events[:, -1]  # Get the event labels\n",
        "\n",
        "    # Reshape the data to be suitable for Conv1D\n",
        "    X = X.reshape(X.shape[0], X.shape[1] * X.shape[2])\n",
        "\n",
        "    # Normalize the features\n",
        "    scaler = StandardScaler()\n",
        "    X = scaler.fit_transform(X)\n",
        "\n",
        "    # Adjust labels to be zero-based\n",
        "    label_mapping = {label: index for index, label in enumerate(np.unique(y))}\n",
        "    y = np.array([label_mapping[label] for label in y])\n",
        "\n",
        "    # Reshape the features for Conv1D input\n",
        "    X_reshaped = X.reshape(X.shape[0], X.shape[1], 1)\n",
        "\n",
        "    # Convert labels to categorical\n",
        "    num_classes = len(np.unique(y))\n",
        "    y_categorical = tf.keras.utils.to_categorical(y, num_classes=num_classes)\n",
        "\n",
        "    return X_reshaped, y_categorical, num_classes\n",
        "\n",
        "# Load the EEG data\n",
        "file_path = '/content/drive/MyDrive/FYPD_Dataset/derivatives/sub-02/ses-02/sub-02_ses-02_eeg-epo.fif'  # Path to the uploaded EEG file\n",
        "X_new, y_new, num_classes = extract_features_from_file(file_path)\n",
        "\n",
        "print(f\"Shape of new data (X_new): {X_new.shape}\")\n",
        "print(f\"Shape of new labels (y_new): {y_new.shape}\")\n",
        "\n",
        "# Print model input shape\n",
        "print(f\"Expected input shape by the model: {model.input_shape}\")\n",
        "\n",
        "# # Load the EEG data\n",
        "# X_new, y_new, num_classes = load_eeg_data(file_path)\n"
      ]
    },
    {
      "cell_type": "markdown",
      "metadata": {
        "id": "cwK2si4QAXfE"
      },
      "source": [
        "## Evaluate the Model on the New Data"
      ]
    },
    {
      "cell_type": "code",
      "execution_count": null,
      "metadata": {
        "colab": {
          "base_uri": "https://localhost:8080/"
        },
        "id": "aYsefdPMAZQM",
        "outputId": "7809a5ec-90b9-48f5-e8a4-a08238f37699"
      },
      "outputs": [
        {
          "name": "stdout",
          "output_type": "stream",
          "text": [
            "Error during model evaluation: in user code:\n",
            "\n",
            "    File \"/usr/local/lib/python3.10/dist-packages/keras/src/engine/training.py\", line 2066, in test_function  *\n",
            "        return step_function(self, iterator)\n",
            "    File \"/usr/local/lib/python3.10/dist-packages/keras/src/engine/training.py\", line 2049, in step_function  **\n",
            "        outputs = model.distribute_strategy.run(run_step, args=(data,))\n",
            "    File \"/usr/local/lib/python3.10/dist-packages/keras/src/engine/training.py\", line 2037, in run_step  **\n",
            "        outputs = model.test_step(data)\n",
            "    File \"/usr/local/lib/python3.10/dist-packages/keras/src/engine/training.py\", line 1917, in test_step\n",
            "        y_pred = self(x, training=False)\n",
            "    File \"/usr/local/lib/python3.10/dist-packages/keras/src/utils/traceback_utils.py\", line 70, in error_handler\n",
            "        raise e.with_traceback(filtered_tb) from None\n",
            "    File \"/usr/local/lib/python3.10/dist-packages/keras/src/engine/input_spec.py\", line 298, in assert_input_compatibility\n",
            "        raise ValueError(\n",
            "\n",
            "    ValueError: Input 0 of layer \"sequential_3\" is incompatible with the layer: expected shape=(None, 50, 1), found shape=(None, 147584, 1)\n",
            "\n",
            "Error during model prediction: in user code:\n",
            "\n",
            "    File \"/usr/local/lib/python3.10/dist-packages/keras/src/engine/training.py\", line 2440, in predict_function  *\n",
            "        return step_function(self, iterator)\n",
            "    File \"/usr/local/lib/python3.10/dist-packages/keras/src/engine/training.py\", line 2425, in step_function  **\n",
            "        outputs = model.distribute_strategy.run(run_step, args=(data,))\n",
            "    File \"/usr/local/lib/python3.10/dist-packages/keras/src/engine/training.py\", line 2413, in run_step  **\n",
            "        outputs = model.predict_step(data)\n",
            "    File \"/usr/local/lib/python3.10/dist-packages/keras/src/engine/training.py\", line 2381, in predict_step\n",
            "        return self(x, training=False)\n",
            "    File \"/usr/local/lib/python3.10/dist-packages/keras/src/utils/traceback_utils.py\", line 70, in error_handler\n",
            "        raise e.with_traceback(filtered_tb) from None\n",
            "    File \"/usr/local/lib/python3.10/dist-packages/keras/src/engine/input_spec.py\", line 298, in assert_input_compatibility\n",
            "        raise ValueError(\n",
            "\n",
            "    ValueError: Input 0 of layer \"sequential_3\" is incompatible with the layer: expected shape=(None, 50, 1), found shape=(None, 147584, 1)\n",
            "\n"
          ]
        }
      ],
      "source": [
        "from sklearn.metrics import classification_report\n",
        "\n",
        "# Evaluate the model on the new data\n",
        "try:\n",
        "    loss, accuracy = model.evaluate(X_new, y_new, verbose=0)\n",
        "    print(f'CNN Model Accuracy on New Data: {accuracy:.2%}')\n",
        "except ValueError as e:\n",
        "    print(f\"Error during model evaluation: {e}\")\n",
        "\n",
        "# Make predictions\n",
        "try:\n",
        "    y_pred = model.predict(X_new)\n",
        "    y_pred_classes = np.argmax(y_pred, axis=1)\n",
        "    y_new_classes = np.argmax(y_new, axis=1)\n",
        "\n",
        "    # Generate a classification report\n",
        "    report = classification_report(y_new_classes, y_pred_classes)\n",
        "    print('CNN Model Classification Report on New Data:')\n",
        "    print(report)\n",
        "except ValueError as e:\n",
        "    print(f\"Error during model prediction: {e}\")\n"
      ]
    },
    {
      "cell_type": "markdown",
      "metadata": {
        "id": "u0B9nIR6zLri"
      },
      "source": [
        "# New extra"
      ]
    },
    {
      "cell_type": "code",
      "execution_count": null,
      "metadata": {
        "colab": {
          "base_uri": "https://localhost:8080/"
        },
        "id": "LsVADlHX1RuV",
        "outputId": "a981d22b-82c9-42c2-8b3f-49ac5b1d106a"
      },
      "outputs": [
        {
          "name": "stdout",
          "output_type": "stream",
          "text": [
            "Epoch 1/20\n",
            "111/111 [==============================] - 2s 8ms/step - loss: 176.4421 - mae: 9.7518 - val_loss: 40.1687 - val_mae: 5.2627\n",
            "Epoch 2/20\n",
            "111/111 [==============================] - 1s 6ms/step - loss: 25.7334 - mae: 3.8410 - val_loss: 12.4803 - val_mae: 2.7096\n",
            "Epoch 3/20\n",
            "111/111 [==============================] - 1s 6ms/step - loss: 9.4238 - mae: 2.3544 - val_loss: 6.2638 - val_mae: 1.9274\n",
            "Epoch 4/20\n",
            "111/111 [==============================] - 1s 7ms/step - loss: 4.2071 - mae: 1.5911 - val_loss: 2.7501 - val_mae: 1.3267\n",
            "Epoch 5/20\n",
            "111/111 [==============================] - 1s 7ms/step - loss: 2.3970 - mae: 1.2467 - val_loss: 1.9288 - val_mae: 1.1388\n",
            "Epoch 6/20\n",
            "111/111 [==============================] - 1s 6ms/step - loss: 1.8316 - mae: 1.1152 - val_loss: 1.5683 - val_mae: 1.0495\n",
            "Epoch 7/20\n",
            "111/111 [==============================] - 1s 7ms/step - loss: 1.6542 - mae: 1.0748 - val_loss: 1.4872 - val_mae: 1.0258\n",
            "Epoch 8/20\n",
            "111/111 [==============================] - 1s 6ms/step - loss: 1.5169 - mae: 1.0362 - val_loss: 1.4301 - val_mae: 1.0192\n",
            "Epoch 9/20\n",
            "111/111 [==============================] - 1s 7ms/step - loss: 1.5119 - mae: 1.0339 - val_loss: 1.3866 - val_mae: 0.9963\n",
            "Epoch 10/20\n",
            "111/111 [==============================] - 1s 6ms/step - loss: 1.4113 - mae: 1.0044 - val_loss: 1.3176 - val_mae: 0.9856\n",
            "Epoch 11/20\n",
            "111/111 [==============================] - 1s 7ms/step - loss: 1.4206 - mae: 1.0057 - val_loss: 1.3670 - val_mae: 0.9909\n",
            "Epoch 12/20\n",
            "111/111 [==============================] - 1s 6ms/step - loss: 1.2983 - mae: 0.9669 - val_loss: 1.2868 - val_mae: 0.9680\n",
            "Epoch 13/20\n",
            "111/111 [==============================] - 1s 7ms/step - loss: 1.4259 - mae: 0.9999 - val_loss: 1.2657 - val_mae: 0.9625\n",
            "Epoch 14/20\n",
            "111/111 [==============================] - 1s 11ms/step - loss: 1.2612 - mae: 0.9561 - val_loss: 1.2985 - val_mae: 0.9662\n",
            "Epoch 15/20\n",
            "111/111 [==============================] - 1s 12ms/step - loss: 1.2237 - mae: 0.9395 - val_loss: 1.4654 - val_mae: 1.0078\n",
            "Epoch 16/20\n",
            "111/111 [==============================] - 1s 11ms/step - loss: 1.2830 - mae: 0.9529 - val_loss: 1.2656 - val_mae: 0.9516\n",
            "Epoch 17/20\n",
            "111/111 [==============================] - 1s 11ms/step - loss: 1.2461 - mae: 0.9396 - val_loss: 1.2259 - val_mae: 0.9369\n",
            "Epoch 18/20\n",
            "111/111 [==============================] - 1s 6ms/step - loss: 1.2166 - mae: 0.9312 - val_loss: 1.4917 - val_mae: 1.0115\n",
            "Epoch 19/20\n",
            "111/111 [==============================] - 1s 6ms/step - loss: 1.2326 - mae: 0.9325 - val_loss: 1.2247 - val_mae: 0.9301\n",
            "Epoch 20/20\n",
            "111/111 [==============================] - 1s 7ms/step - loss: 1.1453 - mae: 0.9017 - val_loss: 1.1947 - val_mae: 0.9223\n",
            "28/28 [==============================] - 0s 2ms/step\n",
            "CNN Model Accuracy: 23.32%\n",
            "              precision    recall  f1-score   support\n",
            "\n",
            "          -1       0.00      0.00      0.00         0\n",
            "           0       0.41      0.07      0.13       240\n",
            "           1       0.29      0.50      0.37       214\n",
            "           2       0.30      0.54      0.38       227\n",
            "           3       0.00      0.00      0.00         0\n",
            "           4       0.00      0.00      0.00       207\n",
            "\n",
            "    accuracy                           0.28       888\n",
            "   macro avg       0.17      0.19      0.15       888\n",
            "weighted avg       0.26      0.28      0.22       888\n",
            "\n"
          ]
        }
      ],
      "source": [
        "import pandas as pd\n",
        "import numpy as np\n",
        "import re\n",
        "from sklearn.model_selection import train_test_split\n",
        "from sklearn.preprocessing import StandardScaler\n",
        "from sklearn.metrics import classification_report\n",
        "import tensorflow as tf\n",
        "from tensorflow.keras.models import Sequential\n",
        "from tensorflow.keras.layers import Dense, Conv1D, MaxPooling1D, Flatten\n",
        "from tensorflow.keras.optimizers import Adam\n",
        "\n",
        "# Load the data\n",
        "data = pd.read_csv('/content/drive/MyDrive/extracted_features.csv')\n",
        "\n",
        "# Correct the parsing of feature arrays by ensuring proper formatting\n",
        "def clean_feature_string(feature_string):\n",
        "    cleaned_string = re.sub(r'\\s+', ',', feature_string.strip())\n",
        "    cleaned_string = cleaned_string.replace('[,', '[').replace(',,', ',').replace(',]', ']')\n",
        "    return np.array(eval(cleaned_string))\n",
        "\n",
        "data['Feature'] = data['Feature'].apply(clean_feature_string)\n",
        "\n",
        "# Stack features into a 2D array and labels into a 1D array\n",
        "features = np.stack(data['Feature'].values)\n",
        "labels = data['Label'].values\n",
        "\n",
        "# Normalize the features\n",
        "scaler = StandardScaler()\n",
        "features_normalized = scaler.fit_transform(features)\n",
        "\n",
        "# Split the data into training and testing sets\n",
        "X_train, X_test, y_train, y_test = train_test_split(features_normalized, labels, test_size=0.2, random_state=42)\n",
        "\n",
        "# Reshape the data to fit the model input\n",
        "X_train_cnn = X_train.reshape(X_train.shape[0], X_train.shape[1], 1)\n",
        "X_test_cnn = X_test.reshape(X_test.shape[0], X_test.shape[1], 1)\n",
        "\n",
        "# Define the CNN model\n",
        "model = Sequential([\n",
        "    Conv1D(32, kernel_size=3, activation='relu', input_shape=(50, 1)),\n",
        "    MaxPooling1D(pool_size=2),\n",
        "    Conv1D(64, kernel_size=3, activation='relu'),\n",
        "    MaxPooling1D(pool_size=2),\n",
        "    Flatten(),\n",
        "    Dense(100, activation='relu'),\n",
        "    Dense(1, activation='linear')\n",
        "])\n",
        "\n",
        "# Compile the model\n",
        "model.compile(optimizer=Adam(learning_rate=0.001), loss='mean_squared_error', metrics=['mae'])\n",
        "\n",
        "# Train the model\n",
        "history = model.fit(X_train_cnn, y_train, epochs=20, batch_size=32, validation_data=(X_test_cnn, y_test))\n",
        "\n",
        "# Predict on the test data\n",
        "y_test_pred = model.predict(X_test_cnn)\n",
        "\n",
        "# Convert the continuous output to discrete bins\n",
        "num_bins = 5  # Number of bins can be adjusted\n",
        "bins = np.linspace(min(labels), max(labels), num_bins)\n",
        "y_test_binned = np.digitize(y_test, bins) - 1\n",
        "y_test_pred_binned = np.digitize(y_test_pred, bins) - 1\n",
        "\n",
        "# Calculate the classification report\n",
        "report = classification_report(y_test_binned, y_test_pred_binned)\n",
        "\n",
        "# Calculate accuracy\n",
        "accuracy = np.mean(y_test_binned == y_test_pred_binned)\n",
        "\n",
        "print(f\"CNN Model Accuracy: {accuracy * 100:.2f}%\")\n",
        "print(report)\n"
      ]
    },
    {
      "cell_type": "code",
      "execution_count": null,
      "metadata": {
        "colab": {
          "base_uri": "https://localhost:8080/"
        },
        "id": "69iQ9NICzOto",
        "outputId": "b9753bcf-63f1-4b3c-ae6d-b9088b47799e"
      },
      "outputs": [
        {
          "name": "stdout",
          "output_type": "stream",
          "text": [
            "Epoch 1/20\n",
            "111/111 [==============================] - 4s 13ms/step - loss: 175.7122 - mae: 9.6878 - val_loss: 35.9343 - val_mae: 4.8169\n",
            "Epoch 2/20\n",
            "111/111 [==============================] - 1s 11ms/step - loss: 26.5478 - mae: 3.9539 - val_loss: 12.8748 - val_mae: 2.8419\n",
            "Epoch 3/20\n",
            "111/111 [==============================] - 1s 11ms/step - loss: 10.0083 - mae: 2.4371 - val_loss: 5.9592 - val_mae: 1.9236\n",
            "Epoch 4/20\n",
            "111/111 [==============================] - 1s 11ms/step - loss: 4.5641 - mae: 1.6779 - val_loss: 2.8791 - val_mae: 1.3650\n",
            "Epoch 5/20\n",
            "111/111 [==============================] - 1s 11ms/step - loss: 2.3866 - mae: 1.2546 - val_loss: 2.2113 - val_mae: 1.2204\n",
            "Epoch 6/20\n",
            "111/111 [==============================] - 2s 20ms/step - loss: 1.8034 - mae: 1.1048 - val_loss: 1.5750 - val_mae: 1.0529\n",
            "Epoch 7/20\n",
            "111/111 [==============================] - 2s 16ms/step - loss: 1.6314 - mae: 1.0653 - val_loss: 1.4604 - val_mae: 1.0232\n",
            "Epoch 8/20\n",
            "111/111 [==============================] - 2s 16ms/step - loss: 1.5168 - mae: 1.0322 - val_loss: 1.7220 - val_mae: 1.0951\n",
            "Epoch 9/20\n",
            "111/111 [==============================] - 1s 13ms/step - loss: 1.5403 - mae: 1.0420 - val_loss: 1.4340 - val_mae: 1.0148\n",
            "Epoch 10/20\n",
            "111/111 [==============================] - 1s 10ms/step - loss: 1.4810 - mae: 1.0254 - val_loss: 1.9822 - val_mae: 1.1525\n",
            "Epoch 11/20\n",
            "111/111 [==============================] - 1s 11ms/step - loss: 1.4082 - mae: 1.0039 - val_loss: 1.3328 - val_mae: 0.9884\n",
            "Epoch 12/20\n",
            "111/111 [==============================] - 1s 11ms/step - loss: 1.3705 - mae: 0.9979 - val_loss: 1.3310 - val_mae: 0.9872\n",
            "Epoch 13/20\n",
            "111/111 [==============================] - 1s 10ms/step - loss: 1.3818 - mae: 0.9951 - val_loss: 1.5155 - val_mae: 1.0311\n",
            "Epoch 14/20\n",
            "111/111 [==============================] - 1s 10ms/step - loss: 1.3872 - mae: 0.9972 - val_loss: 1.3259 - val_mae: 0.9818\n",
            "Epoch 15/20\n",
            "111/111 [==============================] - 1s 12ms/step - loss: 1.3247 - mae: 0.9762 - val_loss: 1.2513 - val_mae: 0.9643\n",
            "Epoch 16/20\n",
            "111/111 [==============================] - 1s 11ms/step - loss: 1.2890 - mae: 0.9660 - val_loss: 1.3076 - val_mae: 0.9748\n",
            "Epoch 17/20\n",
            "111/111 [==============================] - 1s 12ms/step - loss: 1.3377 - mae: 0.9780 - val_loss: 1.8805 - val_mae: 1.1224\n",
            "Epoch 18/20\n",
            "111/111 [==============================] - 2s 15ms/step - loss: 1.3365 - mae: 0.9770 - val_loss: 1.2575 - val_mae: 0.9597\n",
            "Epoch 19/20\n",
            "111/111 [==============================] - 2s 15ms/step - loss: 1.2916 - mae: 0.9591 - val_loss: 1.3571 - val_mae: 0.9819\n",
            "Epoch 20/20\n",
            "111/111 [==============================] - 1s 13ms/step - loss: 1.3001 - mae: 0.9644 - val_loss: 1.2133 - val_mae: 0.9456\n",
            "28/28 [==============================] - 0s 4ms/step - loss: 1.2133 - mae: 0.9456\n",
            "Test Loss: 1.2132960557937622\n",
            "Test MAE: 0.9456014037132263\n"
          ]
        }
      ],
      "source": [
        "import pandas as pd\n",
        "import numpy as np\n",
        "import re\n",
        "from sklearn.model_selection import train_test_split\n",
        "from sklearn.preprocessing import StandardScaler\n",
        "import tensorflow as tf\n",
        "from tensorflow.keras.models import Sequential\n",
        "from tensorflow.keras.layers import Dense, Conv1D, MaxPooling1D, Flatten\n",
        "from tensorflow.keras.optimizers import Adam\n",
        "\n",
        "# Load the data\n",
        "data = pd.read_csv('/content/drive/MyDrive/extracted_features.csv')\n",
        "\n",
        "# Correct the parsing of feature arrays by ensuring proper formatting\n",
        "def clean_feature_string(feature_string):\n",
        "    cleaned_string = re.sub(r'\\s+', ',', feature_string.strip())\n",
        "    cleaned_string = cleaned_string.replace('[,', '[').replace(',,', ',').replace(',]', ']')\n",
        "    return np.array(eval(cleaned_string))\n",
        "\n",
        "data['Feature'] = data['Feature'].apply(clean_feature_string)\n",
        "\n",
        "# Stack features into a 2D array and labels into a 1D array\n",
        "features = np.stack(data['Feature'].values)\n",
        "labels = data['Label'].values\n",
        "\n",
        "# Normalize the features\n",
        "scaler = StandardScaler()\n",
        "features_normalized = scaler.fit_transform(features)\n",
        "\n",
        "# Split the data into training and testing sets\n",
        "X_train, X_test, y_train, y_test = train_test_split(features_normalized, labels, test_size=0.2, random_state=42)\n",
        "\n",
        "# Reshape the data to fit the model input\n",
        "X_train_cnn = X_train.reshape(X_train.shape[0], X_train.shape[1], 1)\n",
        "X_test_cnn = X_test.reshape(X_test.shape[0], X_test.shape[1], 1)\n",
        "\n",
        "# Define the CNN model\n",
        "model = Sequential([\n",
        "    Conv1D(32, kernel_size=3, activation='relu', input_shape=(50, 1)),\n",
        "    MaxPooling1D(pool_size=2),\n",
        "    Conv1D(64, kernel_size=3, activation='relu'),\n",
        "    MaxPooling1D(pool_size=2),\n",
        "    Flatten(),\n",
        "    Dense(100, activation='relu'),\n",
        "    Dense(1, activation='linear')\n",
        "])\n",
        "\n",
        "# Compile the model\n",
        "model.compile(optimizer=Adam(learning_rate=0.001), loss='mean_squared_error', metrics=['mae'])\n",
        "\n",
        "# Train the model\n",
        "history = model.fit(X_train_cnn, y_train, epochs=20, batch_size=32, validation_data=(X_test_cnn, y_test))\n",
        "\n",
        "# Evaluate the model on the test data\n",
        "test_loss, test_mae = model.evaluate(X_test_cnn, y_test)\n",
        "\n",
        "print(\"Test Loss:\", test_loss)\n",
        "print(\"Test MAE:\", test_mae)\n"
      ]
    },
    {
      "cell_type": "markdown",
      "metadata": {
        "id": "8RaJptFA-Ls0"
      },
      "source": [
        "## Extra proprocess"
      ]
    },
    {
      "cell_type": "code",
      "execution_count": null,
      "metadata": {
        "id": "QmIB7uxm3-RT"
      },
      "outputs": [],
      "source": [
        "import pandas as pd\n",
        "import numpy as np\n",
        "from sklearn.preprocessing import StandardScaler\n",
        "from sklearn.model_selection import train_test_split\n",
        "import tensorflow as tf\n",
        "\n",
        "\n",
        "# Function to clean feature strings\n",
        "def clean_feature_string(feature_str):\n",
        "    if pd.isnull(feature_str) or not feature_str.strip() or feature_str == '[]':\n",
        "        return []\n",
        "    return feature_str.strip('[]').replace(' ', ',').replace('\\n', '')\n",
        "\n",
        "# Apply the cleaning function\n",
        "data['Feature'] = data['Feature'].apply(clean_feature_string)\n",
        "\n",
        "# Handle empty features by filling them with a placeholder (e.g., [0.0])\n",
        "data['Feature'] = data['Feature'].apply(lambda x: [0.0] * 10 if not x else x)\n",
        "\n",
        "# Convert the 'Feature' column from string to list of floats\n",
        "data['Feature'] = data['Feature'].apply(lambda x: [float(i) for i in x.split(',') if i])\n",
        "\n",
        "# Separate features and labels\n",
        "X = np.array(data['Feature'].tolist())\n",
        "y = data['Label'].values\n",
        "\n",
        "# Normalize the features\n",
        "scaler = StandardScaler()\n",
        "X = scaler.fit_transform(X)\n",
        "\n",
        "# Adjust labels to be zero-based\n",
        "label_mapping = {label: index for index, label in enumerate(np.unique(y))}\n",
        "y = np.array([label_mapping[label] for label in y])\n",
        "\n",
        "# Split the data into training and testing sets\n",
        "X_train, X_test, y_train, y_test = train_test_split(X, y, test_size=0.2, random_state=42)\n",
        "\n",
        "# Convert labels to categorical\n",
        "num_classes = len(np.unique(y))\n",
        "y_train = tf.keras.utils.to_categorical(y_train, num_classes=num_classes)\n",
        "y_test = tf.keras.utils.to_categorical(y_test, num_classes=num_classes)\n",
        "\n",
        "print(\"First few rows of scaled features:\")\n",
        "print(X[:5])\n",
        "print(\"First few labels (one-hot encoded):\")\n",
        "print(y_train[:5])\n",
        "\n",
        "print(\"Data cleaning and preparation complete.\")\n"
      ]
    },
    {
      "cell_type": "code",
      "execution_count": null,
      "metadata": {
        "colab": {
          "base_uri": "https://localhost:8080/"
        },
        "id": "DrxFm8tV8myO",
        "outputId": "fd5c2000-72e8-4e96-f98f-bd2b7e32c6f2"
      },
      "outputs": [
        {
          "name": "stdout",
          "output_type": "stream",
          "text": [
            "                                             Feature  Label\n",
            "0  [-1.10592278e+00  1.26334574e-01  1.80643464e-...     34\n",
            "1  [-1.59924221 -0.40243337 -0.31018183  0.224682...     31\n",
            "2  [-1.82392118  0.0323609  -0.63397414 -0.298704...     33\n",
            "3  [-2.02208584 -0.86507523  0.47099887  0.28327 ...     34\n",
            "4  [-2.23357765 -0.59810067 -0.53470548 -0.338026...     33\n",
            "[34 31 33 32]\n",
            "Label\n",
            "34    50\n",
            "31    50\n",
            "33    50\n",
            "32    50\n",
            "Name: count, dtype: int64\n",
            "First few rows of scaled features:\n",
            "[[ 3.77990529e-01  1.54757842e+00  1.28896999e+00  1.60678322e+00\n",
            "   7.11408168e-01  1.23456748e+00  4.28556105e+00  1.44633189e+00\n",
            "   8.59980444e-01  6.23869014e-02  1.25626824e-01  2.33765317e+00\n",
            "   6.43307720e-01  1.23008561e+00  1.58786304e+00  1.28558636e+00\n",
            "   2.43454844e+00  7.40956414e-01  3.00150890e+00  1.72194286e+00\n",
            "   5.22425818e-01  3.84711981e+00  6.15001906e-01  5.06155898e+00\n",
            "   4.31361047e+00  2.73515148e+00 -1.26054528e+00  7.57351592e-02\n",
            "   3.06943753e+00  1.99457431e+00  2.26970806e+00  1.65134862e+00\n",
            "   8.57201502e-01  1.02579848e+00 -2.05505973e-01 -4.94043147e-01\n",
            "   3.88056081e-01  1.64535454e+00  1.34768707e-01  2.47550741e+00\n",
            "  -1.59856922e-01 -2.18740127e-01  2.63285222e+00  1.62427749e+00\n",
            "   6.78541340e-01  3.24146345e+00  2.18367295e+00  2.15322964e+00\n",
            "  -3.94555551e-01  5.79991222e-01]\n",
            " [-2.00065379e-01  5.10109710e-01  4.54456005e-01  1.45508460e+00\n",
            "  -2.61695907e-01  5.39757139e-01  1.12795603e+00  7.71392326e-01\n",
            "   2.62090344e+00  1.49735260e+00  1.08153656e+00  6.85761269e-01\n",
            "   2.92400917e-01  9.65027080e-01  1.49757493e+00 -1.55552313e-01\n",
            "   8.95238937e-01  1.13164697e+00  5.39118559e-01  3.87824946e-01\n",
            "   2.62176751e-01  4.88748978e-01 -5.23934603e-01  1.48970767e+00\n",
            "   6.16265101e-01  7.30383864e-01  9.99656634e-01  1.80776218e+00\n",
            "   2.11915443e+00  1.48560636e-01  3.38947790e-01  2.02121798e+00\n",
            "   2.08721278e+00  1.12352058e+00  8.12983738e-01  7.56179069e-01\n",
            "   1.14430498e+00  5.81608077e-01  2.17717341e+00  2.48319747e+00\n",
            "   4.38089224e-01  1.06258369e+00 -7.88007290e-02  2.60686253e+00\n",
            "   2.17326188e+00  4.53434480e-01  6.65325092e-01  2.32836569e+00\n",
            "   1.11734252e+00  9.01300238e-01]\n",
            " [-4.63337001e-01  1.36319745e+00 -9.60641384e-02  2.98162202e-01\n",
            "  -5.67815242e-01  3.73872082e-02  1.92693881e-02 -5.04165259e-01\n",
            "  -6.09543160e-01  2.92794988e-01  1.19656435e+00  3.47236281e+00\n",
            "   3.38375841e+00  4.59658202e-01  2.76399960e-02  3.00292857e+00\n",
            "  -5.97790497e-01  4.07129831e-01  3.76409006e+00  1.49279745e-01\n",
            "   7.96619081e-01  8.52746733e-01  3.05546937e+00  5.70572142e-01\n",
            "   1.09095091e+00  5.35332916e-01  1.88762073e+00  3.45979137e-01\n",
            "   1.40041357e+00  1.39542783e+00  8.56494876e-01  1.03249388e+00\n",
            "  -5.97918541e-01 -5.51995772e-01 -2.73683574e-01  1.76794321e-01\n",
            "   1.64645075e+00  2.28487238e-01  3.54751919e-01  4.43793751e+00\n",
            "   1.72923291e+00  1.75660927e+00  1.55330947e-01  1.85670223e-01\n",
            "   1.08708594e+00  6.16983090e-01 -6.78798902e-04  3.20022018e-02\n",
            "   9.12656043e-01  1.35072584e+00]\n",
            " [-6.95540003e-01 -3.97616370e-01  1.78263984e+00  1.58458862e+00\n",
            "   9.02203895e-01  6.00724121e-02  2.99334832e+00  1.92269148e+00\n",
            "   1.61633043e+00  1.11650830e+00  3.61441010e-01  2.04847614e+00\n",
            "   6.66854692e-01  1.41781929e+00  3.85131740e-01  1.35399683e+00\n",
            "   1.77368889e+00  1.08889278e+00  3.77293691e+00  2.55773239e+00\n",
            "   1.14607856e+00  3.27258246e+00  5.02208129e-01  1.65962895e+00\n",
            "   2.97628531e+00  2.57236784e+00 -3.05331259e-02  5.14200019e-01\n",
            "   5.19824409e+00  1.42682955e+00  5.31087888e-01  1.11694016e+00\n",
            "   7.78241370e-01  2.02140110e-01  1.33929213e+00  8.02916067e-02\n",
            "   1.06815169e+00  3.35412367e+00 -2.74399469e-02  3.55895954e+00\n",
            "   8.26256882e-01  2.44402154e+00  1.66095038e+00  3.65143781e-01\n",
            "   8.79584878e-02  3.66273423e+00  9.99970513e-01  1.25034403e+00\n",
            "  -3.27876954e-01 -3.06783163e-02]\n",
            " [-9.43359332e-01  1.26200846e-01  7.27150304e-02  2.11242262e-01\n",
            "   8.93364025e-01 -4.72241834e-02  1.78220109e+00  1.42280838e-01\n",
            "   3.01501280e-01  1.59927703e+00  1.73432884e+00  1.63760463e+00\n",
            "   3.90868004e+00  2.27980407e+00  8.49334492e-01  1.14075637e+00\n",
            "  -9.58357990e-01  3.41521631e-01  3.86198895e+00 -4.39797032e-01\n",
            "   1.91616722e-01 -1.69896642e-01  1.20946660e+00  4.61110041e-01\n",
            "  -4.31488319e-02  5.35138180e-01  2.35235693e+00  1.26115602e+00\n",
            "   1.87907788e+00  1.18693200e+00  7.76113527e-01  7.91657923e-01\n",
            "  -4.49322800e-01  2.93106512e-01 -5.15198764e-01  1.65894814e+00\n",
            "   1.41940931e+00 -2.86428334e-01  7.92825283e-01  1.77976236e+00\n",
            "   2.57048266e-01  2.26227409e+00  1.38599570e+00 -6.80790542e-01\n",
            "   1.83816503e+00  1.61295146e+00  3.85140571e-01 -1.41332570e-01\n",
            "   2.06277749e+00  8.40220490e-01]]\n",
            "First few labels (one-hot encoded):\n",
            "[[0. 0. 1. 0.]\n",
            " [1. 0. 0. 0.]\n",
            " [0. 1. 0. 0.]\n",
            " [0. 1. 0. 0.]\n",
            " [0. 1. 0. 0.]]\n",
            "Data cleaning and preparation complete.\n"
          ]
        }
      ],
      "source": [
        "import pandas as pd\n",
        "import numpy as np\n",
        "from sklearn.preprocessing import StandardScaler\n",
        "from sklearn.model_selection import train_test_split\n",
        "import tensorflow as tf\n",
        "\n",
        "import pandas as pd\n",
        "\n",
        "# Load the CSV file\n",
        "text_csv_file_name = '/content/drive/MyDrive/MyOutput/tested_extracted_features2.csv'\n",
        "data = pd.read_csv(text_csv_file_name)\n",
        "\n",
        "\n",
        "# Display the first few rows of the dataframe to inspect the data\n",
        "print(data.head())\n",
        "print(data['Label'].unique())\n",
        "print(data['Label'].value_counts())\n",
        "\n",
        "\n",
        "# Function to clean feature strings\n",
        "def clean_feature_string(feature_str):\n",
        "    if pd.isnull(feature_str) or not feature_str.strip() or feature_str == '[]':\n",
        "        return []\n",
        "    return feature_str.strip('[]').replace(' ', ',').replace('\\n', '')\n",
        "\n",
        "# Apply the cleaning function\n",
        "data['Feature'] = data['Feature'].apply(clean_feature_string)\n",
        "\n",
        "# Handle empty features by filling them with a placeholder (e.g., [0.0])\n",
        "data['Feature'] = data['Feature'].apply(lambda x: [0.0] * 10 if not x else x)\n",
        "\n",
        "# Convert the 'Feature' column from string to list of floats\n",
        "data['Feature'] = data['Feature'].apply(lambda x: [float(i) for i in x.split(',') if i])\n",
        "\n",
        "# Separate features and labels\n",
        "X = np.array(data['Feature'].tolist())\n",
        "y = data['Label'].values\n",
        "\n",
        "# Normalize the features\n",
        "scaler = StandardScaler()\n",
        "X = scaler.fit_transform(X)\n",
        "\n",
        "# Adjust labels to be zero-based (assuming the same label mapping as training)\n",
        "label_mapping = {label: index for index, label in enumerate(np.unique(y_new))}\n",
        "y_new = np.array([label_mapping[label] for label in y_new])\n",
        "\n",
        "# Convert labels to categorical\n",
        "num_classes = len(np.unique(y_new))\n",
        "y_new_categorical = tf.keras.utils.to_categorical(y_new, num_classes=num_classes)\n",
        "\n",
        "# Reshape the data to fit the model input\n",
        "X_new_reshaped = X_new.reshape(X_new.shape[0], X_new.shape[1], 1)\n",
        "\n",
        "print(\"First few rows of scaled features:\")\n",
        "print(X[:5])\n",
        "print(\"First few labels (one-hot encoded):\")\n",
        "print(y_train[:5])\n",
        "\n",
        "print(\"Data cleaning and preparation complete.\")\n"
      ]
    },
    {
      "cell_type": "markdown",
      "metadata": {
        "id": "ukwKJaO817fy"
      },
      "source": [
        "# EXTRA DIFFERENT MODEL TRAIN THAT WORK PERFECTLY"
      ]
    },
    {
      "cell_type": "markdown",
      "metadata": {
        "id": "4ZyLI3u7IzO7"
      },
      "source": [
        "## Fully Connected Feedforward Neural Network (MLP)\n",
        "fully connected feedforward neural network (also known as a multilayer perceptron or MLP)\n",
        "\n",
        "Fully Connected Feedforward Neural Network (MLP): This type of neural network consists of multiple layers where each neuron in one layer is connected to every neuron in the next layer. This architecture is suitable for tabular data and structured inputs."
      ]
    },
    {
      "cell_type": "code",
      "execution_count": null,
      "metadata": {
        "colab": {
          "base_uri": "https://localhost:8080/",
          "height": 1000
        },
        "id": "CQmZ-4EQ82Mb",
        "outputId": "305700fc-7aa6-42ba-b6d0-b828ace686f2"
      },
      "outputs": [
        {
          "output_type": "stream",
          "name": "stdout",
          "text": [
            "Epoch 1/100\n",
            "111/111 - 2s - loss: 1.5533 - accuracy: 0.2751 - val_loss: 1.3351 - val_accuracy: 0.3694 - 2s/epoch - 20ms/step\n",
            "Epoch 2/100\n",
            "111/111 - 0s - loss: 1.3876 - accuracy: 0.3111 - val_loss: 1.3165 - val_accuracy: 0.4369 - 320ms/epoch - 3ms/step\n",
            "Epoch 3/100\n",
            "111/111 - 0s - loss: 1.3312 - accuracy: 0.3711 - val_loss: 1.2893 - val_accuracy: 0.4764 - 234ms/epoch - 2ms/step\n",
            "Epoch 4/100\n",
            "111/111 - 0s - loss: 1.3106 - accuracy: 0.3871 - val_loss: 1.2569 - val_accuracy: 0.4685 - 226ms/epoch - 2ms/step\n",
            "Epoch 5/100\n",
            "111/111 - 0s - loss: 1.2600 - accuracy: 0.4288 - val_loss: 1.2123 - val_accuracy: 0.5079 - 229ms/epoch - 2ms/step\n",
            "Epoch 6/100\n",
            "111/111 - 0s - loss: 1.2399 - accuracy: 0.4443 - val_loss: 1.1854 - val_accuracy: 0.5045 - 257ms/epoch - 2ms/step\n",
            "Epoch 7/100\n",
            "111/111 - 0s - loss: 1.2082 - accuracy: 0.4569 - val_loss: 1.1551 - val_accuracy: 0.5338 - 242ms/epoch - 2ms/step\n",
            "Epoch 8/100\n",
            "111/111 - 0s - loss: 1.1712 - accuracy: 0.4944 - val_loss: 1.1239 - val_accuracy: 0.5495 - 236ms/epoch - 2ms/step\n",
            "Epoch 9/100\n",
            "111/111 - 0s - loss: 1.1638 - accuracy: 0.4983 - val_loss: 1.1114 - val_accuracy: 0.5450 - 261ms/epoch - 2ms/step\n",
            "Epoch 10/100\n",
            "111/111 - 0s - loss: 1.1492 - accuracy: 0.5076 - val_loss: 1.1001 - val_accuracy: 0.5586 - 258ms/epoch - 2ms/step\n",
            "Epoch 11/100\n",
            "111/111 - 0s - loss: 1.1097 - accuracy: 0.5217 - val_loss: 1.0866 - val_accuracy: 0.5574 - 232ms/epoch - 2ms/step\n",
            "Epoch 12/100\n",
            "111/111 - 0s - loss: 1.1036 - accuracy: 0.5256 - val_loss: 1.0610 - val_accuracy: 0.5788 - 253ms/epoch - 2ms/step\n",
            "Epoch 13/100\n",
            "111/111 - 0s - loss: 1.0829 - accuracy: 0.5405 - val_loss: 1.0508 - val_accuracy: 0.5822 - 234ms/epoch - 2ms/step\n",
            "Epoch 14/100\n",
            "111/111 - 0s - loss: 1.0673 - accuracy: 0.5338 - val_loss: 1.0399 - val_accuracy: 0.5777 - 256ms/epoch - 2ms/step\n",
            "Epoch 15/100\n",
            "111/111 - 0s - loss: 1.0310 - accuracy: 0.5645 - val_loss: 1.0148 - val_accuracy: 0.5901 - 273ms/epoch - 2ms/step\n",
            "Epoch 16/100\n",
            "111/111 - 0s - loss: 1.0242 - accuracy: 0.5678 - val_loss: 1.0050 - val_accuracy: 0.6002 - 228ms/epoch - 2ms/step\n",
            "Epoch 17/100\n",
            "111/111 - 0s - loss: 1.0373 - accuracy: 0.5718 - val_loss: 1.0077 - val_accuracy: 0.6014 - 255ms/epoch - 2ms/step\n",
            "Epoch 18/100\n",
            "111/111 - 0s - loss: 1.0027 - accuracy: 0.5828 - val_loss: 0.9780 - val_accuracy: 0.6227 - 275ms/epoch - 2ms/step\n",
            "Epoch 19/100\n",
            "111/111 - 0s - loss: 0.9904 - accuracy: 0.5850 - val_loss: 0.9776 - val_accuracy: 0.6250 - 269ms/epoch - 2ms/step\n",
            "Epoch 20/100\n",
            "111/111 - 0s - loss: 0.9816 - accuracy: 0.5974 - val_loss: 0.9655 - val_accuracy: 0.6306 - 259ms/epoch - 2ms/step\n",
            "Epoch 21/100\n",
            "111/111 - 0s - loss: 0.9875 - accuracy: 0.5907 - val_loss: 0.9633 - val_accuracy: 0.6261 - 226ms/epoch - 2ms/step\n",
            "Epoch 22/100\n",
            "111/111 - 0s - loss: 0.9685 - accuracy: 0.5994 - val_loss: 0.9523 - val_accuracy: 0.6306 - 237ms/epoch - 2ms/step\n",
            "Epoch 23/100\n",
            "111/111 - 0s - loss: 0.9425 - accuracy: 0.6239 - val_loss: 0.9459 - val_accuracy: 0.6318 - 242ms/epoch - 2ms/step\n",
            "Epoch 24/100\n",
            "111/111 - 0s - loss: 0.9473 - accuracy: 0.6126 - val_loss: 0.9353 - val_accuracy: 0.6239 - 233ms/epoch - 2ms/step\n",
            "Epoch 25/100\n",
            "111/111 - 0s - loss: 0.9318 - accuracy: 0.6078 - val_loss: 0.9334 - val_accuracy: 0.6171 - 258ms/epoch - 2ms/step\n",
            "Epoch 26/100\n",
            "111/111 - 0s - loss: 0.9106 - accuracy: 0.6275 - val_loss: 0.9183 - val_accuracy: 0.6419 - 244ms/epoch - 2ms/step\n",
            "Epoch 27/100\n",
            "111/111 - 0s - loss: 0.9079 - accuracy: 0.6230 - val_loss: 0.9104 - val_accuracy: 0.6374 - 268ms/epoch - 2ms/step\n",
            "Epoch 28/100\n",
            "111/111 - 0s - loss: 0.8884 - accuracy: 0.6289 - val_loss: 0.8987 - val_accuracy: 0.6396 - 230ms/epoch - 2ms/step\n",
            "Epoch 29/100\n",
            "111/111 - 0s - loss: 0.8961 - accuracy: 0.6275 - val_loss: 0.9015 - val_accuracy: 0.6295 - 340ms/epoch - 3ms/step\n",
            "Epoch 30/100\n",
            "111/111 - 0s - loss: 0.8821 - accuracy: 0.6340 - val_loss: 0.8913 - val_accuracy: 0.6498 - 379ms/epoch - 3ms/step\n",
            "Epoch 31/100\n",
            "111/111 - 0s - loss: 0.8464 - accuracy: 0.6574 - val_loss: 0.8723 - val_accuracy: 0.6610 - 330ms/epoch - 3ms/step\n",
            "Epoch 32/100\n",
            "111/111 - 0s - loss: 0.8685 - accuracy: 0.6517 - val_loss: 0.8682 - val_accuracy: 0.6554 - 357ms/epoch - 3ms/step\n",
            "Epoch 33/100\n",
            "111/111 - 0s - loss: 0.8550 - accuracy: 0.6540 - val_loss: 0.8607 - val_accuracy: 0.6588 - 376ms/epoch - 3ms/step\n",
            "Epoch 34/100\n",
            "111/111 - 0s - loss: 0.8420 - accuracy: 0.6554 - val_loss: 0.8603 - val_accuracy: 0.6655 - 361ms/epoch - 3ms/step\n",
            "Epoch 35/100\n",
            "111/111 - 0s - loss: 0.8182 - accuracy: 0.6672 - val_loss: 0.8526 - val_accuracy: 0.6610 - 360ms/epoch - 3ms/step\n",
            "Epoch 36/100\n",
            "111/111 - 0s - loss: 0.8179 - accuracy: 0.6712 - val_loss: 0.8475 - val_accuracy: 0.6655 - 361ms/epoch - 3ms/step\n",
            "Epoch 37/100\n",
            "111/111 - 0s - loss: 0.8236 - accuracy: 0.6692 - val_loss: 0.8575 - val_accuracy: 0.6430 - 383ms/epoch - 3ms/step\n",
            "Epoch 38/100\n",
            "111/111 - 0s - loss: 0.8141 - accuracy: 0.6644 - val_loss: 0.8463 - val_accuracy: 0.6723 - 311ms/epoch - 3ms/step\n",
            "Epoch 39/100\n",
            "111/111 - 0s - loss: 0.8037 - accuracy: 0.6802 - val_loss: 0.8320 - val_accuracy: 0.6667 - 271ms/epoch - 2ms/step\n",
            "Epoch 40/100\n",
            "111/111 - 0s - loss: 0.7931 - accuracy: 0.6782 - val_loss: 0.8342 - val_accuracy: 0.6610 - 227ms/epoch - 2ms/step\n",
            "Epoch 41/100\n",
            "111/111 - 0s - loss: 0.8012 - accuracy: 0.6872 - val_loss: 0.8303 - val_accuracy: 0.6610 - 231ms/epoch - 2ms/step\n",
            "Epoch 42/100\n",
            "111/111 - 0s - loss: 0.7933 - accuracy: 0.6827 - val_loss: 0.8162 - val_accuracy: 0.6779 - 242ms/epoch - 2ms/step\n",
            "Epoch 43/100\n",
            "111/111 - 0s - loss: 0.7843 - accuracy: 0.6937 - val_loss: 0.8171 - val_accuracy: 0.6723 - 271ms/epoch - 2ms/step\n",
            "Epoch 44/100\n",
            "111/111 - 0s - loss: 0.7801 - accuracy: 0.6909 - val_loss: 0.8123 - val_accuracy: 0.6824 - 232ms/epoch - 2ms/step\n",
            "Epoch 45/100\n",
            "111/111 - 0s - loss: 0.7733 - accuracy: 0.6900 - val_loss: 0.8089 - val_accuracy: 0.6791 - 238ms/epoch - 2ms/step\n",
            "Epoch 46/100\n",
            "111/111 - 0s - loss: 0.7545 - accuracy: 0.6965 - val_loss: 0.8020 - val_accuracy: 0.6824 - 248ms/epoch - 2ms/step\n",
            "Epoch 47/100\n",
            "111/111 - 0s - loss: 0.7592 - accuracy: 0.7033 - val_loss: 0.7960 - val_accuracy: 0.6869 - 274ms/epoch - 2ms/step\n",
            "Epoch 48/100\n",
            "111/111 - 0s - loss: 0.7431 - accuracy: 0.7050 - val_loss: 0.7978 - val_accuracy: 0.6903 - 257ms/epoch - 2ms/step\n",
            "Epoch 49/100\n",
            "111/111 - 0s - loss: 0.7443 - accuracy: 0.7038 - val_loss: 0.7959 - val_accuracy: 0.6723 - 235ms/epoch - 2ms/step\n",
            "Epoch 50/100\n",
            "111/111 - 0s - loss: 0.7421 - accuracy: 0.7111 - val_loss: 0.7879 - val_accuracy: 0.6914 - 233ms/epoch - 2ms/step\n",
            "Epoch 51/100\n",
            "111/111 - 0s - loss: 0.7354 - accuracy: 0.7066 - val_loss: 0.7966 - val_accuracy: 0.6779 - 259ms/epoch - 2ms/step\n",
            "Epoch 52/100\n",
            "111/111 - 0s - loss: 0.7324 - accuracy: 0.7142 - val_loss: 0.7864 - val_accuracy: 0.6892 - 251ms/epoch - 2ms/step\n",
            "Epoch 53/100\n",
            "111/111 - 0s - loss: 0.7248 - accuracy: 0.7204 - val_loss: 0.7828 - val_accuracy: 0.6881 - 228ms/epoch - 2ms/step\n",
            "Epoch 54/100\n",
            "111/111 - 0s - loss: 0.7073 - accuracy: 0.7202 - val_loss: 0.7813 - val_accuracy: 0.6993 - 297ms/epoch - 3ms/step\n",
            "Epoch 55/100\n",
            "111/111 - 0s - loss: 0.6986 - accuracy: 0.7297 - val_loss: 0.7811 - val_accuracy: 0.7027 - 265ms/epoch - 2ms/step\n",
            "Epoch 56/100\n",
            "111/111 - 0s - loss: 0.7114 - accuracy: 0.7188 - val_loss: 0.7874 - val_accuracy: 0.6959 - 222ms/epoch - 2ms/step\n",
            "Epoch 57/100\n",
            "111/111 - 0s - loss: 0.6959 - accuracy: 0.7213 - val_loss: 0.7853 - val_accuracy: 0.6937 - 227ms/epoch - 2ms/step\n",
            "Epoch 58/100\n",
            "111/111 - 0s - loss: 0.6922 - accuracy: 0.7292 - val_loss: 0.7807 - val_accuracy: 0.6892 - 261ms/epoch - 2ms/step\n",
            "Epoch 59/100\n",
            "111/111 - 0s - loss: 0.7112 - accuracy: 0.7218 - val_loss: 0.7831 - val_accuracy: 0.6892 - 259ms/epoch - 2ms/step\n",
            "Epoch 60/100\n",
            "111/111 - 0s - loss: 0.7059 - accuracy: 0.7162 - val_loss: 0.7877 - val_accuracy: 0.6836 - 250ms/epoch - 2ms/step\n",
            "Epoch 61/100\n"
          ]
        },
        {
          "output_type": "error",
          "ename": "KeyboardInterrupt",
          "evalue": "",
          "traceback": [
            "\u001b[0;31m---------------------------------------------------------------------------\u001b[0m",
            "\u001b[0;31mKeyboardInterrupt\u001b[0m                         Traceback (most recent call last)",
            "\u001b[0;32m<ipython-input-69-9da0e7bb50c6>\u001b[0m in \u001b[0;36m<cell line: 23>\u001b[0;34m()\u001b[0m\n\u001b[1;32m     21\u001b[0m \u001b[0;34m\u001b[0m\u001b[0m\n\u001b[1;32m     22\u001b[0m \u001b[0;31m# Train the model\u001b[0m\u001b[0;34m\u001b[0m\u001b[0;34m\u001b[0m\u001b[0m\n\u001b[0;32m---> 23\u001b[0;31m history = model.fit(X_train, y_train, validation_data=(X_test, y_test),\n\u001b[0m\u001b[1;32m     24\u001b[0m                     epochs=100, batch_size=32, callbacks=[early_stopping], verbose=2)\n\u001b[1;32m     25\u001b[0m \u001b[0;34m\u001b[0m\u001b[0m\n",
            "\u001b[0;32m/usr/local/lib/python3.10/dist-packages/keras/src/utils/traceback_utils.py\u001b[0m in \u001b[0;36merror_handler\u001b[0;34m(*args, **kwargs)\u001b[0m\n\u001b[1;32m     63\u001b[0m         \u001b[0mfiltered_tb\u001b[0m \u001b[0;34m=\u001b[0m \u001b[0;32mNone\u001b[0m\u001b[0;34m\u001b[0m\u001b[0;34m\u001b[0m\u001b[0m\n\u001b[1;32m     64\u001b[0m         \u001b[0;32mtry\u001b[0m\u001b[0;34m:\u001b[0m\u001b[0;34m\u001b[0m\u001b[0;34m\u001b[0m\u001b[0m\n\u001b[0;32m---> 65\u001b[0;31m             \u001b[0;32mreturn\u001b[0m \u001b[0mfn\u001b[0m\u001b[0;34m(\u001b[0m\u001b[0;34m*\u001b[0m\u001b[0margs\u001b[0m\u001b[0;34m,\u001b[0m \u001b[0;34m**\u001b[0m\u001b[0mkwargs\u001b[0m\u001b[0;34m)\u001b[0m\u001b[0;34m\u001b[0m\u001b[0;34m\u001b[0m\u001b[0m\n\u001b[0m\u001b[1;32m     66\u001b[0m         \u001b[0;32mexcept\u001b[0m \u001b[0mException\u001b[0m \u001b[0;32mas\u001b[0m \u001b[0me\u001b[0m\u001b[0;34m:\u001b[0m\u001b[0;34m\u001b[0m\u001b[0;34m\u001b[0m\u001b[0m\n\u001b[1;32m     67\u001b[0m             \u001b[0mfiltered_tb\u001b[0m \u001b[0;34m=\u001b[0m \u001b[0m_process_traceback_frames\u001b[0m\u001b[0;34m(\u001b[0m\u001b[0me\u001b[0m\u001b[0;34m.\u001b[0m\u001b[0m__traceback__\u001b[0m\u001b[0;34m)\u001b[0m\u001b[0;34m\u001b[0m\u001b[0;34m\u001b[0m\u001b[0m\n",
            "\u001b[0;32m/usr/local/lib/python3.10/dist-packages/keras/src/engine/training.py\u001b[0m in \u001b[0;36mfit\u001b[0;34m(self, x, y, batch_size, epochs, verbose, callbacks, validation_split, validation_data, shuffle, class_weight, sample_weight, initial_epoch, steps_per_epoch, validation_steps, validation_batch_size, validation_freq, max_queue_size, workers, use_multiprocessing)\u001b[0m\n\u001b[1;32m   1805\u001b[0m                         ):\n\u001b[1;32m   1806\u001b[0m                             \u001b[0mcallbacks\u001b[0m\u001b[0;34m.\u001b[0m\u001b[0mon_train_batch_begin\u001b[0m\u001b[0;34m(\u001b[0m\u001b[0mstep\u001b[0m\u001b[0;34m)\u001b[0m\u001b[0;34m\u001b[0m\u001b[0;34m\u001b[0m\u001b[0m\n\u001b[0;32m-> 1807\u001b[0;31m                             \u001b[0mtmp_logs\u001b[0m \u001b[0;34m=\u001b[0m \u001b[0mself\u001b[0m\u001b[0;34m.\u001b[0m\u001b[0mtrain_function\u001b[0m\u001b[0;34m(\u001b[0m\u001b[0miterator\u001b[0m\u001b[0;34m)\u001b[0m\u001b[0;34m\u001b[0m\u001b[0;34m\u001b[0m\u001b[0m\n\u001b[0m\u001b[1;32m   1808\u001b[0m                             \u001b[0;32mif\u001b[0m \u001b[0mdata_handler\u001b[0m\u001b[0;34m.\u001b[0m\u001b[0mshould_sync\u001b[0m\u001b[0;34m:\u001b[0m\u001b[0;34m\u001b[0m\u001b[0;34m\u001b[0m\u001b[0m\n\u001b[1;32m   1809\u001b[0m                                 \u001b[0mcontext\u001b[0m\u001b[0;34m.\u001b[0m\u001b[0masync_wait\u001b[0m\u001b[0;34m(\u001b[0m\u001b[0;34m)\u001b[0m\u001b[0;34m\u001b[0m\u001b[0;34m\u001b[0m\u001b[0m\n",
            "\u001b[0;32m/usr/local/lib/python3.10/dist-packages/tensorflow/python/util/traceback_utils.py\u001b[0m in \u001b[0;36merror_handler\u001b[0;34m(*args, **kwargs)\u001b[0m\n\u001b[1;32m    148\u001b[0m     \u001b[0mfiltered_tb\u001b[0m \u001b[0;34m=\u001b[0m \u001b[0;32mNone\u001b[0m\u001b[0;34m\u001b[0m\u001b[0;34m\u001b[0m\u001b[0m\n\u001b[1;32m    149\u001b[0m     \u001b[0;32mtry\u001b[0m\u001b[0;34m:\u001b[0m\u001b[0;34m\u001b[0m\u001b[0;34m\u001b[0m\u001b[0m\n\u001b[0;32m--> 150\u001b[0;31m       \u001b[0;32mreturn\u001b[0m \u001b[0mfn\u001b[0m\u001b[0;34m(\u001b[0m\u001b[0;34m*\u001b[0m\u001b[0margs\u001b[0m\u001b[0;34m,\u001b[0m \u001b[0;34m**\u001b[0m\u001b[0mkwargs\u001b[0m\u001b[0;34m)\u001b[0m\u001b[0;34m\u001b[0m\u001b[0;34m\u001b[0m\u001b[0m\n\u001b[0m\u001b[1;32m    151\u001b[0m     \u001b[0;32mexcept\u001b[0m \u001b[0mException\u001b[0m \u001b[0;32mas\u001b[0m \u001b[0me\u001b[0m\u001b[0;34m:\u001b[0m\u001b[0;34m\u001b[0m\u001b[0;34m\u001b[0m\u001b[0m\n\u001b[1;32m    152\u001b[0m       \u001b[0mfiltered_tb\u001b[0m \u001b[0;34m=\u001b[0m \u001b[0m_process_traceback_frames\u001b[0m\u001b[0;34m(\u001b[0m\u001b[0me\u001b[0m\u001b[0;34m.\u001b[0m\u001b[0m__traceback__\u001b[0m\u001b[0;34m)\u001b[0m\u001b[0;34m\u001b[0m\u001b[0;34m\u001b[0m\u001b[0m\n",
            "\u001b[0;32m/usr/local/lib/python3.10/dist-packages/tensorflow/python/eager/polymorphic_function/polymorphic_function.py\u001b[0m in \u001b[0;36m__call__\u001b[0;34m(self, *args, **kwds)\u001b[0m\n\u001b[1;32m    830\u001b[0m \u001b[0;34m\u001b[0m\u001b[0m\n\u001b[1;32m    831\u001b[0m       \u001b[0;32mwith\u001b[0m \u001b[0mOptionalXlaContext\u001b[0m\u001b[0;34m(\u001b[0m\u001b[0mself\u001b[0m\u001b[0;34m.\u001b[0m\u001b[0m_jit_compile\u001b[0m\u001b[0;34m)\u001b[0m\u001b[0;34m:\u001b[0m\u001b[0;34m\u001b[0m\u001b[0;34m\u001b[0m\u001b[0m\n\u001b[0;32m--> 832\u001b[0;31m         \u001b[0mresult\u001b[0m \u001b[0;34m=\u001b[0m \u001b[0mself\u001b[0m\u001b[0;34m.\u001b[0m\u001b[0m_call\u001b[0m\u001b[0;34m(\u001b[0m\u001b[0;34m*\u001b[0m\u001b[0margs\u001b[0m\u001b[0;34m,\u001b[0m \u001b[0;34m**\u001b[0m\u001b[0mkwds\u001b[0m\u001b[0;34m)\u001b[0m\u001b[0;34m\u001b[0m\u001b[0;34m\u001b[0m\u001b[0m\n\u001b[0m\u001b[1;32m    833\u001b[0m \u001b[0;34m\u001b[0m\u001b[0m\n\u001b[1;32m    834\u001b[0m       \u001b[0mnew_tracing_count\u001b[0m \u001b[0;34m=\u001b[0m \u001b[0mself\u001b[0m\u001b[0;34m.\u001b[0m\u001b[0mexperimental_get_tracing_count\u001b[0m\u001b[0;34m(\u001b[0m\u001b[0;34m)\u001b[0m\u001b[0;34m\u001b[0m\u001b[0;34m\u001b[0m\u001b[0m\n",
            "\u001b[0;32m/usr/local/lib/python3.10/dist-packages/tensorflow/python/eager/polymorphic_function/polymorphic_function.py\u001b[0m in \u001b[0;36m_call\u001b[0;34m(self, *args, **kwds)\u001b[0m\n\u001b[1;32m    866\u001b[0m       \u001b[0;31m# In this case we have created variables on the first call, so we run the\u001b[0m\u001b[0;34m\u001b[0m\u001b[0;34m\u001b[0m\u001b[0m\n\u001b[1;32m    867\u001b[0m       \u001b[0;31m# defunned version which is guaranteed to never create variables.\u001b[0m\u001b[0;34m\u001b[0m\u001b[0;34m\u001b[0m\u001b[0m\n\u001b[0;32m--> 868\u001b[0;31m       return tracing_compilation.call_function(\n\u001b[0m\u001b[1;32m    869\u001b[0m           \u001b[0margs\u001b[0m\u001b[0;34m,\u001b[0m \u001b[0mkwds\u001b[0m\u001b[0;34m,\u001b[0m \u001b[0mself\u001b[0m\u001b[0;34m.\u001b[0m\u001b[0m_no_variable_creation_config\u001b[0m\u001b[0;34m\u001b[0m\u001b[0;34m\u001b[0m\u001b[0m\n\u001b[1;32m    870\u001b[0m       )\n",
            "\u001b[0;32m/usr/local/lib/python3.10/dist-packages/tensorflow/python/eager/polymorphic_function/tracing_compilation.py\u001b[0m in \u001b[0;36mcall_function\u001b[0;34m(args, kwargs, tracing_options)\u001b[0m\n\u001b[1;32m    137\u001b[0m   \u001b[0mbound_args\u001b[0m \u001b[0;34m=\u001b[0m \u001b[0mfunction\u001b[0m\u001b[0;34m.\u001b[0m\u001b[0mfunction_type\u001b[0m\u001b[0;34m.\u001b[0m\u001b[0mbind\u001b[0m\u001b[0;34m(\u001b[0m\u001b[0;34m*\u001b[0m\u001b[0margs\u001b[0m\u001b[0;34m,\u001b[0m \u001b[0;34m**\u001b[0m\u001b[0mkwargs\u001b[0m\u001b[0;34m)\u001b[0m\u001b[0;34m\u001b[0m\u001b[0;34m\u001b[0m\u001b[0m\n\u001b[1;32m    138\u001b[0m   \u001b[0mflat_inputs\u001b[0m \u001b[0;34m=\u001b[0m \u001b[0mfunction\u001b[0m\u001b[0;34m.\u001b[0m\u001b[0mfunction_type\u001b[0m\u001b[0;34m.\u001b[0m\u001b[0munpack_inputs\u001b[0m\u001b[0;34m(\u001b[0m\u001b[0mbound_args\u001b[0m\u001b[0;34m)\u001b[0m\u001b[0;34m\u001b[0m\u001b[0;34m\u001b[0m\u001b[0m\n\u001b[0;32m--> 139\u001b[0;31m   return function._call_flat(  # pylint: disable=protected-access\n\u001b[0m\u001b[1;32m    140\u001b[0m       \u001b[0mflat_inputs\u001b[0m\u001b[0;34m,\u001b[0m \u001b[0mcaptured_inputs\u001b[0m\u001b[0;34m=\u001b[0m\u001b[0mfunction\u001b[0m\u001b[0;34m.\u001b[0m\u001b[0mcaptured_inputs\u001b[0m\u001b[0;34m\u001b[0m\u001b[0;34m\u001b[0m\u001b[0m\n\u001b[1;32m    141\u001b[0m   )\n",
            "\u001b[0;32m/usr/local/lib/python3.10/dist-packages/tensorflow/python/eager/polymorphic_function/concrete_function.py\u001b[0m in \u001b[0;36m_call_flat\u001b[0;34m(self, tensor_inputs, captured_inputs)\u001b[0m\n\u001b[1;32m   1321\u001b[0m         and executing_eagerly):\n\u001b[1;32m   1322\u001b[0m       \u001b[0;31m# No tape is watching; skip to running the function.\u001b[0m\u001b[0;34m\u001b[0m\u001b[0;34m\u001b[0m\u001b[0m\n\u001b[0;32m-> 1323\u001b[0;31m       \u001b[0;32mreturn\u001b[0m \u001b[0mself\u001b[0m\u001b[0;34m.\u001b[0m\u001b[0m_inference_function\u001b[0m\u001b[0;34m.\u001b[0m\u001b[0mcall_preflattened\u001b[0m\u001b[0;34m(\u001b[0m\u001b[0margs\u001b[0m\u001b[0;34m)\u001b[0m\u001b[0;34m\u001b[0m\u001b[0;34m\u001b[0m\u001b[0m\n\u001b[0m\u001b[1;32m   1324\u001b[0m     forward_backward = self._select_forward_and_backward_functions(\n\u001b[1;32m   1325\u001b[0m         \u001b[0margs\u001b[0m\u001b[0;34m,\u001b[0m\u001b[0;34m\u001b[0m\u001b[0;34m\u001b[0m\u001b[0m\n",
            "\u001b[0;32m/usr/local/lib/python3.10/dist-packages/tensorflow/python/eager/polymorphic_function/atomic_function.py\u001b[0m in \u001b[0;36mcall_preflattened\u001b[0;34m(self, args)\u001b[0m\n\u001b[1;32m    214\u001b[0m   \u001b[0;32mdef\u001b[0m \u001b[0mcall_preflattened\u001b[0m\u001b[0;34m(\u001b[0m\u001b[0mself\u001b[0m\u001b[0;34m,\u001b[0m \u001b[0margs\u001b[0m\u001b[0;34m:\u001b[0m \u001b[0mSequence\u001b[0m\u001b[0;34m[\u001b[0m\u001b[0mcore\u001b[0m\u001b[0;34m.\u001b[0m\u001b[0mTensor\u001b[0m\u001b[0;34m]\u001b[0m\u001b[0;34m)\u001b[0m \u001b[0;34m->\u001b[0m \u001b[0mAny\u001b[0m\u001b[0;34m:\u001b[0m\u001b[0;34m\u001b[0m\u001b[0;34m\u001b[0m\u001b[0m\n\u001b[1;32m    215\u001b[0m     \u001b[0;34m\"\"\"Calls with flattened tensor inputs and returns the structured output.\"\"\"\u001b[0m\u001b[0;34m\u001b[0m\u001b[0;34m\u001b[0m\u001b[0m\n\u001b[0;32m--> 216\u001b[0;31m     \u001b[0mflat_outputs\u001b[0m \u001b[0;34m=\u001b[0m \u001b[0mself\u001b[0m\u001b[0;34m.\u001b[0m\u001b[0mcall_flat\u001b[0m\u001b[0;34m(\u001b[0m\u001b[0;34m*\u001b[0m\u001b[0margs\u001b[0m\u001b[0;34m)\u001b[0m\u001b[0;34m\u001b[0m\u001b[0;34m\u001b[0m\u001b[0m\n\u001b[0m\u001b[1;32m    217\u001b[0m     \u001b[0;32mreturn\u001b[0m \u001b[0mself\u001b[0m\u001b[0;34m.\u001b[0m\u001b[0mfunction_type\u001b[0m\u001b[0;34m.\u001b[0m\u001b[0mpack_output\u001b[0m\u001b[0;34m(\u001b[0m\u001b[0mflat_outputs\u001b[0m\u001b[0;34m)\u001b[0m\u001b[0;34m\u001b[0m\u001b[0;34m\u001b[0m\u001b[0m\n\u001b[1;32m    218\u001b[0m \u001b[0;34m\u001b[0m\u001b[0m\n",
            "\u001b[0;32m/usr/local/lib/python3.10/dist-packages/tensorflow/python/eager/polymorphic_function/atomic_function.py\u001b[0m in \u001b[0;36mcall_flat\u001b[0;34m(self, *args)\u001b[0m\n\u001b[1;32m    249\u001b[0m         \u001b[0;32mwith\u001b[0m \u001b[0mrecord\u001b[0m\u001b[0;34m.\u001b[0m\u001b[0mstop_recording\u001b[0m\u001b[0;34m(\u001b[0m\u001b[0;34m)\u001b[0m\u001b[0;34m:\u001b[0m\u001b[0;34m\u001b[0m\u001b[0;34m\u001b[0m\u001b[0m\n\u001b[1;32m    250\u001b[0m           \u001b[0;32mif\u001b[0m \u001b[0mself\u001b[0m\u001b[0;34m.\u001b[0m\u001b[0m_bound_context\u001b[0m\u001b[0;34m.\u001b[0m\u001b[0mexecuting_eagerly\u001b[0m\u001b[0;34m(\u001b[0m\u001b[0;34m)\u001b[0m\u001b[0;34m:\u001b[0m\u001b[0;34m\u001b[0m\u001b[0;34m\u001b[0m\u001b[0m\n\u001b[0;32m--> 251\u001b[0;31m             outputs = self._bound_context.call_function(\n\u001b[0m\u001b[1;32m    252\u001b[0m                 \u001b[0mself\u001b[0m\u001b[0;34m.\u001b[0m\u001b[0mname\u001b[0m\u001b[0;34m,\u001b[0m\u001b[0;34m\u001b[0m\u001b[0;34m\u001b[0m\u001b[0m\n\u001b[1;32m    253\u001b[0m                 \u001b[0mlist\u001b[0m\u001b[0;34m(\u001b[0m\u001b[0margs\u001b[0m\u001b[0;34m)\u001b[0m\u001b[0;34m,\u001b[0m\u001b[0;34m\u001b[0m\u001b[0;34m\u001b[0m\u001b[0m\n",
            "\u001b[0;32m/usr/local/lib/python3.10/dist-packages/tensorflow/python/eager/context.py\u001b[0m in \u001b[0;36mcall_function\u001b[0;34m(self, name, tensor_inputs, num_outputs)\u001b[0m\n\u001b[1;32m   1484\u001b[0m     \u001b[0mcancellation_context\u001b[0m \u001b[0;34m=\u001b[0m \u001b[0mcancellation\u001b[0m\u001b[0;34m.\u001b[0m\u001b[0mcontext\u001b[0m\u001b[0;34m(\u001b[0m\u001b[0;34m)\u001b[0m\u001b[0;34m\u001b[0m\u001b[0;34m\u001b[0m\u001b[0m\n\u001b[1;32m   1485\u001b[0m     \u001b[0;32mif\u001b[0m \u001b[0mcancellation_context\u001b[0m \u001b[0;32mis\u001b[0m \u001b[0;32mNone\u001b[0m\u001b[0;34m:\u001b[0m\u001b[0;34m\u001b[0m\u001b[0;34m\u001b[0m\u001b[0m\n\u001b[0;32m-> 1486\u001b[0;31m       outputs = execute.execute(\n\u001b[0m\u001b[1;32m   1487\u001b[0m           \u001b[0mname\u001b[0m\u001b[0;34m.\u001b[0m\u001b[0mdecode\u001b[0m\u001b[0;34m(\u001b[0m\u001b[0;34m\"utf-8\"\u001b[0m\u001b[0;34m)\u001b[0m\u001b[0;34m,\u001b[0m\u001b[0;34m\u001b[0m\u001b[0;34m\u001b[0m\u001b[0m\n\u001b[1;32m   1488\u001b[0m           \u001b[0mnum_outputs\u001b[0m\u001b[0;34m=\u001b[0m\u001b[0mnum_outputs\u001b[0m\u001b[0;34m,\u001b[0m\u001b[0;34m\u001b[0m\u001b[0;34m\u001b[0m\u001b[0m\n",
            "\u001b[0;32m/usr/local/lib/python3.10/dist-packages/tensorflow/python/eager/execute.py\u001b[0m in \u001b[0;36mquick_execute\u001b[0;34m(op_name, num_outputs, inputs, attrs, ctx, name)\u001b[0m\n\u001b[1;32m     51\u001b[0m   \u001b[0;32mtry\u001b[0m\u001b[0;34m:\u001b[0m\u001b[0;34m\u001b[0m\u001b[0;34m\u001b[0m\u001b[0m\n\u001b[1;32m     52\u001b[0m     \u001b[0mctx\u001b[0m\u001b[0;34m.\u001b[0m\u001b[0mensure_initialized\u001b[0m\u001b[0;34m(\u001b[0m\u001b[0;34m)\u001b[0m\u001b[0;34m\u001b[0m\u001b[0;34m\u001b[0m\u001b[0m\n\u001b[0;32m---> 53\u001b[0;31m     tensors = pywrap_tfe.TFE_Py_Execute(ctx._handle, device_name, op_name,\n\u001b[0m\u001b[1;32m     54\u001b[0m                                         inputs, attrs, num_outputs)\n\u001b[1;32m     55\u001b[0m   \u001b[0;32mexcept\u001b[0m \u001b[0mcore\u001b[0m\u001b[0;34m.\u001b[0m\u001b[0m_NotOkStatusException\u001b[0m \u001b[0;32mas\u001b[0m \u001b[0me\u001b[0m\u001b[0;34m:\u001b[0m\u001b[0;34m\u001b[0m\u001b[0;34m\u001b[0m\u001b[0m\n",
            "\u001b[0;31mKeyboardInterrupt\u001b[0m: "
          ]
        }
      ],
      "source": [
        "import numpy as np\n",
        "from sklearn.metrics import accuracy_score, classification_report\n",
        "import tensorflow as tf\n",
        "from tensorflow.keras.models import Sequential\n",
        "from tensorflow.keras.layers import Dense, Dropout\n",
        "from tensorflow.keras.callbacks import EarlyStopping\n",
        "\n",
        "# Build the deep learning model\n",
        "model = Sequential()\n",
        "model.add(Dense(128, input_shape=(X_train.shape[1],), activation='relu'))\n",
        "model.add(Dropout(0.5))\n",
        "model.add(Dense(64, activation='relu'))\n",
        "model.add(Dropout(0.5))\n",
        "model.add(Dense(num_classes, activation='softmax'))\n",
        "\n",
        "# Compile the model\n",
        "model.compile(optimizer='adam', loss='categorical_crossentropy', metrics=['accuracy'])\n",
        "\n",
        "# Define early stopping to prevent overfitting\n",
        "early_stopping = EarlyStopping(monitor='val_loss', patience=10, restore_best_weights=True)\n",
        "\n",
        "# Train the model\n",
        "history = model.fit(X_train, y_train, validation_data=(X_test, y_test),\n",
        "                    epochs=100, batch_size=32, callbacks=[early_stopping], verbose=2)\n",
        "\n",
        "# Evaluate the model\n",
        "loss, accuracy = model.evaluate(X_test, y_test, verbose=0)\n",
        "print(f'Deep Learning Model Accuracy: {accuracy:.2f}')\n",
        "\n",
        "# Make predictions\n",
        "y_pred = model.predict(X_test)\n",
        "y_pred_classes = np.argmax(y_pred, axis=1)\n",
        "y_test_classes = np.argmax(y_test, axis=1)\n",
        "\n",
        "# Classification report\n",
        "report = classification_report(y_test_classes, y_pred_classes)\n",
        "print('Deep Learning Model Classification Report:')\n",
        "print(report)\n"
      ]
    },
    {
      "cell_type": "markdown",
      "metadata": {
        "id": "xIlBdCh8I3B-"
      },
      "source": [
        "## Enhanced MLP Neural Network Model | 73% Accuracy\n"
      ]
    },
    {
      "cell_type": "code",
      "execution_count": null,
      "metadata": {
        "id": "8LukGZneI5CZ"
      },
      "outputs": [],
      "source": [
        "import numpy as np\n",
        "from tensorflow.keras.models import Sequential\n",
        "from tensorflow.keras.layers import Dense, Dropout, BatchNormalization\n",
        "from tensorflow.keras.callbacks import EarlyStopping\n",
        "from tensorflow.keras.regularizers import l2\n",
        "\n",
        "# Define the neural network structure\n",
        "model = Sequential([\n",
        "    Dense(256, input_shape=(X_train.shape[1],), activation='relu', kernel_regularizer=l2(0.001)),\n",
        "    BatchNormalization(),\n",
        "    Dropout(0.5),\n",
        "    Dense(128, activation='relu', kernel_regularizer=l2(0.001)),\n",
        "    BatchNormalization(),\n",
        "    Dropout(0.5),\n",
        "    Dense(64, activation='relu', kernel_regularizer=l2(0.001)),\n",
        "    Dropout(0.5),\n",
        "    Dense(num_classes, activation='softmax')\n",
        "])\n",
        "\n",
        "# Compile the model with optimization setup\n",
        "model.compile(optimizer='adam', loss='categorical_crossentropy', metrics=['accuracy'])\n",
        "\n",
        "# Setup early stopping to prevent overfitting\n",
        "early_stopping = EarlyStopping(monitor='val_loss', patience=10, restore_best_weights=True)\n",
        "\n",
        "# Train the model with training data and validate with testing data\n",
        "history = model.fit(X_train, y_train, validation_data=(X_test, y_test),\n",
        "                    epochs=200, batch_size=64, callbacks=[early_stopping], verbose=2)\n",
        "\n",
        "# Evaluate the model performance on the test set\n",
        "loss, accuracy = model.evaluate(X_test, y_test, verbose=0)\n",
        "print(f'Enhanced Model Accuracy: {accuracy:.2f}')\n",
        "\n",
        "# Predict the test set results\n",
        "y_pred = model.predict(X_test)\n",
        "y_pred_classes = np.argmax(y_pred, axis=1)\n",
        "y_test_classes = np.argmax(y_test, axis=1)\n",
        "\n",
        "# Generate a classification report\n",
        "from sklearn.metrics import classification_report\n",
        "report = classification_report(y_test_classes, y_pred_classes)\n",
        "print('Enhanced Deep Learning Model Classification Report:')\n",
        "print(report)\n"
      ]
    }
  ],
  "metadata": {
    "accelerator": "GPU",
    "colab": {
      "collapsed_sections": [
        "wsWpJFthsGYZ",
        "fnA0X7PCAubW",
        "0mhyEUawQwrC",
        "cwK2si4QAXfE",
        "u0B9nIR6zLri",
        "ukwKJaO817fy",
        "4ZyLI3u7IzO7",
        "xIlBdCh8I3B-"
      ],
      "gpuType": "T4",
      "provenance": []
    },
    "kernelspec": {
      "display_name": "Python 3",
      "name": "python3"
    },
    "language_info": {
      "name": "python"
    }
  },
  "nbformat": 4,
  "nbformat_minor": 0
}