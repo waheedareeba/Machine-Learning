{
 "cells": [
  {
   "cell_type": "code",
   "execution_count": 185,
   "id": "9f9c3359",
   "metadata": {},
   "outputs": [],
   "source": [
    "    import pandas as pd\n",
    "    import numpy as np\n",
    "    import seaborn as sns \n",
    "    import matplotlib.pyplot as plt\n",
    "    from sklearn.compose import ColumnTransformer\n",
    "    from sklearn.model_selection import train_test_split\n",
    "    import warnings\n",
    "    warnings.filterwarnings('ignore')"
   ]
  },
  {
   "cell_type": "code",
   "execution_count": 186,
   "id": "7e3e49d2",
   "metadata": {},
   "outputs": [],
   "source": [
    "files= ['1.csv','2.csv','3.csv','4.csv','5.csv','6.csv','7.csv','8.csv','9.csv','10.csv','11.csv','12.csv','13.csv']\n",
    "df=pd.DataFrame()\n",
    "for file in files:\n",
    "    data= pd.read_csv(file)\n",
    "    df=pd.concat([df,data],axis=0)\n",
    "df.to_csv('merged',index=False)"
   ]
  },
  {
   "cell_type": "code",
   "execution_count": 187,
   "id": "53ae36a4",
   "metadata": {},
   "outputs": [
    {
     "name": "stdout",
     "output_type": "stream",
     "text": [
      "<class 'pandas.core.frame.DataFrame'>\n",
      "Index: 1757 entries, 0 to 102\n",
      "Data columns (total 29 columns):\n",
      " #   Column           Non-Null Count  Dtype  \n",
      "---  ------           --------------  -----  \n",
      " 0   Commodity Name   1757 non-null   object \n",
      " 1   City Name        1757 non-null   object \n",
      " 2   Type             45 non-null     object \n",
      " 3   Package          1757 non-null   object \n",
      " 4   Variety          1752 non-null   object \n",
      " 5   Sub Variety      296 non-null    object \n",
      " 6   Grade            0 non-null      float64\n",
      " 7   Date             1757 non-null   object \n",
      " 8   Low Price        1757 non-null   float64\n",
      " 9   High Price       1757 non-null   float64\n",
      " 10  Mostly Low       1654 non-null   float64\n",
      " 11  Mostly High      1654 non-null   float64\n",
      " 12  Origin           1752 non-null   object \n",
      " 13  Origin District  131 non-null    object \n",
      " 14  Item Size        1478 non-null   object \n",
      " 15  Color            716 non-null    object \n",
      " 16  Environment      0 non-null      float64\n",
      " 17  Unit of Sale     162 non-null    object \n",
      " 18  Quality          0 non-null      float64\n",
      " 19  Condition        0 non-null      float64\n",
      " 20  Appearance       0 non-null      float64\n",
      " 21  Storage          0 non-null      float64\n",
      " 22  Crop             0 non-null      float64\n",
      " 23  Repack           1757 non-null   object \n",
      " 24  Trans Mode       0 non-null      float64\n",
      " 25  Offerings        0 non-null      float64\n",
      " 26  Market Tone      103 non-null    object \n",
      " 27  Price Comment    0 non-null      float64\n",
      " 28  Comments         0 non-null      float64\n",
      "dtypes: float64(15), object(14)\n",
      "memory usage: 411.8+ KB\n"
     ]
    }
   ],
   "source": [
    "df.info()"
   ]
  },
  {
   "cell_type": "code",
   "execution_count": 188,
   "id": "46601535",
   "metadata": {},
   "outputs": [],
   "source": [
    "missing_percentage = (df.isnull().sum() / len(df)) * 100\n",
    "\n",
    "threshold = 50\n",
    "\n",
    "# Get the column names where missing_percentage is greater than the threshold\n",
    "columns_to_drop = missing_percentage[missing_percentage > threshold].index\n",
    "\n",
    "# Drop the columns with more than 50% missing data\n",
    "df.drop(columns=columns_to_drop, inplace=True)\n",
    "output_df= df"
   ]
  },
  {
   "cell_type": "markdown",
   "id": "6ed5db71",
   "metadata": {},
   "source": [
    "# TYPE CONVERSION:"
   ]
  },
  {
   "cell_type": "code",
   "execution_count": 189,
   "id": "6daeb035",
   "metadata": {},
   "outputs": [],
   "source": [
    "output_df['Date']= pd.to_datetime(output_df['Date'])"
   ]
  },
  {
   "cell_type": "code",
   "execution_count": 190,
   "id": "00bd0b02",
   "metadata": {},
   "outputs": [
    {
     "name": "stdout",
     "output_type": "stream",
     "text": [
      "<class 'pandas.core.frame.DataFrame'>\n",
      "Index: 1757 entries, 0 to 102\n",
      "Data columns (total 12 columns):\n",
      " #   Column          Non-Null Count  Dtype         \n",
      "---  ------          --------------  -----         \n",
      " 0   Commodity Name  1757 non-null   object        \n",
      " 1   City Name       1757 non-null   object        \n",
      " 2   Package         1757 non-null   object        \n",
      " 3   Variety         1752 non-null   object        \n",
      " 4   Date            1757 non-null   datetime64[ns]\n",
      " 5   Low Price       1757 non-null   float64       \n",
      " 6   High Price      1757 non-null   float64       \n",
      " 7   Mostly Low      1654 non-null   float64       \n",
      " 8   Mostly High     1654 non-null   float64       \n",
      " 9   Origin          1752 non-null   object        \n",
      " 10  Item Size       1478 non-null   object        \n",
      " 11  Repack          1757 non-null   object        \n",
      "dtypes: datetime64[ns](1), float64(4), object(7)\n",
      "memory usage: 178.4+ KB\n"
     ]
    }
   ],
   "source": [
    "output_df.info()"
   ]
  },
  {
   "cell_type": "code",
   "execution_count": 191,
   "id": "8e261fe7",
   "metadata": {},
   "outputs": [],
   "source": [
    "output_df['year']= output_df['Date'].dt.year"
   ]
  },
  {
   "cell_type": "code",
   "execution_count": 192,
   "id": "97b27d5b",
   "metadata": {},
   "outputs": [],
   "source": [
    "output_df['month']= output_df['Date'].dt.month_name()"
   ]
  },
  {
   "cell_type": "code",
   "execution_count": 193,
   "id": "2d759384",
   "metadata": {},
   "outputs": [],
   "source": [
    "output_df['day']= output_df['Date'].dt.day"
   ]
  },
  {
   "cell_type": "code",
   "execution_count": 194,
   "id": "e28a7789",
   "metadata": {},
   "outputs": [
    {
     "data": {
      "text/plain": [
       "0      False\n",
       "1      False\n",
       "2      False\n",
       "3      False\n",
       "4      False\n",
       "       ...  \n",
       "98     False\n",
       "99     False\n",
       "100    False\n",
       "101    False\n",
       "102    False\n",
       "Length: 1757, dtype: bool"
      ]
     },
     "execution_count": 194,
     "metadata": {},
     "output_type": "execute_result"
    }
   ],
   "source": [
    "output_df.duplicated()"
   ]
  },
  {
   "cell_type": "code",
   "execution_count": 195,
   "id": "97f5955c",
   "metadata": {},
   "outputs": [
    {
     "data": {
      "text/html": [
       "<div>\n",
       "<style scoped>\n",
       "    .dataframe tbody tr th:only-of-type {\n",
       "        vertical-align: middle;\n",
       "    }\n",
       "\n",
       "    .dataframe tbody tr th {\n",
       "        vertical-align: top;\n",
       "    }\n",
       "\n",
       "    .dataframe thead th {\n",
       "        text-align: right;\n",
       "    }\n",
       "</style>\n",
       "<table border=\"1\" class=\"dataframe\">\n",
       "  <thead>\n",
       "    <tr style=\"text-align: right;\">\n",
       "      <th></th>\n",
       "      <th>Commodity Name</th>\n",
       "      <th>City Name</th>\n",
       "      <th>Package</th>\n",
       "      <th>Variety</th>\n",
       "      <th>Date</th>\n",
       "      <th>Low Price</th>\n",
       "      <th>High Price</th>\n",
       "      <th>Mostly Low</th>\n",
       "      <th>Mostly High</th>\n",
       "      <th>Origin</th>\n",
       "      <th>Item Size</th>\n",
       "      <th>Repack</th>\n",
       "      <th>year</th>\n",
       "      <th>month</th>\n",
       "      <th>day</th>\n",
       "    </tr>\n",
       "  </thead>\n",
       "  <tbody>\n",
       "    <tr>\n",
       "      <th>97</th>\n",
       "      <td>PUMPKINS</td>\n",
       "      <td>BALTIMORE</td>\n",
       "      <td>24 inch bins</td>\n",
       "      <td>BIG MACK TYPE</td>\n",
       "      <td>2016-09-24</td>\n",
       "      <td>50.00</td>\n",
       "      <td>60.00</td>\n",
       "      <td>50.0</td>\n",
       "      <td>60.0</td>\n",
       "      <td>MARYLAND</td>\n",
       "      <td>NaN</td>\n",
       "      <td>N</td>\n",
       "      <td>2016</td>\n",
       "      <td>September</td>\n",
       "      <td>24</td>\n",
       "    </tr>\n",
       "    <tr>\n",
       "      <th>100</th>\n",
       "      <td>PUMPKINS</td>\n",
       "      <td>BALTIMORE</td>\n",
       "      <td>24 inch bins</td>\n",
       "      <td>BIG MACK TYPE</td>\n",
       "      <td>2016-10-01</td>\n",
       "      <td>50.00</td>\n",
       "      <td>60.00</td>\n",
       "      <td>50.0</td>\n",
       "      <td>60.0</td>\n",
       "      <td>MARYLAND</td>\n",
       "      <td>NaN</td>\n",
       "      <td>N</td>\n",
       "      <td>2016</td>\n",
       "      <td>October</td>\n",
       "      <td>1</td>\n",
       "    </tr>\n",
       "    <tr>\n",
       "      <th>103</th>\n",
       "      <td>PUMPKINS</td>\n",
       "      <td>BALTIMORE</td>\n",
       "      <td>24 inch bins</td>\n",
       "      <td>BIG MACK TYPE</td>\n",
       "      <td>2016-10-08</td>\n",
       "      <td>50.00</td>\n",
       "      <td>60.00</td>\n",
       "      <td>50.0</td>\n",
       "      <td>60.0</td>\n",
       "      <td>MARYLAND</td>\n",
       "      <td>NaN</td>\n",
       "      <td>N</td>\n",
       "      <td>2016</td>\n",
       "      <td>October</td>\n",
       "      <td>8</td>\n",
       "    </tr>\n",
       "    <tr>\n",
       "      <th>133</th>\n",
       "      <td>PUMPKINS</td>\n",
       "      <td>BALTIMORE</td>\n",
       "      <td>1/2 bushel cartons</td>\n",
       "      <td>MINIATURE</td>\n",
       "      <td>2016-10-15</td>\n",
       "      <td>15.00</td>\n",
       "      <td>15.00</td>\n",
       "      <td>15.0</td>\n",
       "      <td>15.0</td>\n",
       "      <td>MARYLAND</td>\n",
       "      <td>sml</td>\n",
       "      <td>N</td>\n",
       "      <td>2016</td>\n",
       "      <td>October</td>\n",
       "      <td>15</td>\n",
       "    </tr>\n",
       "    <tr>\n",
       "      <th>137</th>\n",
       "      <td>PUMPKINS</td>\n",
       "      <td>BALTIMORE</td>\n",
       "      <td>1/2 bushel cartons</td>\n",
       "      <td>MINIATURE</td>\n",
       "      <td>2016-10-22</td>\n",
       "      <td>15.00</td>\n",
       "      <td>15.00</td>\n",
       "      <td>15.0</td>\n",
       "      <td>15.0</td>\n",
       "      <td>MARYLAND</td>\n",
       "      <td>sml</td>\n",
       "      <td>N</td>\n",
       "      <td>2016</td>\n",
       "      <td>October</td>\n",
       "      <td>22</td>\n",
       "    </tr>\n",
       "    <tr>\n",
       "      <th>...</th>\n",
       "      <td>...</td>\n",
       "      <td>...</td>\n",
       "      <td>...</td>\n",
       "      <td>...</td>\n",
       "      <td>...</td>\n",
       "      <td>...</td>\n",
       "      <td>...</td>\n",
       "      <td>...</td>\n",
       "      <td>...</td>\n",
       "      <td>...</td>\n",
       "      <td>...</td>\n",
       "      <td>...</td>\n",
       "      <td>...</td>\n",
       "      <td>...</td>\n",
       "      <td>...</td>\n",
       "    </tr>\n",
       "    <tr>\n",
       "      <th>84</th>\n",
       "      <td>PUMPKINS</td>\n",
       "      <td>ST. LOUIS</td>\n",
       "      <td>1/2 bushel cartons</td>\n",
       "      <td>MINIATURE</td>\n",
       "      <td>2016-09-30</td>\n",
       "      <td>15.00</td>\n",
       "      <td>15.00</td>\n",
       "      <td>NaN</td>\n",
       "      <td>NaN</td>\n",
       "      <td>CANADA</td>\n",
       "      <td>NaN</td>\n",
       "      <td>N</td>\n",
       "      <td>2016</td>\n",
       "      <td>September</td>\n",
       "      <td>30</td>\n",
       "    </tr>\n",
       "    <tr>\n",
       "      <th>88</th>\n",
       "      <td>PUMPKINS</td>\n",
       "      <td>ST. LOUIS</td>\n",
       "      <td>1/2 bushel cartons</td>\n",
       "      <td>MINIATURE</td>\n",
       "      <td>2016-09-30</td>\n",
       "      <td>12.00</td>\n",
       "      <td>12.00</td>\n",
       "      <td>NaN</td>\n",
       "      <td>NaN</td>\n",
       "      <td>MICHIGAN</td>\n",
       "      <td>NaN</td>\n",
       "      <td>N</td>\n",
       "      <td>2016</td>\n",
       "      <td>September</td>\n",
       "      <td>30</td>\n",
       "    </tr>\n",
       "    <tr>\n",
       "      <th>90</th>\n",
       "      <td>PUMPKINS</td>\n",
       "      <td>ST. LOUIS</td>\n",
       "      <td>22 lb cartons</td>\n",
       "      <td>MINIATURE</td>\n",
       "      <td>2016-09-26</td>\n",
       "      <td>16.75</td>\n",
       "      <td>16.75</td>\n",
       "      <td>NaN</td>\n",
       "      <td>NaN</td>\n",
       "      <td>ILLINOIS</td>\n",
       "      <td>NaN</td>\n",
       "      <td>N</td>\n",
       "      <td>2016</td>\n",
       "      <td>September</td>\n",
       "      <td>26</td>\n",
       "    </tr>\n",
       "    <tr>\n",
       "      <th>92</th>\n",
       "      <td>PUMPKINS</td>\n",
       "      <td>ST. LOUIS</td>\n",
       "      <td>22 lb cartons</td>\n",
       "      <td>MINIATURE</td>\n",
       "      <td>2016-09-27</td>\n",
       "      <td>16.75</td>\n",
       "      <td>16.75</td>\n",
       "      <td>NaN</td>\n",
       "      <td>NaN</td>\n",
       "      <td>ILLINOIS</td>\n",
       "      <td>NaN</td>\n",
       "      <td>N</td>\n",
       "      <td>2016</td>\n",
       "      <td>September</td>\n",
       "      <td>27</td>\n",
       "    </tr>\n",
       "    <tr>\n",
       "      <th>94</th>\n",
       "      <td>PUMPKINS</td>\n",
       "      <td>ST. LOUIS</td>\n",
       "      <td>22 lb cartons</td>\n",
       "      <td>MINIATURE</td>\n",
       "      <td>2016-09-28</td>\n",
       "      <td>14.75</td>\n",
       "      <td>14.75</td>\n",
       "      <td>NaN</td>\n",
       "      <td>NaN</td>\n",
       "      <td>ILLINOIS</td>\n",
       "      <td>NaN</td>\n",
       "      <td>N</td>\n",
       "      <td>2016</td>\n",
       "      <td>September</td>\n",
       "      <td>28</td>\n",
       "    </tr>\n",
       "  </tbody>\n",
       "</table>\n",
       "<p>137 rows × 15 columns</p>\n",
       "</div>"
      ],
      "text/plain": [
       "    Commodity Name  City Name             Package        Variety       Date   \n",
       "97        PUMPKINS  BALTIMORE        24 inch bins  BIG MACK TYPE 2016-09-24  \\\n",
       "100       PUMPKINS  BALTIMORE        24 inch bins  BIG MACK TYPE 2016-10-01   \n",
       "103       PUMPKINS  BALTIMORE        24 inch bins  BIG MACK TYPE 2016-10-08   \n",
       "133       PUMPKINS  BALTIMORE  1/2 bushel cartons      MINIATURE 2016-10-15   \n",
       "137       PUMPKINS  BALTIMORE  1/2 bushel cartons      MINIATURE 2016-10-22   \n",
       "..             ...        ...                 ...            ...        ...   \n",
       "84        PUMPKINS  ST. LOUIS  1/2 bushel cartons      MINIATURE 2016-09-30   \n",
       "88        PUMPKINS  ST. LOUIS  1/2 bushel cartons      MINIATURE 2016-09-30   \n",
       "90        PUMPKINS  ST. LOUIS       22 lb cartons      MINIATURE 2016-09-26   \n",
       "92        PUMPKINS  ST. LOUIS       22 lb cartons      MINIATURE 2016-09-27   \n",
       "94        PUMPKINS  ST. LOUIS       22 lb cartons      MINIATURE 2016-09-28   \n",
       "\n",
       "     Low Price  High Price  Mostly Low  Mostly High    Origin Item Size   \n",
       "97       50.00       60.00        50.0         60.0  MARYLAND       NaN  \\\n",
       "100      50.00       60.00        50.0         60.0  MARYLAND       NaN   \n",
       "103      50.00       60.00        50.0         60.0  MARYLAND       NaN   \n",
       "133      15.00       15.00        15.0         15.0  MARYLAND       sml   \n",
       "137      15.00       15.00        15.0         15.0  MARYLAND       sml   \n",
       "..         ...         ...         ...          ...       ...       ...   \n",
       "84       15.00       15.00         NaN          NaN    CANADA       NaN   \n",
       "88       12.00       12.00         NaN          NaN  MICHIGAN       NaN   \n",
       "90       16.75       16.75         NaN          NaN  ILLINOIS       NaN   \n",
       "92       16.75       16.75         NaN          NaN  ILLINOIS       NaN   \n",
       "94       14.75       14.75         NaN          NaN  ILLINOIS       NaN   \n",
       "\n",
       "    Repack  year      month  day  \n",
       "97       N  2016  September   24  \n",
       "100      N  2016    October    1  \n",
       "103      N  2016    October    8  \n",
       "133      N  2016    October   15  \n",
       "137      N  2016    October   22  \n",
       "..     ...   ...        ...  ...  \n",
       "84       N  2016  September   30  \n",
       "88       N  2016  September   30  \n",
       "90       N  2016  September   26  \n",
       "92       N  2016  September   27  \n",
       "94       N  2016  September   28  \n",
       "\n",
       "[137 rows x 15 columns]"
      ]
     },
     "execution_count": 195,
     "metadata": {},
     "output_type": "execute_result"
    }
   ],
   "source": [
    "output_df.loc[output_df.duplicated()]"
   ]
  },
  {
   "cell_type": "code",
   "execution_count": 196,
   "id": "a26d8cdb",
   "metadata": {},
   "outputs": [],
   "source": [
    "output_df['Price']= (output_df['Low Price']+output_df['High Price'])/2"
   ]
  },
  {
   "cell_type": "code",
   "execution_count": 197,
   "id": "3de9e9e9",
   "metadata": {},
   "outputs": [],
   "source": [
    "output_df.drop(columns=['Low Price','High Price'],inplace=True)"
   ]
  },
  {
   "cell_type": "code",
   "execution_count": 198,
   "id": "cdcc9da4",
   "metadata": {},
   "outputs": [],
   "source": [
    "output_df.drop(columns=['Date'],inplace=True)"
   ]
  },
  {
   "cell_type": "markdown",
   "id": "620cd125",
   "metadata": {},
   "source": [
    "# EDA:"
   ]
  },
  {
   "cell_type": "code",
   "execution_count": 199,
   "id": "c9bfd22f",
   "metadata": {},
   "outputs": [
    {
     "name": "stdout",
     "output_type": "stream",
     "text": [
      "<class 'pandas.core.frame.DataFrame'>\n",
      "Index: 1757 entries, 0 to 102\n",
      "Data columns (total 13 columns):\n",
      " #   Column          Non-Null Count  Dtype  \n",
      "---  ------          --------------  -----  \n",
      " 0   Commodity Name  1757 non-null   object \n",
      " 1   City Name       1757 non-null   object \n",
      " 2   Package         1757 non-null   object \n",
      " 3   Variety         1752 non-null   object \n",
      " 4   Mostly Low      1654 non-null   float64\n",
      " 5   Mostly High     1654 non-null   float64\n",
      " 6   Origin          1752 non-null   object \n",
      " 7   Item Size       1478 non-null   object \n",
      " 8   Repack          1757 non-null   object \n",
      " 9   year            1757 non-null   int32  \n",
      " 10  month           1757 non-null   object \n",
      " 11  day             1757 non-null   int32  \n",
      " 12  Price           1757 non-null   float64\n",
      "dtypes: float64(3), int32(2), object(8)\n",
      "memory usage: 178.4+ KB\n"
     ]
    }
   ],
   "source": [
    "output_df.info()"
   ]
  },
  {
   "cell_type": "code",
   "execution_count": 200,
   "id": "f0b55bb6",
   "metadata": {},
   "outputs": [
    {
     "data": {
      "text/plain": [
       "<Axes: xlabel='Package', ylabel='count'>"
      ]
     },
     "execution_count": 200,
     "metadata": {},
     "output_type": "execute_result"
    },
    {
     "data": {
      "image/png": "[encoded data removed]",
      "text/plain": [
       "<Figure size 2500x400 with 1 Axes>"
      ]
     },
     "metadata": {},
     "output_type": "display_data"
    }
   ],
   "source": [
    "plt.rcParams['figure.figsize'] = (25,4)# Width and height of the figure in inches\n",
    "sns.countplot(x=output_df['Package'])"
   ]
  },
  {
   "cell_type": "code",
   "execution_count": 201,
   "id": "6478d53d",
   "metadata": {},
   "outputs": [
    {
     "data": {
      "text/plain": [
       "<Axes: xlabel='Package', ylabel='Price'>"
      ]
     },
     "execution_count": 201,
     "metadata": {},
     "output_type": "execute_result"
    },
    {
     "data": {
      "image/png": "[encoded data removed]",
      "text/plain": [
       "<Figure size 2500x400 with 1 Axes>"
      ]
     },
     "metadata": {},
     "output_type": "display_data"
    }
   ],
   "source": [
    "sns.barplot(x=output_df['Package'],y=output_df['Price'])"
   ]
  },
  {
   "cell_type": "code",
   "execution_count": 202,
   "id": "b2734881",
   "metadata": {},
   "outputs": [
    {
     "data": {
      "text/plain": [
       "[<matplotlib.lines.Line2D at 0x1961f611990>]"
      ]
     },
     "execution_count": 202,
     "metadata": {},
     "output_type": "execute_result"
    },
    {
     "data": {
      "image/png": "[encoded data removed]",
      "text/plain": [
       "<Figure size 1900x400 with 1 Axes>"
      ]
     },
     "metadata": {},
     "output_type": "display_data"
    }
   ],
   "source": [
    "plt.figure(figsize=(19,4))\n",
    "result= output_df[['City Name','Price']].groupby(by= ['City Name']).agg('mean').sort_values(by='Price',ascending=True)\n",
    "plt.plot(result,color='red', marker='o', linestyle='dashed',linewidth=2, markersize=12)"
   ]
  },
  {
   "cell_type": "code",
   "execution_count": 203,
   "id": "98d9371a",
   "metadata": {},
   "outputs": [
    {
     "data": {
      "text/plain": [
       "City Name\n",
       "BOSTON           352\n",
       "COLUMBIA         263\n",
       "CHICAGO          248\n",
       "SAN FRANCISCO    166\n",
       "BALTIMORE        153\n",
       "DALLAS           137\n",
       "NEW YORK         112\n",
       "ST. LOUIS        103\n",
       "LOS ANGELES       62\n",
       "ATLANTA           57\n",
       "PHILADELPHIA      57\n",
       "DETROIT           44\n",
       "MIAMI              3\n",
       "Name: count, dtype: int64"
      ]
     },
     "execution_count": 203,
     "metadata": {},
     "output_type": "execute_result"
    }
   ],
   "source": [
    "output_df['City Name'].value_counts()"
   ]
  },
  {
   "cell_type": "code",
   "execution_count": 204,
   "id": "b6d0caed",
   "metadata": {},
   "outputs": [
    {
     "data": {
      "text/html": [
       "<div>\n",
       "<style scoped>\n",
       "    .dataframe tbody tr th:only-of-type {\n",
       "        vertical-align: middle;\n",
       "    }\n",
       "\n",
       "    .dataframe tbody tr th {\n",
       "        vertical-align: top;\n",
       "    }\n",
       "\n",
       "    .dataframe thead th {\n",
       "        text-align: right;\n",
       "    }\n",
       "</style>\n",
       "<table border=\"1\" class=\"dataframe\">\n",
       "  <thead>\n",
       "    <tr style=\"text-align: right;\">\n",
       "      <th></th>\n",
       "      <th>Commodity Name</th>\n",
       "      <th>City Name</th>\n",
       "      <th>Package</th>\n",
       "      <th>Variety</th>\n",
       "      <th>Mostly Low</th>\n",
       "      <th>Mostly High</th>\n",
       "      <th>Origin</th>\n",
       "      <th>Item Size</th>\n",
       "      <th>Repack</th>\n",
       "      <th>year</th>\n",
       "      <th>month</th>\n",
       "      <th>day</th>\n",
       "      <th>Price</th>\n",
       "    </tr>\n",
       "  </thead>\n",
       "  <tbody>\n",
       "    <tr>\n",
       "      <th>0</th>\n",
       "      <td>PUMPKINS</td>\n",
       "      <td>MIAMI</td>\n",
       "      <td>36 inch bins</td>\n",
       "      <td>HOWDEN TYPE</td>\n",
       "      <td>120.0</td>\n",
       "      <td>120.0</td>\n",
       "      <td>MICHIGAN</td>\n",
       "      <td>jbo</td>\n",
       "      <td>N</td>\n",
       "      <td>2014</td>\n",
       "      <td>November</td>\n",
       "      <td>29</td>\n",
       "      <td>120.0</td>\n",
       "    </tr>\n",
       "    <tr>\n",
       "      <th>1</th>\n",
       "      <td>PUMPKINS</td>\n",
       "      <td>MIAMI</td>\n",
       "      <td>36 inch bins</td>\n",
       "      <td>HOWDEN TYPE</td>\n",
       "      <td>160.0</td>\n",
       "      <td>160.0</td>\n",
       "      <td>MICHIGAN</td>\n",
       "      <td>lge</td>\n",
       "      <td>N</td>\n",
       "      <td>2014</td>\n",
       "      <td>November</td>\n",
       "      <td>29</td>\n",
       "      <td>160.0</td>\n",
       "    </tr>\n",
       "    <tr>\n",
       "      <th>2</th>\n",
       "      <td>PUMPKINS</td>\n",
       "      <td>MIAMI</td>\n",
       "      <td>36 inch bins</td>\n",
       "      <td>PIE TYPE</td>\n",
       "      <td>230.0</td>\n",
       "      <td>230.0</td>\n",
       "      <td>MICHIGAN</td>\n",
       "      <td>NaN</td>\n",
       "      <td>N</td>\n",
       "      <td>2014</td>\n",
       "      <td>November</td>\n",
       "      <td>29</td>\n",
       "      <td>230.0</td>\n",
       "    </tr>\n",
       "  </tbody>\n",
       "</table>\n",
       "</div>"
      ],
      "text/plain": [
       "  Commodity Name City Name       Package      Variety  Mostly Low   \n",
       "0       PUMPKINS     MIAMI  36 inch bins  HOWDEN TYPE       120.0  \\\n",
       "1       PUMPKINS     MIAMI  36 inch bins  HOWDEN TYPE       160.0   \n",
       "2       PUMPKINS     MIAMI  36 inch bins     PIE TYPE       230.0   \n",
       "\n",
       "   Mostly High    Origin Item Size Repack  year     month  day  Price  \n",
       "0        120.0  MICHIGAN       jbo      N  2014  November   29  120.0  \n",
       "1        160.0  MICHIGAN       lge      N  2014  November   29  160.0  \n",
       "2        230.0  MICHIGAN       NaN      N  2014  November   29  230.0  "
      ]
     },
     "execution_count": 204,
     "metadata": {},
     "output_type": "execute_result"
    }
   ],
   "source": [
    "output_df.query('`City Name` == \"MIAMI\"')\n"
   ]
  },
  {
   "cell_type": "code",
   "execution_count": 205,
   "id": "2f9c3da3",
   "metadata": {},
   "outputs": [],
   "source": [
    "top_origin= [x for x in output_df['Origin'].value_counts().sort_values(ascending=False).head(12).index]\n",
    "top_origin\n",
    "for i in top_origin:\n",
    "    output_df[i]= np.where(output_df['Origin']==i,1,0)\n",
    "    "
   ]
  },
  {
   "cell_type": "code",
   "execution_count": 206,
   "id": "a856e8a2",
   "metadata": {},
   "outputs": [],
   "source": [
    "output_df.drop(columns=['Origin','Commodity Name'],inplace=True)"
   ]
  },
  {
   "cell_type": "markdown",
   "id": "f93af626",
   "metadata": {},
   "source": [
    "# Handling Missing Values:"
   ]
  },
  {
   "cell_type": "code",
   "execution_count": 207,
   "id": "199504e1",
   "metadata": {},
   "outputs": [
    {
     "data": {
      "text/plain": [
       "City Name          0.000000\n",
       "Package            0.000000\n",
       "Variety            0.284576\n",
       "Mostly Low         5.862265\n",
       "Mostly High        5.862265\n",
       "Item Size         15.879340\n",
       "Repack             0.000000\n",
       "year               0.000000\n",
       "month              0.000000\n",
       "day                0.000000\n",
       "Price              0.000000\n",
       "PENNSYLVANIA       0.000000\n",
       "MICHIGAN           0.000000\n",
       "CALIFORNIA         0.000000\n",
       "MASSACHUSETTS      0.000000\n",
       "ILLINOIS           0.000000\n",
       "TEXAS              0.000000\n",
       "OHIO               0.000000\n",
       "CANADA             0.000000\n",
       "MARYLAND           0.000000\n",
       "NORTH CAROLINA     0.000000\n",
       "VIRGINIA           0.000000\n",
       "MEXICO             0.000000\n",
       "dtype: float64"
      ]
     },
     "execution_count": 207,
     "metadata": {},
     "output_type": "execute_result"
    }
   ],
   "source": [
    "output_df.isnull().mean()*100"
   ]
  },
  {
   "cell_type": "markdown",
   "id": "15bb8da0",
   "metadata": {},
   "source": [
    "# Performing Random Sample Imputation:"
   ]
  },
  {
   "cell_type": "code",
   "execution_count": 208,
   "id": "48491b23",
   "metadata": {},
   "outputs": [],
   "source": [
    "output_df['High_imputed']=output_df['Mostly High']"
   ]
  },
  {
   "cell_type": "code",
   "execution_count": 209,
   "id": "8f94326d",
   "metadata": {},
   "outputs": [],
   "source": [
    "output_df['High_imputed'][output_df['High_imputed'].isnull()]= output_df['Mostly High'].dropna().sample(output_df['Mostly High'].isnull().sum(),random_state=0).values"
   ]
  },
  {
   "cell_type": "code",
   "execution_count": 210,
   "id": "1a922959",
   "metadata": {},
   "outputs": [
    {
     "name": "stdout",
     "output_type": "stream",
     "text": [
      "7822.158326939476\n",
      "7794.118656826193\n"
     ]
    }
   ],
   "source": [
    "print(df['Mostly High'].var())\n",
    "print(output_df['High_imputed'].var())"
   ]
  },
  {
   "cell_type": "code",
   "execution_count": 211,
   "id": "1b4aa33e",
   "metadata": {},
   "outputs": [
    {
     "data": {
      "text/plain": [
       "Text(0.5, 1.0, 'After imputation')"
      ]
     },
     "execution_count": 211,
     "metadata": {},
     "output_type": "execute_result"
    },
    {
     "data": {
      "image/png": "[encoded data removed]",
      "text/plain": [
       "<Figure size 1400x500 with 2 Axes>"
      ]
     },
     "metadata": {},
     "output_type": "display_data"
    }
   ],
   "source": [
    "plt.figure(figsize=(14,5))\n",
    "plt.subplot(121)\n",
    "df[['Mostly High']].boxplot()\n",
    "plt.title('Before imputation')\n",
    "\n",
    "plt.subplot(122)\n",
    "output_df[['High_imputed']].boxplot()\n",
    "plt.title('After imputation')"
   ]
  },
  {
   "cell_type": "code",
   "execution_count": 212,
   "id": "333e4983",
   "metadata": {},
   "outputs": [],
   "source": [
    "output_df['Low_imputed']=output_df['Mostly Low']"
   ]
  },
  {
   "cell_type": "code",
   "execution_count": 213,
   "id": "951ce92d",
   "metadata": {},
   "outputs": [],
   "source": [
    "output_df['Low_imputed'][output_df['Low_imputed'].isnull()]= output_df['Mostly Low'].dropna().sample(output_df['Mostly Low'].isnull().sum(),random_state=0).values"
   ]
  },
  {
   "cell_type": "code",
   "execution_count": 214,
   "id": "81e3370f",
   "metadata": {},
   "outputs": [
    {
     "name": "stdout",
     "output_type": "stream",
     "text": [
      "7484.353933816899\n",
      "7442.06106121385\n"
     ]
    }
   ],
   "source": [
    "print(df['Mostly Low'].var())\n",
    "print(output_df['Low_imputed'].var())"
   ]
  },
  {
   "cell_type": "code",
   "execution_count": 215,
   "id": "f46d385c",
   "metadata": {},
   "outputs": [
    {
     "data": {
      "text/plain": [
       "Text(0.5, 1.0, 'After imputation')"
      ]
     },
     "execution_count": 215,
     "metadata": {},
     "output_type": "execute_result"
    },
    {
     "data": {
      "image/png": "[encoded data removed]",
      "text/plain": [
       "<Figure size 1400x500 with 2 Axes>"
      ]
     },
     "metadata": {},
     "output_type": "display_data"
    }
   ],
   "source": [
    "plt.figure(figsize=(14,5))\n",
    "plt.subplot(121)\n",
    "df[['Mostly Low']].boxplot()\n",
    "plt.title('Before imputation')\n",
    "\n",
    "plt.subplot(122)\n",
    "output_df[['Low_imputed']].boxplot()\n",
    "plt.title('After imputation')"
   ]
  },
  {
   "cell_type": "markdown",
   "id": "b608b4c7",
   "metadata": {},
   "source": [
    "# OUTLIERS :"
   ]
  },
  {
   "cell_type": "code",
   "execution_count": 216,
   "id": "4da12b89",
   "metadata": {},
   "outputs": [
    {
     "data": {
      "text/plain": [
       "0.1319645446591529"
      ]
     },
     "execution_count": 216,
     "metadata": {},
     "output_type": "execute_result"
    }
   ],
   "source": [
    "output_df['High_imputed'].skew()"
   ]
  },
  {
   "cell_type": "code",
   "execution_count": 217,
   "id": "f2f1ab89",
   "metadata": {},
   "outputs": [],
   "source": [
    "percen_25= output_df['High_imputed'].quantile(0.25)\n",
    "percen_75= output_df['High_imputed'].quantile(0.75)"
   ]
  },
  {
   "cell_type": "code",
   "execution_count": 218,
   "id": "febc8780",
   "metadata": {},
   "outputs": [],
   "source": [
    "IQR= percen_75- percen_25"
   ]
  },
  {
   "cell_type": "code",
   "execution_count": 219,
   "id": "28e92f69",
   "metadata": {},
   "outputs": [],
   "source": [
    "upper= percen_75+1.5*IQR\n",
    "lower= percen_25-1.5*IQR"
   ]
  },
  {
   "cell_type": "code",
   "execution_count": 220,
   "id": "1ab0c9c9",
   "metadata": {},
   "outputs": [
    {
     "data": {
      "text/html": [
       "<div>\n",
       "<style scoped>\n",
       "    .dataframe tbody tr th:only-of-type {\n",
       "        vertical-align: middle;\n",
       "    }\n",
       "\n",
       "    .dataframe tbody tr th {\n",
       "        vertical-align: top;\n",
       "    }\n",
       "\n",
       "    .dataframe thead th {\n",
       "        text-align: right;\n",
       "    }\n",
       "</style>\n",
       "<table border=\"1\" class=\"dataframe\">\n",
       "  <thead>\n",
       "    <tr style=\"text-align: right;\">\n",
       "      <th></th>\n",
       "      <th>City Name</th>\n",
       "      <th>Package</th>\n",
       "      <th>Variety</th>\n",
       "      <th>Mostly Low</th>\n",
       "      <th>Mostly High</th>\n",
       "      <th>Item Size</th>\n",
       "      <th>Repack</th>\n",
       "      <th>year</th>\n",
       "      <th>month</th>\n",
       "      <th>day</th>\n",
       "      <th>...</th>\n",
       "      <th>ILLINOIS</th>\n",
       "      <th>TEXAS</th>\n",
       "      <th>OHIO</th>\n",
       "      <th>CANADA</th>\n",
       "      <th>MARYLAND</th>\n",
       "      <th>NORTH CAROLINA</th>\n",
       "      <th>VIRGINIA</th>\n",
       "      <th>MEXICO</th>\n",
       "      <th>High_imputed</th>\n",
       "      <th>Low_imputed</th>\n",
       "    </tr>\n",
       "  </thead>\n",
       "  <tbody>\n",
       "    <tr>\n",
       "      <th>44</th>\n",
       "      <td>SAN FRANCISCO</td>\n",
       "      <td>24 inch bins</td>\n",
       "      <td>PIE TYPE</td>\n",
       "      <td>480.0</td>\n",
       "      <td>480.0</td>\n",
       "      <td>NaN</td>\n",
       "      <td>N</td>\n",
       "      <td>2016</td>\n",
       "      <td>October</td>\n",
       "      <td>15</td>\n",
       "      <td>...</td>\n",
       "      <td>0</td>\n",
       "      <td>0</td>\n",
       "      <td>0</td>\n",
       "      <td>0</td>\n",
       "      <td>0</td>\n",
       "      <td>0</td>\n",
       "      <td>0</td>\n",
       "      <td>0</td>\n",
       "      <td>480.0</td>\n",
       "      <td>480.0</td>\n",
       "    </tr>\n",
       "  </tbody>\n",
       "</table>\n",
       "<p>1 rows × 25 columns</p>\n",
       "</div>"
      ],
      "text/plain": [
       "        City Name       Package   Variety  Mostly Low  Mostly High Item Size   \n",
       "44  SAN FRANCISCO  24 inch bins  PIE TYPE       480.0        480.0       NaN  \\\n",
       "\n",
       "   Repack  year    month  day  ...  ILLINOIS  TEXAS  OHIO  CANADA  MARYLAND   \n",
       "44      N  2016  October   15  ...         0      0     0       0         0  \\\n",
       "\n",
       "    NORTH CAROLINA  VIRGINIA  MEXICO  High_imputed  Low_imputed  \n",
       "44               0         0       0         480.0        480.0  \n",
       "\n",
       "[1 rows x 25 columns]"
      ]
     },
     "execution_count": 220,
     "metadata": {},
     "output_type": "execute_result"
    }
   ],
   "source": [
    "output_df[output_df['High_imputed']>upper]"
   ]
  },
  {
   "cell_type": "code",
   "execution_count": 221,
   "id": "71e452f6",
   "metadata": {},
   "outputs": [],
   "source": [
    "output_df= output_df[output_df['High_imputed']<upper]"
   ]
  },
  {
   "cell_type": "code",
   "execution_count": 222,
   "id": "03cb1ef8",
   "metadata": {},
   "outputs": [
    {
     "data": {
      "text/plain": [
       "Text(0.5, 1.0, 'After imputation')"
      ]
     },
     "execution_count": 222,
     "metadata": {},
     "output_type": "execute_result"
    },
    {
     "data": {
      "image/png": "[encoded data removed]",
      "text/plain": [
       "<Figure size 1400x500 with 2 Axes>"
      ]
     },
     "metadata": {},
     "output_type": "display_data"
    }
   ],
   "source": [
    "plt.figure(figsize=(14,5))\n",
    "plt.subplot(121)\n",
    "output_df[['High_imputed']].boxplot()\n",
    "plt.title('Before imputation')\n",
    "\n",
    "plt.subplot(122)\n",
    "new_df[['High_imputed']].boxplot()\n",
    "plt.title('After imputation')"
   ]
  },
  {
   "cell_type": "code",
   "execution_count": 223,
   "id": "809a4cfc",
   "metadata": {},
   "outputs": [],
   "source": [
    "percen25= output_df['Low_imputed'].quantile(0.25)\n",
    "percen75= output_df['Low_imputed'].quantile(0.75)"
   ]
  },
  {
   "cell_type": "code",
   "execution_count": 224,
   "id": "1b540cae",
   "metadata": {},
   "outputs": [],
   "source": [
    "IQR= percen75-percen25\n",
    "upper_low= percen75+1.5*IQR\n",
    "lower_low= percen25-1.5*IQR"
   ]
  },
  {
   "cell_type": "code",
   "execution_count": 225,
   "id": "8e7b20c0",
   "metadata": {},
   "outputs": [
    {
     "data": {
      "text/html": [
       "<div>\n",
       "<style scoped>\n",
       "    .dataframe tbody tr th:only-of-type {\n",
       "        vertical-align: middle;\n",
       "    }\n",
       "\n",
       "    .dataframe tbody tr th {\n",
       "        vertical-align: top;\n",
       "    }\n",
       "\n",
       "    .dataframe thead th {\n",
       "        text-align: right;\n",
       "    }\n",
       "</style>\n",
       "<table border=\"1\" class=\"dataframe\">\n",
       "  <thead>\n",
       "    <tr style=\"text-align: right;\">\n",
       "      <th></th>\n",
       "      <th>City Name</th>\n",
       "      <th>Package</th>\n",
       "      <th>Variety</th>\n",
       "      <th>Mostly Low</th>\n",
       "      <th>Mostly High</th>\n",
       "      <th>Item Size</th>\n",
       "      <th>Repack</th>\n",
       "      <th>year</th>\n",
       "      <th>month</th>\n",
       "      <th>day</th>\n",
       "      <th>...</th>\n",
       "      <th>ILLINOIS</th>\n",
       "      <th>TEXAS</th>\n",
       "      <th>OHIO</th>\n",
       "      <th>CANADA</th>\n",
       "      <th>MARYLAND</th>\n",
       "      <th>NORTH CAROLINA</th>\n",
       "      <th>VIRGINIA</th>\n",
       "      <th>MEXICO</th>\n",
       "      <th>High_imputed</th>\n",
       "      <th>Low_imputed</th>\n",
       "    </tr>\n",
       "  </thead>\n",
       "  <tbody>\n",
       "    <tr>\n",
       "      <th>20</th>\n",
       "      <td>SAN FRANCISCO</td>\n",
       "      <td>24 inch bins</td>\n",
       "      <td>HOWDEN TYPE</td>\n",
       "      <td>440.0</td>\n",
       "      <td>440.0</td>\n",
       "      <td>lge</td>\n",
       "      <td>N</td>\n",
       "      <td>2016</td>\n",
       "      <td>October</td>\n",
       "      <td>22</td>\n",
       "      <td>...</td>\n",
       "      <td>0</td>\n",
       "      <td>0</td>\n",
       "      <td>0</td>\n",
       "      <td>0</td>\n",
       "      <td>0</td>\n",
       "      <td>0</td>\n",
       "      <td>0</td>\n",
       "      <td>0</td>\n",
       "      <td>440.0</td>\n",
       "      <td>440.0</td>\n",
       "    </tr>\n",
       "    <tr>\n",
       "      <th>78</th>\n",
       "      <td>SAN FRANCISCO</td>\n",
       "      <td>36 inch bins</td>\n",
       "      <td>PIE TYPE</td>\n",
       "      <td>440.0</td>\n",
       "      <td>440.0</td>\n",
       "      <td>sml</td>\n",
       "      <td>N</td>\n",
       "      <td>2017</td>\n",
       "      <td>September</td>\n",
       "      <td>23</td>\n",
       "      <td>...</td>\n",
       "      <td>0</td>\n",
       "      <td>0</td>\n",
       "      <td>0</td>\n",
       "      <td>0</td>\n",
       "      <td>0</td>\n",
       "      <td>0</td>\n",
       "      <td>0</td>\n",
       "      <td>0</td>\n",
       "      <td>440.0</td>\n",
       "      <td>440.0</td>\n",
       "    </tr>\n",
       "    <tr>\n",
       "      <th>79</th>\n",
       "      <td>SAN FRANCISCO</td>\n",
       "      <td>36 inch bins</td>\n",
       "      <td>PIE TYPE</td>\n",
       "      <td>440.0</td>\n",
       "      <td>440.0</td>\n",
       "      <td>sml</td>\n",
       "      <td>N</td>\n",
       "      <td>2017</td>\n",
       "      <td>September</td>\n",
       "      <td>30</td>\n",
       "      <td>...</td>\n",
       "      <td>0</td>\n",
       "      <td>0</td>\n",
       "      <td>0</td>\n",
       "      <td>0</td>\n",
       "      <td>0</td>\n",
       "      <td>0</td>\n",
       "      <td>0</td>\n",
       "      <td>0</td>\n",
       "      <td>440.0</td>\n",
       "      <td>440.0</td>\n",
       "    </tr>\n",
       "  </tbody>\n",
       "</table>\n",
       "<p>3 rows × 25 columns</p>\n",
       "</div>"
      ],
      "text/plain": [
       "        City Name       Package      Variety  Mostly Low  Mostly High   \n",
       "20  SAN FRANCISCO  24 inch bins  HOWDEN TYPE       440.0        440.0  \\\n",
       "78  SAN FRANCISCO  36 inch bins     PIE TYPE       440.0        440.0   \n",
       "79  SAN FRANCISCO  36 inch bins     PIE TYPE       440.0        440.0   \n",
       "\n",
       "   Item Size Repack  year      month  day  ...  ILLINOIS  TEXAS  OHIO  CANADA   \n",
       "20       lge      N  2016    October   22  ...         0      0     0       0  \\\n",
       "78       sml      N  2017  September   23  ...         0      0     0       0   \n",
       "79       sml      N  2017  September   30  ...         0      0     0       0   \n",
       "\n",
       "    MARYLAND  NORTH CAROLINA  VIRGINIA  MEXICO  High_imputed  Low_imputed  \n",
       "20         0               0         0       0         440.0        440.0  \n",
       "78         0               0         0       0         440.0        440.0  \n",
       "79         0               0         0       0         440.0        440.0  \n",
       "\n",
       "[3 rows x 25 columns]"
      ]
     },
     "execution_count": 225,
     "metadata": {},
     "output_type": "execute_result"
    }
   ],
   "source": [
    "output_df[output_df['Low_imputed']>upper_low]"
   ]
  },
  {
   "cell_type": "code",
   "execution_count": 226,
   "id": "c0aeb0a5",
   "metadata": {},
   "outputs": [],
   "source": [
    "output_df['Low_imputed']=np.where(output_df['Low_imputed']>upper_low,upper_low,\n",
    "                                  np.where(output_df['Low_imputed']<lower_low,lower_low,output_df['Low_imputed'])) "
   ]
  },
  {
   "cell_type": "markdown",
   "id": "b632ebaf",
   "metadata": {},
   "source": [
    "# Imputation on categorical data:"
   ]
  },
  {
   "cell_type": "code",
   "execution_count": 227,
   "id": "c271e8ce",
   "metadata": {},
   "outputs": [],
   "source": [
    "mode= output_df['Item Size'].mode()[0]\n",
    "output_df['Item Size']=output_df['Item Size'].fillna(mode)"
   ]
  },
  {
   "cell_type": "code",
   "execution_count": 228,
   "id": "359c761e",
   "metadata": {},
   "outputs": [
    {
     "data": {
      "text/plain": [
       "0"
      ]
     },
     "execution_count": 228,
     "metadata": {},
     "output_type": "execute_result"
    }
   ],
   "source": [
    "output_df['Item Size'].isnull().sum()"
   ]
  },
  {
   "cell_type": "code",
   "execution_count": 229,
   "id": "bfa3f34b",
   "metadata": {},
   "outputs": [],
   "source": [
    "output_df.drop(columns=['Mostly High','Mostly Low'],inplace=True)"
   ]
  },
  {
   "cell_type": "code",
   "execution_count": 230,
   "id": "7e1e9868",
   "metadata": {},
   "outputs": [],
   "source": [
    "output_df.dropna(inplace=True)"
   ]
  },
  {
   "cell_type": "code",
   "execution_count": 231,
   "id": "52ae8419",
   "metadata": {},
   "outputs": [
    {
     "data": {
      "text/plain": [
       "City Name         0\n",
       "Package           0\n",
       "Variety           0\n",
       "Item Size         0\n",
       "Repack            0\n",
       "year              0\n",
       "month             0\n",
       "day               0\n",
       "Price             0\n",
       "PENNSYLVANIA      0\n",
       "MICHIGAN          0\n",
       "CALIFORNIA        0\n",
       "MASSACHUSETTS     0\n",
       "ILLINOIS          0\n",
       "TEXAS             0\n",
       "OHIO              0\n",
       "CANADA            0\n",
       "MARYLAND          0\n",
       "NORTH CAROLINA    0\n",
       "VIRGINIA          0\n",
       "MEXICO            0\n",
       "High_imputed      0\n",
       "Low_imputed       0\n",
       "dtype: int64"
      ]
     },
     "execution_count": 231,
     "metadata": {},
     "output_type": "execute_result"
    }
   ],
   "source": [
    "output_df.isnull().sum()"
   ]
  },
  {
   "cell_type": "markdown",
   "id": "a5f4f1df",
   "metadata": {},
   "source": [
    "# FEATURE ENGINEERING:"
   ]
  },
  {
   "cell_type": "code",
   "execution_count": 232,
   "id": "e322a9fc",
   "metadata": {},
   "outputs": [],
   "source": [
    "x= output_df.drop(columns=['Price'])\n",
    "y= output_df['Price']\n",
    "\n",
    "X_train,X_test,y_train,y_test= train_test_split(x,y,test_size=0.2)"
   ]
  },
  {
   "cell_type": "code",
   "execution_count": 233,
   "id": "361a0c10",
   "metadata": {},
   "outputs": [
    {
     "data": {
      "text/plain": [
       "Index(['City Name', 'Package', 'Variety', 'Item Size', 'Repack', 'year',\n",
       "       'month', 'day', 'PENNSYLVANIA', 'MICHIGAN', 'CALIFORNIA',\n",
       "       'MASSACHUSETTS', 'ILLINOIS', 'TEXAS', 'OHIO', 'CANADA', 'MARYLAND',\n",
       "       'NORTH CAROLINA', 'VIRGINIA', 'MEXICO', 'High_imputed', 'Low_imputed'],\n",
       "      dtype='object')"
      ]
     },
     "execution_count": 233,
     "metadata": {},
     "output_type": "execute_result"
    }
   ],
   "source": [
    "X_train.columns"
   ]
  },
  {
   "cell_type": "code",
   "execution_count": 234,
   "id": "3199e79d",
   "metadata": {},
   "outputs": [],
   "source": [
    "from sklearn.preprocessing import OneHotEncoder\n",
    "from sklearn.preprocessing import OrdinalEncoder"
   ]
  },
  {
   "cell_type": "code",
   "execution_count": 235,
   "id": "80eeab16",
   "metadata": {},
   "outputs": [],
   "source": [
    "transformer= ColumnTransformer(transformers=[\n",
    "    ('trf1',OrdinalEncoder(categories=[['sml','med','med-lge','lge','xlge','jbo','exjbo']]),['Item Size']),\n",
    "    ('trf2',OneHotEncoder(sparse=False,drop='first'),['City Name','Variety','month','Repack']),\n",
    "    ('trf3',OrdinalEncoder(categories=[['36 inch bins', '24 inch bins','bins','1 1/9 bushel crates','50 lb sacks','bushel baskets',\n",
    "                                        '1/2 bushel cartons', '1 1/9 bushel cartons', '35 lb cartons', 'bushel cartons',\n",
    "                                       '40 lb cartons','50 lb cartons','22 lb cartons','20 lb cartons','each']]),['Package'])],remainder='passthrough')"
   ]
  },
  {
   "cell_type": "code",
   "execution_count": 236,
   "id": "52947993",
   "metadata": {},
   "outputs": [],
   "source": [
    "transformer.set_output(transform='pandas')\n",
    "X_train= transformer.fit_transform(X_train)\n"
   ]
  },
  {
   "cell_type": "code",
   "execution_count": 237,
   "id": "f8b14238",
   "metadata": {
    "scrolled": true
   },
   "outputs": [
    {
     "data": {
      "text/html": [
       "<div>\n",
       "<style scoped>\n",
       "    .dataframe tbody tr th:only-of-type {\n",
       "        vertical-align: middle;\n",
       "    }\n",
       "\n",
       "    .dataframe tbody tr th {\n",
       "        vertical-align: top;\n",
       "    }\n",
       "\n",
       "    .dataframe thead th {\n",
       "        text-align: right;\n",
       "    }\n",
       "</style>\n",
       "<table border=\"1\" class=\"dataframe\">\n",
       "  <thead>\n",
       "    <tr style=\"text-align: right;\">\n",
       "      <th></th>\n",
       "      <th>trf1__Item Size</th>\n",
       "      <th>trf2__City Name_BALTIMORE</th>\n",
       "      <th>trf2__City Name_BOSTON</th>\n",
       "      <th>trf2__City Name_CHICAGO</th>\n",
       "      <th>trf2__City Name_COLUMBIA</th>\n",
       "      <th>trf2__City Name_DALLAS</th>\n",
       "      <th>trf2__City Name_DETROIT</th>\n",
       "      <th>trf2__City Name_LOS ANGELES</th>\n",
       "      <th>trf2__City Name_MIAMI</th>\n",
       "      <th>trf2__City Name_NEW YORK</th>\n",
       "      <th>...</th>\n",
       "      <th>remainder__ILLINOIS</th>\n",
       "      <th>remainder__TEXAS</th>\n",
       "      <th>remainder__OHIO</th>\n",
       "      <th>remainder__CANADA</th>\n",
       "      <th>remainder__MARYLAND</th>\n",
       "      <th>remainder__NORTH CAROLINA</th>\n",
       "      <th>remainder__VIRGINIA</th>\n",
       "      <th>remainder__MEXICO</th>\n",
       "      <th>remainder__High_imputed</th>\n",
       "      <th>remainder__Low_imputed</th>\n",
       "    </tr>\n",
       "  </thead>\n",
       "  <tbody>\n",
       "    <tr>\n",
       "      <th>138</th>\n",
       "      <td>1.0</td>\n",
       "      <td>0.0</td>\n",
       "      <td>0.0</td>\n",
       "      <td>1.0</td>\n",
       "      <td>0.0</td>\n",
       "      <td>0.0</td>\n",
       "      <td>0.0</td>\n",
       "      <td>0.0</td>\n",
       "      <td>0.0</td>\n",
       "      <td>0.0</td>\n",
       "      <td>...</td>\n",
       "      <td>1</td>\n",
       "      <td>0</td>\n",
       "      <td>0</td>\n",
       "      <td>0</td>\n",
       "      <td>0</td>\n",
       "      <td>0</td>\n",
       "      <td>0</td>\n",
       "      <td>0</td>\n",
       "      <td>20.0</td>\n",
       "      <td>20.0</td>\n",
       "    </tr>\n",
       "    <tr>\n",
       "      <th>142</th>\n",
       "      <td>0.0</td>\n",
       "      <td>1.0</td>\n",
       "      <td>0.0</td>\n",
       "      <td>0.0</td>\n",
       "      <td>0.0</td>\n",
       "      <td>0.0</td>\n",
       "      <td>0.0</td>\n",
       "      <td>0.0</td>\n",
       "      <td>0.0</td>\n",
       "      <td>0.0</td>\n",
       "      <td>...</td>\n",
       "      <td>0</td>\n",
       "      <td>0</td>\n",
       "      <td>1</td>\n",
       "      <td>0</td>\n",
       "      <td>0</td>\n",
       "      <td>0</td>\n",
       "      <td>0</td>\n",
       "      <td>0</td>\n",
       "      <td>17.0</td>\n",
       "      <td>16.0</td>\n",
       "    </tr>\n",
       "    <tr>\n",
       "      <th>58</th>\n",
       "      <td>5.0</td>\n",
       "      <td>0.0</td>\n",
       "      <td>1.0</td>\n",
       "      <td>0.0</td>\n",
       "      <td>0.0</td>\n",
       "      <td>0.0</td>\n",
       "      <td>0.0</td>\n",
       "      <td>0.0</td>\n",
       "      <td>0.0</td>\n",
       "      <td>0.0</td>\n",
       "      <td>...</td>\n",
       "      <td>0</td>\n",
       "      <td>0</td>\n",
       "      <td>0</td>\n",
       "      <td>1</td>\n",
       "      <td>0</td>\n",
       "      <td>0</td>\n",
       "      <td>0</td>\n",
       "      <td>0</td>\n",
       "      <td>165.0</td>\n",
       "      <td>165.0</td>\n",
       "    </tr>\n",
       "    <tr>\n",
       "      <th>143</th>\n",
       "      <td>4.0</td>\n",
       "      <td>0.0</td>\n",
       "      <td>1.0</td>\n",
       "      <td>0.0</td>\n",
       "      <td>0.0</td>\n",
       "      <td>0.0</td>\n",
       "      <td>0.0</td>\n",
       "      <td>0.0</td>\n",
       "      <td>0.0</td>\n",
       "      <td>0.0</td>\n",
       "      <td>...</td>\n",
       "      <td>0</td>\n",
       "      <td>0</td>\n",
       "      <td>0</td>\n",
       "      <td>0</td>\n",
       "      <td>0</td>\n",
       "      <td>0</td>\n",
       "      <td>0</td>\n",
       "      <td>0</td>\n",
       "      <td>285.0</td>\n",
       "      <td>285.0</td>\n",
       "    </tr>\n",
       "    <tr>\n",
       "      <th>28</th>\n",
       "      <td>6.0</td>\n",
       "      <td>0.0</td>\n",
       "      <td>0.0</td>\n",
       "      <td>0.0</td>\n",
       "      <td>1.0</td>\n",
       "      <td>0.0</td>\n",
       "      <td>0.0</td>\n",
       "      <td>0.0</td>\n",
       "      <td>0.0</td>\n",
       "      <td>0.0</td>\n",
       "      <td>...</td>\n",
       "      <td>0</td>\n",
       "      <td>0</td>\n",
       "      <td>0</td>\n",
       "      <td>0</td>\n",
       "      <td>0</td>\n",
       "      <td>0</td>\n",
       "      <td>0</td>\n",
       "      <td>0</td>\n",
       "      <td>200.0</td>\n",
       "      <td>200.0</td>\n",
       "    </tr>\n",
       "    <tr>\n",
       "      <th>...</th>\n",
       "      <td>...</td>\n",
       "      <td>...</td>\n",
       "      <td>...</td>\n",
       "      <td>...</td>\n",
       "      <td>...</td>\n",
       "      <td>...</td>\n",
       "      <td>...</td>\n",
       "      <td>...</td>\n",
       "      <td>...</td>\n",
       "      <td>...</td>\n",
       "      <td>...</td>\n",
       "      <td>...</td>\n",
       "      <td>...</td>\n",
       "      <td>...</td>\n",
       "      <td>...</td>\n",
       "      <td>...</td>\n",
       "      <td>...</td>\n",
       "      <td>...</td>\n",
       "      <td>...</td>\n",
       "      <td>...</td>\n",
       "      <td>...</td>\n",
       "    </tr>\n",
       "    <tr>\n",
       "      <th>22</th>\n",
       "      <td>4.0</td>\n",
       "      <td>0.0</td>\n",
       "      <td>0.0</td>\n",
       "      <td>0.0</td>\n",
       "      <td>0.0</td>\n",
       "      <td>0.0</td>\n",
       "      <td>0.0</td>\n",
       "      <td>0.0</td>\n",
       "      <td>0.0</td>\n",
       "      <td>1.0</td>\n",
       "      <td>...</td>\n",
       "      <td>0</td>\n",
       "      <td>0</td>\n",
       "      <td>0</td>\n",
       "      <td>0</td>\n",
       "      <td>0</td>\n",
       "      <td>0</td>\n",
       "      <td>0</td>\n",
       "      <td>0</td>\n",
       "      <td>160.0</td>\n",
       "      <td>160.0</td>\n",
       "    </tr>\n",
       "    <tr>\n",
       "      <th>51</th>\n",
       "      <td>1.0</td>\n",
       "      <td>0.0</td>\n",
       "      <td>0.0</td>\n",
       "      <td>1.0</td>\n",
       "      <td>0.0</td>\n",
       "      <td>0.0</td>\n",
       "      <td>0.0</td>\n",
       "      <td>0.0</td>\n",
       "      <td>0.0</td>\n",
       "      <td>0.0</td>\n",
       "      <td>...</td>\n",
       "      <td>1</td>\n",
       "      <td>0</td>\n",
       "      <td>0</td>\n",
       "      <td>0</td>\n",
       "      <td>0</td>\n",
       "      <td>0</td>\n",
       "      <td>0</td>\n",
       "      <td>0</td>\n",
       "      <td>200.0</td>\n",
       "      <td>200.0</td>\n",
       "    </tr>\n",
       "    <tr>\n",
       "      <th>107</th>\n",
       "      <td>0.0</td>\n",
       "      <td>1.0</td>\n",
       "      <td>0.0</td>\n",
       "      <td>0.0</td>\n",
       "      <td>0.0</td>\n",
       "      <td>0.0</td>\n",
       "      <td>0.0</td>\n",
       "      <td>0.0</td>\n",
       "      <td>0.0</td>\n",
       "      <td>0.0</td>\n",
       "      <td>...</td>\n",
       "      <td>0</td>\n",
       "      <td>0</td>\n",
       "      <td>0</td>\n",
       "      <td>0</td>\n",
       "      <td>0</td>\n",
       "      <td>0</td>\n",
       "      <td>1</td>\n",
       "      <td>0</td>\n",
       "      <td>60.0</td>\n",
       "      <td>50.0</td>\n",
       "    </tr>\n",
       "    <tr>\n",
       "      <th>105</th>\n",
       "      <td>0.0</td>\n",
       "      <td>0.0</td>\n",
       "      <td>0.0</td>\n",
       "      <td>0.0</td>\n",
       "      <td>0.0</td>\n",
       "      <td>0.0</td>\n",
       "      <td>0.0</td>\n",
       "      <td>0.0</td>\n",
       "      <td>0.0</td>\n",
       "      <td>1.0</td>\n",
       "      <td>...</td>\n",
       "      <td>0</td>\n",
       "      <td>0</td>\n",
       "      <td>1</td>\n",
       "      <td>0</td>\n",
       "      <td>0</td>\n",
       "      <td>0</td>\n",
       "      <td>0</td>\n",
       "      <td>0</td>\n",
       "      <td>18.0</td>\n",
       "      <td>18.0</td>\n",
       "    </tr>\n",
       "    <tr>\n",
       "      <th>172</th>\n",
       "      <td>1.0</td>\n",
       "      <td>0.0</td>\n",
       "      <td>0.0</td>\n",
       "      <td>1.0</td>\n",
       "      <td>0.0</td>\n",
       "      <td>0.0</td>\n",
       "      <td>0.0</td>\n",
       "      <td>0.0</td>\n",
       "      <td>0.0</td>\n",
       "      <td>0.0</td>\n",
       "      <td>...</td>\n",
       "      <td>0</td>\n",
       "      <td>0</td>\n",
       "      <td>1</td>\n",
       "      <td>0</td>\n",
       "      <td>0</td>\n",
       "      <td>0</td>\n",
       "      <td>0</td>\n",
       "      <td>0</td>\n",
       "      <td>180.0</td>\n",
       "      <td>180.0</td>\n",
       "    </tr>\n",
       "  </tbody>\n",
       "</table>\n",
       "<p>1400 rows × 51 columns</p>\n",
       "</div>"
      ],
      "text/plain": [
       "     trf1__Item Size  trf2__City Name_BALTIMORE  trf2__City Name_BOSTON   \n",
       "138              1.0                        0.0                     0.0  \\\n",
       "142              0.0                        1.0                     0.0   \n",
       "58               5.0                        0.0                     1.0   \n",
       "143              4.0                        0.0                     1.0   \n",
       "28               6.0                        0.0                     0.0   \n",
       "..               ...                        ...                     ...   \n",
       "22               4.0                        0.0                     0.0   \n",
       "51               1.0                        0.0                     0.0   \n",
       "107              0.0                        1.0                     0.0   \n",
       "105              0.0                        0.0                     0.0   \n",
       "172              1.0                        0.0                     0.0   \n",
       "\n",
       "     trf2__City Name_CHICAGO  trf2__City Name_COLUMBIA   \n",
       "138                      1.0                       0.0  \\\n",
       "142                      0.0                       0.0   \n",
       "58                       0.0                       0.0   \n",
       "143                      0.0                       0.0   \n",
       "28                       0.0                       1.0   \n",
       "..                       ...                       ...   \n",
       "22                       0.0                       0.0   \n",
       "51                       1.0                       0.0   \n",
       "107                      0.0                       0.0   \n",
       "105                      0.0                       0.0   \n",
       "172                      1.0                       0.0   \n",
       "\n",
       "     trf2__City Name_DALLAS  trf2__City Name_DETROIT   \n",
       "138                     0.0                      0.0  \\\n",
       "142                     0.0                      0.0   \n",
       "58                      0.0                      0.0   \n",
       "143                     0.0                      0.0   \n",
       "28                      0.0                      0.0   \n",
       "..                      ...                      ...   \n",
       "22                      0.0                      0.0   \n",
       "51                      0.0                      0.0   \n",
       "107                     0.0                      0.0   \n",
       "105                     0.0                      0.0   \n",
       "172                     0.0                      0.0   \n",
       "\n",
       "     trf2__City Name_LOS ANGELES  trf2__City Name_MIAMI   \n",
       "138                          0.0                    0.0  \\\n",
       "142                          0.0                    0.0   \n",
       "58                           0.0                    0.0   \n",
       "143                          0.0                    0.0   \n",
       "28                           0.0                    0.0   \n",
       "..                           ...                    ...   \n",
       "22                           0.0                    0.0   \n",
       "51                           0.0                    0.0   \n",
       "107                          0.0                    0.0   \n",
       "105                          0.0                    0.0   \n",
       "172                          0.0                    0.0   \n",
       "\n",
       "     trf2__City Name_NEW YORK  ...  remainder__ILLINOIS  remainder__TEXAS   \n",
       "138                       0.0  ...                    1                 0  \\\n",
       "142                       0.0  ...                    0                 0   \n",
       "58                        0.0  ...                    0                 0   \n",
       "143                       0.0  ...                    0                 0   \n",
       "28                        0.0  ...                    0                 0   \n",
       "..                        ...  ...                  ...               ...   \n",
       "22                        1.0  ...                    0                 0   \n",
       "51                        0.0  ...                    1                 0   \n",
       "107                       0.0  ...                    0                 0   \n",
       "105                       1.0  ...                    0                 0   \n",
       "172                       0.0  ...                    0                 0   \n",
       "\n",
       "     remainder__OHIO  remainder__CANADA  remainder__MARYLAND   \n",
       "138                0                  0                    0  \\\n",
       "142                1                  0                    0   \n",
       "58                 0                  1                    0   \n",
       "143                0                  0                    0   \n",
       "28                 0                  0                    0   \n",
       "..               ...                ...                  ...   \n",
       "22                 0                  0                    0   \n",
       "51                 0                  0                    0   \n",
       "107                0                  0                    0   \n",
       "105                1                  0                    0   \n",
       "172                1                  0                    0   \n",
       "\n",
       "     remainder__NORTH CAROLINA  remainder__VIRGINIA  remainder__MEXICO   \n",
       "138                          0                    0                  0  \\\n",
       "142                          0                    0                  0   \n",
       "58                           0                    0                  0   \n",
       "143                          0                    0                  0   \n",
       "28                           0                    0                  0   \n",
       "..                         ...                  ...                ...   \n",
       "22                           0                    0                  0   \n",
       "51                           0                    0                  0   \n",
       "107                          0                    1                  0   \n",
       "105                          0                    0                  0   \n",
       "172                          0                    0                  0   \n",
       "\n",
       "     remainder__High_imputed  remainder__Low_imputed  \n",
       "138                     20.0                    20.0  \n",
       "142                     17.0                    16.0  \n",
       "58                     165.0                   165.0  \n",
       "143                    285.0                   285.0  \n",
       "28                     200.0                   200.0  \n",
       "..                       ...                     ...  \n",
       "22                     160.0                   160.0  \n",
       "51                     200.0                   200.0  \n",
       "107                     60.0                    50.0  \n",
       "105                     18.0                    18.0  \n",
       "172                    180.0                   180.0  \n",
       "\n",
       "[1400 rows x 51 columns]"
      ]
     },
     "execution_count": 237,
     "metadata": {},
     "output_type": "execute_result"
    }
   ],
   "source": [
    "X_train"
   ]
  },
  {
   "cell_type": "code",
   "execution_count": 238,
   "id": "b11d9439",
   "metadata": {
    "scrolled": true
   },
   "outputs": [],
   "source": [
    "X_test= transformer.transform(X_test)"
   ]
  },
  {
   "cell_type": "code",
   "execution_count": 239,
   "id": "26d622b2",
   "metadata": {},
   "outputs": [],
   "source": [
    "from sklearn.preprocessing import MinMaxScaler\n",
    "from sklearn.preprocessing import PowerTransformer\n",
    "import scipy.stats as stats"
   ]
  },
  {
   "cell_type": "markdown",
   "id": "d459dbd6",
   "metadata": {},
   "source": [
    "# Distribution"
   ]
  },
  {
   "cell_type": "code",
   "execution_count": 240,
   "id": "faafeb34",
   "metadata": {},
   "outputs": [],
   "source": [
    "transformer.set_output(transform='pandas')\n",
    "pt= PowerTransformer(method='yeo-johnson').set_output(transform='pandas')\n",
    "X_train_transformed2= pt.fit_transform(X_train+0.000001)\n",
    "X_test_transformed2= pt.transform(X_test+0.000001)"
   ]
  },
  {
   "cell_type": "code",
   "execution_count": 241,
   "id": "b1976bf7",
   "metadata": {},
   "outputs": [
    {
     "data": {
      "text/html": [
       "<div>\n",
       "<style scoped>\n",
       "    .dataframe tbody tr th:only-of-type {\n",
       "        vertical-align: middle;\n",
       "    }\n",
       "\n",
       "    .dataframe tbody tr th {\n",
       "        vertical-align: top;\n",
       "    }\n",
       "\n",
       "    .dataframe thead th {\n",
       "        text-align: right;\n",
       "    }\n",
       "</style>\n",
       "<table border=\"1\" class=\"dataframe\">\n",
       "  <thead>\n",
       "    <tr style=\"text-align: right;\">\n",
       "      <th></th>\n",
       "      <th>trf1__Item Size</th>\n",
       "      <th>trf2__City Name_BALTIMORE</th>\n",
       "      <th>trf2__City Name_BOSTON</th>\n",
       "      <th>trf2__City Name_CHICAGO</th>\n",
       "      <th>trf2__City Name_COLUMBIA</th>\n",
       "      <th>trf2__City Name_DALLAS</th>\n",
       "      <th>trf2__City Name_DETROIT</th>\n",
       "      <th>trf2__City Name_LOS ANGELES</th>\n",
       "      <th>trf2__City Name_MIAMI</th>\n",
       "      <th>trf2__City Name_NEW YORK</th>\n",
       "      <th>...</th>\n",
       "      <th>remainder__ILLINOIS</th>\n",
       "      <th>remainder__TEXAS</th>\n",
       "      <th>remainder__OHIO</th>\n",
       "      <th>remainder__CANADA</th>\n",
       "      <th>remainder__MARYLAND</th>\n",
       "      <th>remainder__NORTH CAROLINA</th>\n",
       "      <th>remainder__VIRGINIA</th>\n",
       "      <th>remainder__MEXICO</th>\n",
       "      <th>remainder__High_imputed</th>\n",
       "      <th>remainder__Low_imputed</th>\n",
       "    </tr>\n",
       "  </thead>\n",
       "  <tbody>\n",
       "    <tr>\n",
       "      <th>138</th>\n",
       "      <td>-0.108633</td>\n",
       "      <td>-0.318583</td>\n",
       "      <td>-0.487691</td>\n",
       "      <td>2.442371</td>\n",
       "      <td>-0.417728</td>\n",
       "      <td>-0.294884</td>\n",
       "      <td>-0.162459</td>\n",
       "      <td>-0.17801</td>\n",
       "      <td>-0.046341</td>\n",
       "      <td>-0.257411</td>\n",
       "      <td>...</td>\n",
       "      <td>3.166010</td>\n",
       "      <td>-0.271329</td>\n",
       "      <td>-0.263664</td>\n",
       "      <td>-0.225945</td>\n",
       "      <td>-0.231136</td>\n",
       "      <td>-0.202218</td>\n",
       "      <td>-0.194437</td>\n",
       "      <td>-0.173693</td>\n",
       "      <td>-1.371210</td>\n",
       "      <td>-1.348163</td>\n",
       "    </tr>\n",
       "    <tr>\n",
       "      <th>142</th>\n",
       "      <td>-1.162812</td>\n",
       "      <td>3.138903</td>\n",
       "      <td>-0.487691</td>\n",
       "      <td>-0.409438</td>\n",
       "      <td>-0.417728</td>\n",
       "      <td>-0.294884</td>\n",
       "      <td>-0.162459</td>\n",
       "      <td>-0.17801</td>\n",
       "      <td>-0.046341</td>\n",
       "      <td>-0.257411</td>\n",
       "      <td>...</td>\n",
       "      <td>-0.315855</td>\n",
       "      <td>-0.271329</td>\n",
       "      <td>3.792706</td>\n",
       "      <td>-0.225945</td>\n",
       "      <td>-0.231136</td>\n",
       "      <td>-0.202218</td>\n",
       "      <td>-0.194437</td>\n",
       "      <td>-0.173693</td>\n",
       "      <td>-1.434775</td>\n",
       "      <td>-1.437409</td>\n",
       "    </tr>\n",
       "    <tr>\n",
       "      <th>58</th>\n",
       "      <td>1.450334</td>\n",
       "      <td>-0.318583</td>\n",
       "      <td>2.050478</td>\n",
       "      <td>-0.409438</td>\n",
       "      <td>-0.417728</td>\n",
       "      <td>-0.294884</td>\n",
       "      <td>-0.162459</td>\n",
       "      <td>-0.17801</td>\n",
       "      <td>-0.046341</td>\n",
       "      <td>-0.257411</td>\n",
       "      <td>...</td>\n",
       "      <td>-0.315855</td>\n",
       "      <td>-0.271329</td>\n",
       "      <td>-0.263664</td>\n",
       "      <td>4.425860</td>\n",
       "      <td>-0.231136</td>\n",
       "      <td>-0.202218</td>\n",
       "      <td>-0.194437</td>\n",
       "      <td>-0.173693</td>\n",
       "      <td>0.460133</td>\n",
       "      <td>0.517711</td>\n",
       "    </tr>\n",
       "    <tr>\n",
       "      <th>143</th>\n",
       "      <td>1.200719</td>\n",
       "      <td>-0.318583</td>\n",
       "      <td>2.050478</td>\n",
       "      <td>-0.409438</td>\n",
       "      <td>-0.417728</td>\n",
       "      <td>-0.294884</td>\n",
       "      <td>-0.162459</td>\n",
       "      <td>-0.17801</td>\n",
       "      <td>-0.046341</td>\n",
       "      <td>-0.257411</td>\n",
       "      <td>...</td>\n",
       "      <td>-0.315855</td>\n",
       "      <td>-0.271329</td>\n",
       "      <td>-0.263664</td>\n",
       "      <td>-0.225945</td>\n",
       "      <td>-0.231136</td>\n",
       "      <td>-0.202218</td>\n",
       "      <td>-0.194437</td>\n",
       "      <td>-0.173693</td>\n",
       "      <td>1.484362</td>\n",
       "      <td>1.541937</td>\n",
       "    </tr>\n",
       "    <tr>\n",
       "      <th>28</th>\n",
       "      <td>1.658644</td>\n",
       "      <td>-0.318583</td>\n",
       "      <td>-0.487691</td>\n",
       "      <td>-0.409438</td>\n",
       "      <td>2.393903</td>\n",
       "      <td>-0.294884</td>\n",
       "      <td>-0.162459</td>\n",
       "      <td>-0.17801</td>\n",
       "      <td>-0.046341</td>\n",
       "      <td>-0.257411</td>\n",
       "      <td>...</td>\n",
       "      <td>-0.315855</td>\n",
       "      <td>-0.271329</td>\n",
       "      <td>-0.263664</td>\n",
       "      <td>-0.225945</td>\n",
       "      <td>-0.231136</td>\n",
       "      <td>-0.202218</td>\n",
       "      <td>-0.194437</td>\n",
       "      <td>-0.173693</td>\n",
       "      <td>0.781293</td>\n",
       "      <td>0.839901</td>\n",
       "    </tr>\n",
       "    <tr>\n",
       "      <th>...</th>\n",
       "      <td>...</td>\n",
       "      <td>...</td>\n",
       "      <td>...</td>\n",
       "      <td>...</td>\n",
       "      <td>...</td>\n",
       "      <td>...</td>\n",
       "      <td>...</td>\n",
       "      <td>...</td>\n",
       "      <td>...</td>\n",
       "      <td>...</td>\n",
       "      <td>...</td>\n",
       "      <td>...</td>\n",
       "      <td>...</td>\n",
       "      <td>...</td>\n",
       "      <td>...</td>\n",
       "      <td>...</td>\n",
       "      <td>...</td>\n",
       "      <td>...</td>\n",
       "      <td>...</td>\n",
       "      <td>...</td>\n",
       "      <td>...</td>\n",
       "    </tr>\n",
       "    <tr>\n",
       "      <th>22</th>\n",
       "      <td>1.200719</td>\n",
       "      <td>-0.318583</td>\n",
       "      <td>-0.487691</td>\n",
       "      <td>-0.409438</td>\n",
       "      <td>-0.417728</td>\n",
       "      <td>-0.294884</td>\n",
       "      <td>-0.162459</td>\n",
       "      <td>-0.17801</td>\n",
       "      <td>-0.046341</td>\n",
       "      <td>3.884836</td>\n",
       "      <td>...</td>\n",
       "      <td>-0.315855</td>\n",
       "      <td>-0.271329</td>\n",
       "      <td>-0.263664</td>\n",
       "      <td>-0.225945</td>\n",
       "      <td>-0.231136</td>\n",
       "      <td>-0.202218</td>\n",
       "      <td>-0.194437</td>\n",
       "      <td>-0.173693</td>\n",
       "      <td>0.412269</td>\n",
       "      <td>0.469602</td>\n",
       "    </tr>\n",
       "    <tr>\n",
       "      <th>51</th>\n",
       "      <td>-0.108633</td>\n",
       "      <td>-0.318583</td>\n",
       "      <td>-0.487691</td>\n",
       "      <td>2.442371</td>\n",
       "      <td>-0.417728</td>\n",
       "      <td>-0.294884</td>\n",
       "      <td>-0.162459</td>\n",
       "      <td>-0.17801</td>\n",
       "      <td>-0.046341</td>\n",
       "      <td>-0.257411</td>\n",
       "      <td>...</td>\n",
       "      <td>3.166010</td>\n",
       "      <td>-0.271329</td>\n",
       "      <td>-0.263664</td>\n",
       "      <td>-0.225945</td>\n",
       "      <td>-0.231136</td>\n",
       "      <td>-0.202218</td>\n",
       "      <td>-0.194437</td>\n",
       "      <td>-0.173693</td>\n",
       "      <td>0.781293</td>\n",
       "      <td>0.839901</td>\n",
       "    </tr>\n",
       "    <tr>\n",
       "      <th>107</th>\n",
       "      <td>-1.162812</td>\n",
       "      <td>3.138903</td>\n",
       "      <td>-0.487691</td>\n",
       "      <td>-0.409438</td>\n",
       "      <td>-0.417728</td>\n",
       "      <td>-0.294884</td>\n",
       "      <td>-0.162459</td>\n",
       "      <td>-0.17801</td>\n",
       "      <td>-0.046341</td>\n",
       "      <td>-0.257411</td>\n",
       "      <td>...</td>\n",
       "      <td>-0.315855</td>\n",
       "      <td>-0.271329</td>\n",
       "      <td>-0.263664</td>\n",
       "      <td>-0.225945</td>\n",
       "      <td>-0.231136</td>\n",
       "      <td>-0.202218</td>\n",
       "      <td>5.143052</td>\n",
       "      <td>-0.173693</td>\n",
       "      <td>-0.714890</td>\n",
       "      <td>-0.818290</td>\n",
       "    </tr>\n",
       "    <tr>\n",
       "      <th>105</th>\n",
       "      <td>-1.162812</td>\n",
       "      <td>-0.318583</td>\n",
       "      <td>-0.487691</td>\n",
       "      <td>-0.409438</td>\n",
       "      <td>-0.417728</td>\n",
       "      <td>-0.294884</td>\n",
       "      <td>-0.162459</td>\n",
       "      <td>-0.17801</td>\n",
       "      <td>-0.046341</td>\n",
       "      <td>3.884836</td>\n",
       "      <td>...</td>\n",
       "      <td>-0.315855</td>\n",
       "      <td>-0.271329</td>\n",
       "      <td>3.792706</td>\n",
       "      <td>-0.225945</td>\n",
       "      <td>-0.231136</td>\n",
       "      <td>-0.202218</td>\n",
       "      <td>-0.194437</td>\n",
       "      <td>-0.173693</td>\n",
       "      <td>-1.413176</td>\n",
       "      <td>-1.391868</td>\n",
       "    </tr>\n",
       "    <tr>\n",
       "      <th>172</th>\n",
       "      <td>-0.108633</td>\n",
       "      <td>-0.318583</td>\n",
       "      <td>-0.487691</td>\n",
       "      <td>2.442371</td>\n",
       "      <td>-0.417728</td>\n",
       "      <td>-0.294884</td>\n",
       "      <td>-0.162459</td>\n",
       "      <td>-0.17801</td>\n",
       "      <td>-0.046341</td>\n",
       "      <td>-0.257411</td>\n",
       "      <td>...</td>\n",
       "      <td>-0.315855</td>\n",
       "      <td>-0.271329</td>\n",
       "      <td>3.792706</td>\n",
       "      <td>-0.225945</td>\n",
       "      <td>-0.231136</td>\n",
       "      <td>-0.202218</td>\n",
       "      <td>-0.194437</td>\n",
       "      <td>-0.173693</td>\n",
       "      <td>0.600596</td>\n",
       "      <td>0.658753</td>\n",
       "    </tr>\n",
       "  </tbody>\n",
       "</table>\n",
       "<p>1400 rows × 51 columns</p>\n",
       "</div>"
      ],
      "text/plain": [
       "     trf1__Item Size  trf2__City Name_BALTIMORE  trf2__City Name_BOSTON   \n",
       "138        -0.108633                  -0.318583               -0.487691  \\\n",
       "142        -1.162812                   3.138903               -0.487691   \n",
       "58          1.450334                  -0.318583                2.050478   \n",
       "143         1.200719                  -0.318583                2.050478   \n",
       "28          1.658644                  -0.318583               -0.487691   \n",
       "..               ...                        ...                     ...   \n",
       "22          1.200719                  -0.318583               -0.487691   \n",
       "51         -0.108633                  -0.318583               -0.487691   \n",
       "107        -1.162812                   3.138903               -0.487691   \n",
       "105        -1.162812                  -0.318583               -0.487691   \n",
       "172        -0.108633                  -0.318583               -0.487691   \n",
       "\n",
       "     trf2__City Name_CHICAGO  trf2__City Name_COLUMBIA   \n",
       "138                 2.442371                 -0.417728  \\\n",
       "142                -0.409438                 -0.417728   \n",
       "58                 -0.409438                 -0.417728   \n",
       "143                -0.409438                 -0.417728   \n",
       "28                 -0.409438                  2.393903   \n",
       "..                       ...                       ...   \n",
       "22                 -0.409438                 -0.417728   \n",
       "51                  2.442371                 -0.417728   \n",
       "107                -0.409438                 -0.417728   \n",
       "105                -0.409438                 -0.417728   \n",
       "172                 2.442371                 -0.417728   \n",
       "\n",
       "     trf2__City Name_DALLAS  trf2__City Name_DETROIT   \n",
       "138               -0.294884                -0.162459  \\\n",
       "142               -0.294884                -0.162459   \n",
       "58                -0.294884                -0.162459   \n",
       "143               -0.294884                -0.162459   \n",
       "28                -0.294884                -0.162459   \n",
       "..                      ...                      ...   \n",
       "22                -0.294884                -0.162459   \n",
       "51                -0.294884                -0.162459   \n",
       "107               -0.294884                -0.162459   \n",
       "105               -0.294884                -0.162459   \n",
       "172               -0.294884                -0.162459   \n",
       "\n",
       "     trf2__City Name_LOS ANGELES  trf2__City Name_MIAMI   \n",
       "138                     -0.17801              -0.046341  \\\n",
       "142                     -0.17801              -0.046341   \n",
       "58                      -0.17801              -0.046341   \n",
       "143                     -0.17801              -0.046341   \n",
       "28                      -0.17801              -0.046341   \n",
       "..                           ...                    ...   \n",
       "22                      -0.17801              -0.046341   \n",
       "51                      -0.17801              -0.046341   \n",
       "107                     -0.17801              -0.046341   \n",
       "105                     -0.17801              -0.046341   \n",
       "172                     -0.17801              -0.046341   \n",
       "\n",
       "     trf2__City Name_NEW YORK  ...  remainder__ILLINOIS  remainder__TEXAS   \n",
       "138                 -0.257411  ...             3.166010         -0.271329  \\\n",
       "142                 -0.257411  ...            -0.315855         -0.271329   \n",
       "58                  -0.257411  ...            -0.315855         -0.271329   \n",
       "143                 -0.257411  ...            -0.315855         -0.271329   \n",
       "28                  -0.257411  ...            -0.315855         -0.271329   \n",
       "..                        ...  ...                  ...               ...   \n",
       "22                   3.884836  ...            -0.315855         -0.271329   \n",
       "51                  -0.257411  ...             3.166010         -0.271329   \n",
       "107                 -0.257411  ...            -0.315855         -0.271329   \n",
       "105                  3.884836  ...            -0.315855         -0.271329   \n",
       "172                 -0.257411  ...            -0.315855         -0.271329   \n",
       "\n",
       "     remainder__OHIO  remainder__CANADA  remainder__MARYLAND   \n",
       "138        -0.263664          -0.225945            -0.231136  \\\n",
       "142         3.792706          -0.225945            -0.231136   \n",
       "58         -0.263664           4.425860            -0.231136   \n",
       "143        -0.263664          -0.225945            -0.231136   \n",
       "28         -0.263664          -0.225945            -0.231136   \n",
       "..               ...                ...                  ...   \n",
       "22         -0.263664          -0.225945            -0.231136   \n",
       "51         -0.263664          -0.225945            -0.231136   \n",
       "107        -0.263664          -0.225945            -0.231136   \n",
       "105         3.792706          -0.225945            -0.231136   \n",
       "172         3.792706          -0.225945            -0.231136   \n",
       "\n",
       "     remainder__NORTH CAROLINA  remainder__VIRGINIA  remainder__MEXICO   \n",
       "138                  -0.202218            -0.194437          -0.173693  \\\n",
       "142                  -0.202218            -0.194437          -0.173693   \n",
       "58                   -0.202218            -0.194437          -0.173693   \n",
       "143                  -0.202218            -0.194437          -0.173693   \n",
       "28                   -0.202218            -0.194437          -0.173693   \n",
       "..                         ...                  ...                ...   \n",
       "22                   -0.202218            -0.194437          -0.173693   \n",
       "51                   -0.202218            -0.194437          -0.173693   \n",
       "107                  -0.202218             5.143052          -0.173693   \n",
       "105                  -0.202218            -0.194437          -0.173693   \n",
       "172                  -0.202218            -0.194437          -0.173693   \n",
       "\n",
       "     remainder__High_imputed  remainder__Low_imputed  \n",
       "138                -1.371210               -1.348163  \n",
       "142                -1.434775               -1.437409  \n",
       "58                  0.460133                0.517711  \n",
       "143                 1.484362                1.541937  \n",
       "28                  0.781293                0.839901  \n",
       "..                       ...                     ...  \n",
       "22                  0.412269                0.469602  \n",
       "51                  0.781293                0.839901  \n",
       "107                -0.714890               -0.818290  \n",
       "105                -1.413176               -1.391868  \n",
       "172                 0.600596                0.658753  \n",
       "\n",
       "[1400 rows x 51 columns]"
      ]
     },
     "execution_count": 241,
     "metadata": {},
     "output_type": "execute_result"
    }
   ],
   "source": [
    "X_train_transformed2"
   ]
  },
  {
   "cell_type": "code",
   "execution_count": 242,
   "id": "2a3d0526",
   "metadata": {},
   "outputs": [
    {
     "data": {
      "text/plain": [
       "Text(0.5, 1.0, 'qq plot')"
      ]
     },
     "execution_count": 242,
     "metadata": {},
     "output_type": "execute_result"
    },
    {
     "data": {
      "image/png": "[encoded data removed]",
      "text/plain": [
       "<Figure size 1400x500 with 2 Axes>"
      ]
     },
     "metadata": {},
     "output_type": "display_data"
    }
   ],
   "source": [
    "plt.figure(figsize=(14,5))\n",
    "plt.subplot(121)\n",
    "sns.distplot(X_train_transformed2['remainder__Low_imputed'])\n",
    "plt.title('distplot')\n",
    "\n",
    "plt.subplot(122)\n",
    "stats.probplot(X_train_transformed2['remainder__Low_imputed'],dist=\"norm\",plot=plt)\n",
    "plt.title('qq plot')"
   ]
  },
  {
   "cell_type": "markdown",
   "id": "18a32df1",
   "metadata": {},
   "source": [
    "# SCALING:"
   ]
  },
  {
   "cell_type": "code",
   "execution_count": 243,
   "id": "44d200ff",
   "metadata": {},
   "outputs": [],
   "source": [
    "scaler=MinMaxScaler()\n",
    "X_train_scaled = scaler.fit_transform(X_train_transformed2)\n",
    "X_test_scaled= scaler.transform(X_test_transformed2)"
   ]
  },
  {
   "cell_type": "markdown",
   "id": "0efb3fc4",
   "metadata": {},
   "source": [
    "# Applying Anova"
   ]
  },
  {
   "cell_type": "code",
   "execution_count": 244,
   "id": "14072fb6",
   "metadata": {},
   "outputs": [],
   "source": [
    "from sklearn.feature_selection import f_regression, SelectKBest\n",
    "fs = SelectKBest(score_func=f_regression,k=30)\n",
    "fit = fs.fit(X_train_scaled,y_train)"
   ]
  },
  {
   "cell_type": "code",
   "execution_count": 245,
   "id": "14c581c4",
   "metadata": {},
   "outputs": [
    {
     "data": {
      "text/plain": [
       "Index(['trf1__Item Size', 'trf2__City Name_BALTIMORE',\n",
       "       'trf2__City Name_BOSTON', 'trf2__City Name_CHICAGO',\n",
       "       'trf2__City Name_LOS ANGELES', 'trf2__City Name_SAN FRANCISCO',\n",
       "       'trf2__City Name_ST. LOUIS', 'trf2__Variety_BLUE TYPE',\n",
       "       'trf2__Variety_CINDERELLA', 'trf2__Variety_FAIRYTALE',\n",
       "       'trf2__Variety_HOWDEN TYPE', 'trf2__Variety_KNUCKLE HEAD',\n",
       "       'trf2__Variety_MINIATURE', 'trf2__Variety_MIXED HEIRLOOM VARIETIES',\n",
       "       'trf2__month_July', 'trf2__month_June', 'trf2__month_November',\n",
       "       'trf2__Repack_N', 'trf3__Package', 'remainder__year',\n",
       "       'remainder__PENNSYLVANIA', 'remainder__MICHIGAN',\n",
       "       'remainder__CALIFORNIA', 'remainder__MASSACHUSETTS', 'remainder__TEXAS',\n",
       "       'remainder__OHIO', 'remainder__NORTH CAROLINA', 'remainder__MEXICO',\n",
       "       'remainder__High_imputed', 'remainder__Low_imputed'],\n",
       "      dtype='object')"
      ]
     },
     "execution_count": 245,
     "metadata": {},
     "output_type": "execute_result"
    }
   ],
   "source": [
    "X_train.columns[fs.get_support()]"
   ]
  },
  {
   "cell_type": "code",
   "execution_count": 246,
   "id": "0758e0c8",
   "metadata": {},
   "outputs": [],
   "source": [
    "X_train_trans=fs.transform(X_train)\n",
    "X_test_trans=fs.transform(X_test)"
   ]
  },
  {
   "cell_type": "markdown",
   "id": "a23ea86b",
   "metadata": {},
   "source": [
    "# POLYNOMIAL REGRESSON"
   ]
  },
  {
   "cell_type": "code",
   "execution_count": 247,
   "id": "b6e94304",
   "metadata": {},
   "outputs": [],
   "source": [
    "from sklearn.preprocessing import PolynomialFeatures\n",
    "from sklearn.linear_model import LinearRegression"
   ]
  },
  {
   "cell_type": "code",
   "execution_count": 248,
   "id": "b85f7952",
   "metadata": {},
   "outputs": [],
   "source": [
    "degree = 2\n",
    "\n",
    "# Create polynomial features\n",
    "poly = PolynomialFeatures(degree=degree)\n",
    "X_train_trans1= poly.fit_transform(X_train_trans)\n",
    "X_test_trans1=poly.transform(X_test_trans)\n",
    "# Create and fit a polynomial regression model\n"
   ]
  },
  {
   "cell_type": "code",
   "execution_count": 249,
   "id": "28596cd9",
   "metadata": {},
   "outputs": [
    {
     "data": {
      "text/html": [
       "<style>#sk-container-id-3 {color: black;background-color: white;}#sk-container-id-3 pre{padding: 0;}#sk-container-id-3 div.sk-toggleable {background-color: white;}#sk-container-id-3 label.sk-toggleable__label {cursor: pointer;display: block;width: 100%;margin-bottom: 0;padding: 0.3em;box-sizing: border-box;text-align: center;}#sk-container-id-3 label.sk-toggleable__label-arrow:before {content: \"▸\";float: left;margin-right: 0.25em;color: #696969;}#sk-container-id-3 label.sk-toggleable__label-arrow:hover:before {color: black;}#sk-container-id-3 div.sk-estimator:hover label.sk-toggleable__label-arrow:before {color: black;}#sk-container-id-3 div.sk-toggleable__content {max-height: 0;max-width: 0;overflow: hidden;text-align: left;background-color: #f0f8ff;}#sk-container-id-3 div.sk-toggleable__content pre {margin: 0.2em;color: black;border-radius: 0.25em;background-color: #f0f8ff;}#sk-container-id-3 input.sk-toggleable__control:checked~div.sk-toggleable__content {max-height: 200px;max-width: 100%;overflow: auto;}#sk-container-id-3 input.sk-toggleable__control:checked~label.sk-toggleable__label-arrow:before {content: \"▾\";}#sk-container-id-3 div.sk-estimator input.sk-toggleable__control:checked~label.sk-toggleable__label {background-color: #d4ebff;}#sk-container-id-3 div.sk-label input.sk-toggleable__control:checked~label.sk-toggleable__label {background-color: #d4ebff;}#sk-container-id-3 input.sk-hidden--visually {border: 0;clip: rect(1px 1px 1px 1px);clip: rect(1px, 1px, 1px, 1px);height: 1px;margin: -1px;overflow: hidden;padding: 0;position: absolute;width: 1px;}#sk-container-id-3 div.sk-estimator {font-family: monospace;background-color: #f0f8ff;border: 1px dotted black;border-radius: 0.25em;box-sizing: border-box;margin-bottom: 0.5em;}#sk-container-id-3 div.sk-estimator:hover {background-color: #d4ebff;}#sk-container-id-3 div.sk-parallel-item::after {content: \"\";width: 100%;border-bottom: 1px solid gray;flex-grow: 1;}#sk-container-id-3 div.sk-label:hover label.sk-toggleable__label {background-color: #d4ebff;}#sk-container-id-3 div.sk-serial::before {content: \"\";position: absolute;border-left: 1px solid gray;box-sizing: border-box;top: 0;bottom: 0;left: 50%;z-index: 0;}#sk-container-id-3 div.sk-serial {display: flex;flex-direction: column;align-items: center;background-color: white;padding-right: 0.2em;padding-left: 0.2em;position: relative;}#sk-container-id-3 div.sk-item {position: relative;z-index: 1;}#sk-container-id-3 div.sk-parallel {display: flex;align-items: stretch;justify-content: center;background-color: white;position: relative;}#sk-container-id-3 div.sk-item::before, #sk-container-id-3 div.sk-parallel-item::before {content: \"\";position: absolute;border-left: 1px solid gray;box-sizing: border-box;top: 0;bottom: 0;left: 50%;z-index: -1;}#sk-container-id-3 div.sk-parallel-item {display: flex;flex-direction: column;z-index: 1;position: relative;background-color: white;}#sk-container-id-3 div.sk-parallel-item:first-child::after {align-self: flex-end;width: 50%;}#sk-container-id-3 div.sk-parallel-item:last-child::after {align-self: flex-start;width: 50%;}#sk-container-id-3 div.sk-parallel-item:only-child::after {width: 0;}#sk-container-id-3 div.sk-dashed-wrapped {border: 1px dashed gray;margin: 0 0.4em 0.5em 0.4em;box-sizing: border-box;padding-bottom: 0.4em;background-color: white;}#sk-container-id-3 div.sk-label label {font-family: monospace;font-weight: bold;display: inline-block;line-height: 1.2em;}#sk-container-id-3 div.sk-label-container {text-align: center;}#sk-container-id-3 div.sk-container {/* jupyter's `normalize.less` sets `[hidden] { display: none; }` but bootstrap.min.css set `[hidden] { display: none !important; }` so we also need the `!important` here to be able to override the default hidden behavior on the sphinx rendered scikit-learn.org. See: https://github.com/scikit-learn/scikit-learn/issues/21755 */display: inline-block !important;position: relative;}#sk-container-id-3 div.sk-text-repr-fallback {display: none;}</style><div id=\"sk-container-id-3\" class=\"sk-top-container\"><div class=\"sk-text-repr-fallback\"><pre>LinearRegression()</pre><b>In a Jupyter environment, please rerun this cell to show the HTML representation or trust the notebook. <br />On GitHub, the HTML representation is unable to render, please try loading this page with nbviewer.org.</b></div><div class=\"sk-container\" hidden><div class=\"sk-item\"><div class=\"sk-estimator sk-toggleable\"><input class=\"sk-toggleable__control sk-hidden--visually\" id=\"sk-estimator-id-3\" type=\"checkbox\" checked><label for=\"sk-estimator-id-3\" class=\"sk-toggleable__label sk-toggleable__label-arrow\">LinearRegression</label><div class=\"sk-toggleable__content\"><pre>LinearRegression()</pre></div></div></div></div></div>"
      ],
      "text/plain": [
       "LinearRegression()"
      ]
     },
     "execution_count": 249,
     "metadata": {},
     "output_type": "execute_result"
    }
   ],
   "source": [
    "lr= LinearRegression()\n",
    "lr.fit(X_train_trans1,y_train)"
   ]
  },
  {
   "cell_type": "code",
   "execution_count": 250,
   "id": "146682b2",
   "metadata": {},
   "outputs": [
    {
     "data": {
      "text/plain": [
       "0.9856581683356546"
      ]
     },
     "execution_count": 250,
     "metadata": {},
     "output_type": "execute_result"
    }
   ],
   "source": [
    "from sklearn.metrics import r2_score\n",
    "y_pred=lr.predict(X_test_trans1)\n",
    "r2 = r2_score(y_test, y_pred)\n",
    "r2"
   ]
  },
  {
   "cell_type": "code",
   "execution_count": 251,
   "id": "a8fe1343",
   "metadata": {},
   "outputs": [
    {
     "data": {
      "text/plain": [
       "0.9698137705627857"
      ]
     },
     "execution_count": 251,
     "metadata": {},
     "output_type": "execute_result"
    }
   ],
   "source": [
    "from sklearn.model_selection import cross_val_score\n",
    "np.mean(cross_val_score(lr,X_train_trans1,y_train))"
   ]
  },
  {
   "cell_type": "code",
   "execution_count": 252,
   "id": "c8fe5091",
   "metadata": {},
   "outputs": [
    {
     "data": {
      "text/plain": [
       "10.370370980452815"
      ]
     },
     "execution_count": 252,
     "metadata": {},
     "output_type": "execute_result"
    }
   ],
   "source": [
    "from sklearn.metrics import mean_squared_error\n",
    "from math import sqrt\n",
    "rms = sqrt(mean_squared_error(y_test, y_pred))\n",
    "rms"
   ]
  },
  {
   "cell_type": "markdown",
   "id": "a23f99ff",
   "metadata": {},
   "source": [
    "# Decision Tree Regressor"
   ]
  },
  {
   "cell_type": "code",
   "execution_count": 253,
   "id": "b7f52071",
   "metadata": {},
   "outputs": [],
   "source": [
    "from sklearn.tree import DecisionTreeRegressor"
   ]
  },
  {
   "cell_type": "code",
   "execution_count": 254,
   "id": "bac55089",
   "metadata": {},
   "outputs": [
    {
     "data": {
      "text/plain": [
       "0.9723107280203466"
      ]
     },
     "execution_count": 254,
     "metadata": {},
     "output_type": "execute_result"
    }
   ],
   "source": [
    "DT=DecisionTreeRegressor()\n",
    "DT.fit(X_train_trans1,y_train)\n",
    "y_pred2=DT.predict(X_test_trans1)\n",
    "r2 = r2_score(y_test, y_pred2)\n",
    "r2"
   ]
  },
  {
   "cell_type": "code",
   "execution_count": 255,
   "id": "e9387e48",
   "metadata": {},
   "outputs": [
    {
     "data": {
      "text/plain": [
       "0.9284015773171671"
      ]
     },
     "execution_count": 255,
     "metadata": {},
     "output_type": "execute_result"
    }
   ],
   "source": [
    "from sklearn.model_selection import cross_val_score\n",
    "np.mean(cross_val_score(DT,X_train_trans1,y_train))"
   ]
  },
  {
   "cell_type": "code",
   "execution_count": 256,
   "id": "99feb8ab",
   "metadata": {},
   "outputs": [
    {
     "data": {
      "text/plain": [
       "14.40946150006125"
      ]
     },
     "execution_count": 256,
     "metadata": {},
     "output_type": "execute_result"
    }
   ],
   "source": [
    "rms = sqrt(mean_squared_error(y_test, y_pred2))\n",
    "rms"
   ]
  },
  {
   "cell_type": "markdown",
   "id": "40af29da",
   "metadata": {},
   "source": [
    "# RandomForestRegressor"
   ]
  },
  {
   "cell_type": "code",
   "execution_count": 257,
   "id": "7fd4d30a",
   "metadata": {},
   "outputs": [],
   "source": [
    "from sklearn.ensemble import RandomForestRegressor"
   ]
  },
  {
   "cell_type": "code",
   "execution_count": 258,
   "id": "78b41d01",
   "metadata": {},
   "outputs": [
    {
     "data": {
      "text/plain": [
       "0.9725698322202629"
      ]
     },
     "execution_count": 258,
     "metadata": {},
     "output_type": "execute_result"
    }
   ],
   "source": [
    "rf=RandomForestRegressor(n_estimators= 100)\n",
    "rf.fit(X_train_trans1,y_train)\n",
    "y_pred3=rf.predict(X_test_trans1)\n",
    "r2 = r2_score(y_test, y_pred3)\n",
    "r2"
   ]
  },
  {
   "cell_type": "code",
   "execution_count": 259,
   "id": "aa70a30c",
   "metadata": {},
   "outputs": [
    {
     "data": {
      "text/plain": [
       "0.9630044884719757"
      ]
     },
     "execution_count": 259,
     "metadata": {},
     "output_type": "execute_result"
    }
   ],
   "source": [
    "from sklearn.model_selection import cross_val_score\n",
    "np.mean(cross_val_score(rf,X_train_trans1,y_train))"
   ]
  },
  {
   "cell_type": "code",
   "execution_count": 260,
   "id": "970bf6fb",
   "metadata": {},
   "outputs": [
    {
     "data": {
      "text/plain": [
       "14.341884292862105"
      ]
     },
     "execution_count": 260,
     "metadata": {},
     "output_type": "execute_result"
    }
   ],
   "source": [
    "rms = sqrt(mean_squared_error(y_test, y_pred3))\n",
    "rms"
   ]
  },
  {
   "cell_type": "code",
   "execution_count": null,
   "id": "c47935ba",
   "metadata": {},
   "outputs": [],
   "source": []
  },
  {
   "cell_type": "code",
   "execution_count": null,
   "id": "01ee3f8d",
   "metadata": {},
   "outputs": [],
   "source": []
  }
 ],
 "metadata": {
  "kernelspec": {
   "display_name": "Python 3 (ipykernel)",
   "language": "python",
   "name": "python3"
  },
  "language_info": {
   "codemirror_mode": {
    "name": "ipython",
    "version": 3
   },
   "file_extension": ".py",
   "mimetype": "text/x-python",
   "name": "python",
   "nbconvert_exporter": "python",
   "pygments_lexer": "ipython3",
   "version": "3.11.5"
  }
 },
 "nbformat": 4,
 "nbformat_minor": 5
}
